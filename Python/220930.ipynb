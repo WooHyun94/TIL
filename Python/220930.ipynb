{
 "cells": [
  {
   "cell_type": "markdown",
   "metadata": {},
   "source": [
    "## EDA (탐색적 데이터 분석)\n",
    "- 데이터에서 분석에 필요한 여러가지 통계량을 계산하고, 시각화를 통해서 이를 확인하는 작업\n",
    "- 나만의 EDA process를 구축하는 것이 중요"
   ]
  },
  {
   "cell_type": "markdown",
   "metadata": {},
   "source": [
    "    1. 해당 데이터를 보고 어떤 인사이트를 이끌어내고 싶은지? (분석의 목표)\n",
    "    2. 데이터에 대한 여러가지 특성을 어떻게 파악하는지? (분석 방법론)\n",
    "    3. 지금까지 배운 오픈소스 라이버르리들을 사용하여 EDA를 어떻게 수행하는지? (분석을 위한 프로그래밍)"
   ]
  },
  {
   "cell_type": "markdown",
   "metadata": {},
   "source": []
  }
 ],
 "metadata": {
  "language_info": {
   "name": "python"
  },
  "orig_nbformat": 4
 },
 "nbformat": 4,
 "nbformat_minor": 2
}
