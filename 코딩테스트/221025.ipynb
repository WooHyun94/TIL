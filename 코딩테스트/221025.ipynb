{
 "cells": [
  {
   "cell_type": "code",
   "execution_count": 2,
   "metadata": {},
   "outputs": [],
   "source": [
    "graph = {1 : [2, 3], 2 : [1, 4, 5], 3 : [1, 4], 4 : [2, 3], 5 : [2]}"
   ]
  },
  {
   "cell_type": "code",
   "execution_count": 15,
   "metadata": {},
   "outputs": [
    {
     "data": {
      "text/plain": [
       "[1, 3, 4, 2, 5]"
      ]
     },
     "execution_count": 15,
     "metadata": {},
     "output_type": "execute_result"
    }
   ],
   "source": [
    "def dfs(graph, start_vertex):\n",
    "    visited = []\n",
    "    need_visit = []\n",
    "    need_visit.append(start_vertex)\n",
    "    while need_visit:\n",
    "        now = need_visit.pop()\n",
    "        if now not in visited:\n",
    "            visited.append(now)\n",
    "            need_visit.extend(graph[now])\n",
    "    return visited\n",
    "dfs(graph, 1)"
   ]
  },
  {
   "cell_type": "code",
   "execution_count": 16,
   "metadata": {},
   "outputs": [
    {
     "data": {
      "text/plain": [
       "[1, 2, 3, 4, 5]"
      ]
     },
     "execution_count": 16,
     "metadata": {},
     "output_type": "execute_result"
    }
   ],
   "source": [
    "def bfs(graph, start_vertex):\n",
    "    visited = []\n",
    "    need_visit = []\n",
    "    need_visit.append(start_vertex)\n",
    "    while need_visit:\n",
    "        now = need_visit.pop(0)\n",
    "        if now not in visited:\n",
    "            visited.append(now)\n",
    "            need_visit.extend(graph[now])\n",
    "    return visited\n",
    "bfs(graph, 1)"
   ]
  },
  {
   "cell_type": "code",
   "execution_count": 20,
   "metadata": {},
   "outputs": [
    {
     "name": "stdout",
     "output_type": "stream",
     "text": [
      "1 1 \n",
      "1 2 \n",
      "1 3 \n",
      "2 1 \n",
      "2 2 \n",
      "2 3 \n",
      "3 1 \n",
      "3 2 \n",
      "3 3 \n",
      "end\n"
     ]
    }
   ],
   "source": [
    "def dfs(L, n, k, p):\n",
    "    if L == k:\n",
    "        for x in p:\n",
    "            print(x, end = ' ')\n",
    "        print()\n",
    "    else:\n",
    "        for i in range(1, n + 1):\n",
    "            p.append(i)\n",
    "            dfs(L + 1, n, k, p)\n",
    "            p.pop()\n",
    "def solution(n, k):\n",
    "    dfs(0, n, k, [])\n",
    "    return 'end'\n",
    "print(solution(3, 2))"
   ]
  },
  {
   "cell_type": "code",
   "execution_count": 29,
   "metadata": {},
   "outputs": [
    {
     "name": "stdout",
     "output_type": "stream",
     "text": [
      "[0, 1, 1, 0, 0, 0]\n",
      "2번 방문\n",
      "------------------------------\n",
      "[0, 1, 1, 1, 0, 0]\n",
      "3번 방문\n",
      "------------------------------\n",
      "[0, 1, 1, 1, 1, 0]\n",
      "4번 방문\n",
      "------------------------------\n",
      "[0, 1, 1, 1, 1, 1]\n",
      "5번 방문\n",
      "------------------------------\n",
      "[0, 1, 1, 0, 0, 1]\n",
      "5번 방문\n",
      "------------------------------\n",
      "[0, 1, 0, 1, 0, 0]\n",
      "3번 방문\n",
      "------------------------------\n",
      "[0, 1, 0, 1, 1, 0]\n",
      "4번 방문\n",
      "------------------------------\n",
      "[0, 1, 1, 1, 1, 0]\n",
      "2번 방문\n",
      "------------------------------\n",
      "[0, 1, 1, 1, 1, 1]\n",
      "5번 방문\n",
      "------------------------------\n",
      "[0, 1, 0, 1, 1, 1]\n",
      "5번 방문\n",
      "------------------------------\n",
      "[0, 1, 0, 0, 1, 0]\n",
      "4번 방문\n",
      "------------------------------\n",
      "[0, 1, 1, 0, 1, 0]\n",
      "2번 방문\n",
      "------------------------------\n",
      "[0, 1, 1, 1, 1, 0]\n",
      "3번 방문\n",
      "------------------------------\n",
      "[0, 1, 1, 0, 1, 1]\n",
      "5번 방문\n",
      "------------------------------\n",
      "[0, 1, 0, 0, 1, 1]\n",
      "5번 방문\n",
      "------------------------------\n",
      "6\n"
     ]
    }
   ],
   "source": [
    "graph = [[], [0, 0, 1, 1, 1, 0], [0, 1, 0, 1, 0, 1], [0, 0, 0, 0, 1, 0], [0, 0, 1, 0, 0 ,1], []]\n",
    "ch = [0, 1, 0, 0, 0, 0]\n",
    "def dfs(v, n, ch, graph):\n",
    "    global answer\n",
    "    if v == n:\n",
    "        answer += 1\n",
    "    else:\n",
    "        for i in range(1, n + 1):\n",
    "            if graph[v][i] == 1 and ch[i] == 0:\n",
    "                ch[i] = 1\n",
    "                print(ch)\n",
    "                print(f'{i}번 방문\\n' + '-'*30)\n",
    "                dfs(i, n, ch, graph)\n",
    "                ch[i] = 0\n",
    "answer = 0\n",
    "\n",
    "def solution(start, end, ch, graph):\n",
    "    dfs(start, end, ch, graph)\n",
    "    return answer\n",
    "print(solution(1, 5, ch, graph))"
   ]
  },
  {
   "cell_type": "code",
   "execution_count": 35,
   "metadata": {},
   "outputs": [
    {
     "name": "stdout",
     "output_type": "stream",
     "text": [
      "5\n"
     ]
    }
   ],
   "source": [
    "n , edge = (11, [[1, 2], [1, 4], [2, 3], [4, 5], [5, 6], [7, 8], [7, 10], [8, 9], [10, 11]])\n",
    "ch = [1 for x in range(n + 1)]\n",
    "\n",
    "def dfs(start, ch, graph):\n",
    "    for i in graph[start]:\n",
    "        if ch[i] == 1:\n",
    "            ch[i] = 0\n",
    "            dfs(i, ch, graph)\n",
    "\n",
    "def solution(n, ch, edge):\n",
    "    graph = [[] for _ in range(n + 1)]\n",
    "    for a, b in edge:\n",
    "        graph[a].append(b)\n",
    "        graph[b].append(a)\n",
    "    ch[0] = 0\n",
    "    ch[1] = 1\n",
    "    dfs(1, ch, graph)\n",
    "    return sum(ch)\n",
    "print(solution(n, ch, edge))"
   ]
  },
  {
   "cell_type": "markdown",
   "metadata": {},
   "source": [
    "## 백준 2920 - 음계"
   ]
  },
  {
   "cell_type": "code",
   "execution_count": 53,
   "metadata": {},
   "outputs": [
    {
     "name": "stdout",
     "output_type": "stream",
     "text": [
      "ascending\n",
      "descending\n",
      "mixed\n"
     ]
    }
   ],
   "source": [
    "l = '-12345678'\n",
    "\n",
    "def solution(s, l):\n",
    "    s = ''.join(s.split())\n",
    "    now = 0\n",
    "    p = m = 0\n",
    "    for i in range(1, len(s)):\n",
    "        if l.find(s[i]) - l.find(s[now]) > 0:\n",
    "            p += 1\n",
    "        elif l.find(s[i]) - l.find(s[now]) < 0:\n",
    "            m += 1\n",
    "        now = i\n",
    "    if p == len(s) - 1:\n",
    "        return 'ascending'\n",
    "    elif m == len(s) - 1:\n",
    "        return 'descending'\n",
    "    else:\n",
    "        return 'mixed'\n",
    "print(solution('1 2 3 4 5 6 7 8', l))\n",
    "print(solution('8 7 6 5 4 3 2 1', l))\n",
    "print(solution('8 1 7 2 6 3 5 4', l))\n"
   ]
  },
  {
   "cell_type": "code",
   "execution_count": 55,
   "metadata": {},
   "outputs": [
    {
     "name": "stdout",
     "output_type": "stream",
     "text": [
      "21\n"
     ]
    }
   ],
   "source": [
    "n, m = map(int, input().split())\n",
    "s = list(map(int, input().split()))\n",
    "def solution(n, m, s):\n",
    "    answer = 0\n",
    "    for i in range(len(s)):\n",
    "        for j in range(len(s)):\n",
    "            for k in range(len(s)):\n",
    "                if i != j != k and s[i] + s[j] + s[k] <= 21:\n",
    "                    answer = max(answer, s[i] + s[j] + s[k])\n",
    "    return answer\n",
    "print(solution(n, m, s))"
   ]
  },
  {
   "cell_type": "code",
   "execution_count": null,
   "metadata": {},
   "outputs": [],
   "source": []
  }
 ],
 "metadata": {
  "kernelspec": {
   "display_name": "Python 3.8.13 ('kdt')",
   "language": "python",
   "name": "python3"
  },
  "language_info": {
   "codemirror_mode": {
    "name": "ipython",
    "version": 3
   },
   "file_extension": ".py",
   "mimetype": "text/x-python",
   "name": "python",
   "nbconvert_exporter": "python",
   "pygments_lexer": "ipython3",
   "version": "3.8.13"
  },
  "orig_nbformat": 4,
  "vscode": {
   "interpreter": {
    "hash": "7804435f03a357a321c78a28075d8371c0686055268c0f28257257161c9d8dd3"
   }
  }
 },
 "nbformat": 4,
 "nbformat_minor": 2
}
