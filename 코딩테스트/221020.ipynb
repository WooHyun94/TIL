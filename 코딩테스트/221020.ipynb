{
 "cells": [
  {
   "cell_type": "markdown",
   "metadata": {},
   "source": [
    "## 선택 정렬"
   ]
  },
  {
   "cell_type": "code",
   "execution_count": 2,
   "metadata": {},
   "outputs": [
    {
     "name": "stdout",
     "output_type": "stream",
     "text": [
      "[1, 2, 3, 4, 5, 6, 7]\n"
     ]
    }
   ],
   "source": [
    "def solution(s):\n",
    "    answer = []\n",
    "    for i in range(len(s)):\n",
    "        now = i\n",
    "        min_index = i\n",
    "        for j in range(i, len(s)):\n",
    "            if s[min_index] > s[j]:\n",
    "                min_index = j\n",
    "        s[now], s[min_index] = s[min_index], s[now]\n",
    "    answer = s\n",
    "    return answer\n",
    "print(solution([5, 4, 2, 7, 3, 6, 1]))"
   ]
  },
  {
   "cell_type": "markdown",
   "metadata": {},
   "source": [
    "## 버블 정렬"
   ]
  },
  {
   "cell_type": "code",
   "execution_count": 4,
   "metadata": {},
   "outputs": [
    {
     "name": "stdout",
     "output_type": "stream",
     "text": [
      "[1, 2, 3, 4, 5, 6, 7]\n"
     ]
    }
   ],
   "source": [
    "def solution(s):\n",
    "    answer = []\n",
    "\n",
    "    for i in range(len(s)):\n",
    "        for j in range(len(s) - i - 1):\n",
    "            if s[j] > s[j + 1]:\n",
    "                s[j], s[j+1] = s[j+1], s[j]\n",
    "    answer = s\n",
    "    return answer\n",
    "print(solution([5, 4, 2, 7, 3, 6, 1]))"
   ]
  },
  {
   "cell_type": "markdown",
   "metadata": {},
   "source": [
    "## 삽입 정렬"
   ]
  },
  {
   "cell_type": "code",
   "execution_count": 5,
   "metadata": {},
   "outputs": [
    {
     "name": "stdout",
     "output_type": "stream",
     "text": [
      "[1, 2, 3, 4, 5, 6, 7]\n"
     ]
    }
   ],
   "source": [
    "def solution(s):\n",
    "    answer = []\n",
    "    for i in range(1, len(s)):\n",
    "        for j in range(i, 0, -1):\n",
    "            if s[j - 1] > s[j]:\n",
    "                s[j - 1], s[j] = s[j], s[j - 1]\n",
    "    answer = s\n",
    "    return answer\n",
    "print(solution([5, 4, 2, 7, 3, 6, 1]))"
   ]
  },
  {
   "cell_type": "markdown",
   "metadata": {},
   "source": [
    "## 동적 계획법 (Dynamic Programming)과 분할 정복(Divide and Conquer)\n",
    "\n",
    "1. 정의 \n",
    "    - 동적계획법\n",
    "        - 입력 크기가 작은 부분 문제들을 해결한 후, 해당 부분 문제의 해를 활용해서, 보다 큰 크기의 부분 문제를 해결, 최종적으로 전체 문제를 해결하는 알고리즘\n",
    "        - 상향식 접근법으로, 가장 최하위 해답을 구한 후, 이를 저장하고, 해당 결과값을 이용해서 상위 문제를 풀어가는 방식\n",
    "        - Memoization 기법을 사용함\n",
    "            - 메모이제이션이란: 프로그램 실행 시 이전에 계산한 값을 저장하여, 다시 계산하지 않도록 하여 전체 실행 속도를 빠르게 하는 기술 \n",
    "        - 문제를 잘게 쪼갤 때, 부분 문제는 중복되어, 재활용됨\n",
    "    - 분할 정복\n",
    "        - 문제를 나눌 수 없을 때까지 나누어서 각각을 풀면서 다시 합병하여 문제의 답을 얻는 알고리즘\n",
    "        - 하양식 접근법으로, 상위의 해답을 구하기 위해, 아래로 내려가면서 하위의 해답을 구하는 방식\n",
    "            - 일반적으로 재귀함수로 구현\n",
    "        - 문제를 잘게 쪼갤 때, 부분 문제는 서로 중복되지 않음\n",
    "            - 예: 병합 정렬, 퀵 정렬 등"
   ]
  },
  {
   "cell_type": "code",
   "execution_count": 14,
   "metadata": {},
   "outputs": [
    {
     "data": {
      "text/plain": [
       "1346269"
      ]
     },
     "execution_count": 14,
     "metadata": {},
     "output_type": "execute_result"
    }
   ],
   "source": [
    "def fibo(n):\n",
    "    if n > 1:\n",
    "        return fibo(n-1) + fibo(n-2)\n",
    "    else:\n",
    "        return 1\n",
    "fibo(30)"
   ]
  },
  {
   "cell_type": "code",
   "execution_count": 16,
   "metadata": {},
   "outputs": [
    {
     "data": {
      "text/plain": [
       "13"
      ]
     },
     "execution_count": 16,
     "metadata": {},
     "output_type": "execute_result"
    }
   ],
   "source": [
    "def fibo_dp(n):\n",
    "    cache = [0 for i in range(n + 1)]\n",
    "    cache[0] = 0\n",
    "    cache[1] = 1\n",
    "\n",
    "    for index in range(2, n + 1):\n",
    "        cache[index] = cache[index - 1] + cache[index - 2]\n",
    "    return cache[n]\n",
    "print(fibo_dp(int(input())))\n"
   ]
  },
  {
   "cell_type": "markdown",
   "metadata": {},
   "source": [
    "### 코드업 : 2640"
   ]
  },
  {
   "cell_type": "code",
   "execution_count": 33,
   "metadata": {},
   "outputs": [
    {
     "name": "stdout",
     "output_type": "stream",
     "text": [
      "1024\n"
     ]
    }
   ],
   "source": [
    "def f(n, k):\n",
    "    cache = [0 for i in range(k + 1)]\n",
    "    cache[0] = 1\n",
    "    for i in range(1, k + 1):\n",
    "        cache[i] = cache[i-1] * n\n",
    "    return cache[k] % 1000000007\n",
    "a, b = map(int, input().split())\n",
    "print(f(a, b))"
   ]
  },
  {
   "cell_type": "code",
   "execution_count": null,
   "metadata": {},
   "outputs": [],
   "source": []
  },
  {
   "cell_type": "code",
   "execution_count": null,
   "metadata": {},
   "outputs": [],
   "source": []
  }
 ],
 "metadata": {
  "kernelspec": {
   "display_name": "Python 3.8.13 ('kdt')",
   "language": "python",
   "name": "python3"
  },
  "language_info": {
   "codemirror_mode": {
    "name": "ipython",
    "version": 3
   },
   "file_extension": ".py",
   "mimetype": "text/x-python",
   "name": "python",
   "nbconvert_exporter": "python",
   "pygments_lexer": "ipython3",
   "version": "3.8.13"
  },
  "orig_nbformat": 4,
  "vscode": {
   "interpreter": {
    "hash": "7804435f03a357a321c78a28075d8371c0686055268c0f28257257161c9d8dd3"
   }
  }
 },
 "nbformat": 4,
 "nbformat_minor": 2
}
