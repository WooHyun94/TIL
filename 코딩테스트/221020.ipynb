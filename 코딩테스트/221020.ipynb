{
 "cells": [
  {
   "cell_type": "markdown",
   "metadata": {},
   "source": [
    "## 선택 정렬"
   ]
  },
  {
   "cell_type": "code",
   "execution_count": 2,
   "metadata": {},
   "outputs": [
    {
     "name": "stdout",
     "output_type": "stream",
     "text": [
      "[1, 2, 3, 4, 5, 6, 7]\n"
     ]
    }
   ],
   "source": [
    "def solution(s):\n",
    "    answer = []\n",
    "    for i in range(len(s)):\n",
    "        now = i\n",
    "        min_index = i\n",
    "        for j in range(i, len(s)):\n",
    "            if s[min_index] > s[j]:\n",
    "                min_index = j\n",
    "        s[now], s[min_index] = s[min_index], s[now]\n",
    "    answer = s\n",
    "    return answer\n",
    "print(solution([5, 4, 2, 7, 3, 6, 1]))"
   ]
  },
  {
   "cell_type": "markdown",
   "metadata": {},
   "source": [
    "## 버블 정렬"
   ]
  },
  {
   "cell_type": "code",
   "execution_count": 4,
   "metadata": {},
   "outputs": [
    {
     "name": "stdout",
     "output_type": "stream",
     "text": [
      "[1, 2, 3, 4, 5, 6, 7]\n"
     ]
    }
   ],
   "source": [
    "def solution(s):\n",
    "    answer = []\n",
    "\n",
    "    for i in range(len(s)):\n",
    "        for j in range(len(s) - i - 1):\n",
    "            if s[j] > s[j + 1]:\n",
    "                s[j], s[j+1] = s[j+1], s[j]\n",
    "    answer = s\n",
    "    return answer\n",
    "print(solution([5, 4, 2, 7, 3, 6, 1]))"
   ]
  },
  {
   "cell_type": "markdown",
   "metadata": {},
   "source": [
    "## 삽입 정렬"
   ]
  },
  {
   "cell_type": "code",
   "execution_count": 5,
   "metadata": {},
   "outputs": [
    {
     "name": "stdout",
     "output_type": "stream",
     "text": [
      "[1, 2, 3, 4, 5, 6, 7]\n"
     ]
    }
   ],
   "source": [
    "def solution(s):\n",
    "    answer = []\n",
    "    for i in range(1, len(s)):\n",
    "        for j in range(i, 0, -1):\n",
    "            if s[j - 1] > s[j]:\n",
    "                s[j - 1], s[j] = s[j], s[j - 1]\n",
    "    answer = s\n",
    "    return answer\n",
    "print(solution([5, 4, 2, 7, 3, 6, 1]))"
   ]
  },
  {
   "cell_type": "code",
   "execution_count": null,
   "metadata": {},
   "outputs": [],
   "source": []
  }
 ],
 "metadata": {
  "kernelspec": {
   "display_name": "Python 3.8.13 ('kdt')",
   "language": "python",
   "name": "python3"
  },
  "language_info": {
   "codemirror_mode": {
    "name": "ipython",
    "version": 3
   },
   "file_extension": ".py",
   "mimetype": "text/x-python",
   "name": "python",
   "nbconvert_exporter": "python",
   "pygments_lexer": "ipython3",
   "version": "3.8.13"
  },
  "orig_nbformat": 4,
  "vscode": {
   "interpreter": {
    "hash": "7804435f03a357a321c78a28075d8371c0686055268c0f28257257161c9d8dd3"
   }
  }
 },
 "nbformat": 4,
 "nbformat_minor": 2
}
