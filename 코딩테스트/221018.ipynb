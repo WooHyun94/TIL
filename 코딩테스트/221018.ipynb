{
 "cells": [
  {
   "cell_type": "markdown",
   "metadata": {},
   "source": [
    "## 알고리즘 복잡도 표현 방법\n",
    "\n",
    "1. 알고리즘 복잡도 계산이 필요한 이유\n",
    "- 하나의 문제를 푸는 알고리즘은 다양할 수 있음\n",
    "    - 정수의 절대값 구하기\n",
    "        - 방법1: 정수값을 제곱한 값에 다시 루트를 씌우기\n",
    "        - 방법2: 정수가 음수인지 확인해서, 음수일 때만, -1을 곱하기\n",
    "\n",
    "        다양한 알고리즘 중 어느 알고리즘이 더 좋은지를 분석하기 위해, 복잡도를 정의하고 계산함"
   ]
  },
  {
   "cell_type": "markdown",
   "metadata": {},
   "source": [
    "2. 알고리즘 복잡도 계산 항목\n",
    "    1. 시간 복잡도: 알고리즘 실행 속도\n",
    "    2. 공간 복잡도: 알고리즘이 사용하는 메모리 사이즈\n",
    "\n",
    "        가장 중요한 시간 복잡도를 꼭 이해하고 계산할 수 있어야 함"
   ]
  },
  {
   "cell_type": "markdown",
   "metadata": {},
   "source": [
    "알고리즘 시간 복잡도의 주요 요소\n",
    "\n",
    "    반복문이 지배합니다."
   ]
  },
  {
   "cell_type": "markdown",
   "metadata": {},
   "source": [
    "알고리즘 성능 표기법\n",
    "\n",
    "    - Big O (빅-오) 표기법: O(N)\n",
    "        - 알고리즘 최악의 실행 시간을 표기\n",
    "        - 가장 많이 / 일반적으로 사용함\n",
    "        - 아무리 최악의 상황이라도, 이정도의 성능은 보장한다는 의미이기 때문\n",
    "    - 오메가 표기법\n",
    "        - 알고리즘의 최상의 실행 시간을 표기\n",
    "    - 세타 표기법:\n",
    "        - 알고리즘 평균 실행 시간을 표기"
   ]
  },
  {
   "cell_type": "markdown",
   "metadata": {},
   "source": []
  }
 ],
 "metadata": {
  "kernelspec": {
   "display_name": "Python 3.8.13 ('kdt')",
   "language": "python",
   "name": "python3"
  },
  "language_info": {
   "name": "python",
   "version": "3.8.13"
  },
  "orig_nbformat": 4,
  "vscode": {
   "interpreter": {
    "hash": "7804435f03a357a321c78a28075d8371c0686055268c0f28257257161c9d8dd3"
   }
  }
 },
 "nbformat": 4,
 "nbformat_minor": 2
}
