{
 "cells": [
  {
   "cell_type": "markdown",
   "metadata": {},
   "source": [
    "## 퀵 정렬 (O(N * logN))"
   ]
  },
  {
   "cell_type": "code",
   "execution_count": 14,
   "metadata": {},
   "outputs": [
    {
     "name": "stdout",
     "output_type": "stream",
     "text": [
      "[1, 2, 3, 4, 5, 6, 7, 8]\n"
     ]
    }
   ],
   "source": [
    "def quick_sort(s):\n",
    "    if len(s)<=1:\n",
    "        return s\n",
    "    left = []\n",
    "    right = []\n",
    "    pivot = s[0]\n",
    "\n",
    "    for i in range(1, len(s)):\n",
    "        if pivot > s[i]:\n",
    "            left.append(s[i])\n",
    "        else:\n",
    "            right.append(s[i])\n",
    "    return quick_sort(left) + [s[0]] + quick_sort(right)\n",
    "print(quick_sort([2, 1, 8, 7, 5, 6, 3, 4]))"
   ]
  },
  {
   "cell_type": "markdown",
   "metadata": {},
   "source": [
    "## 병합 정렬 (O(N * logN))"
   ]
  },
  {
   "cell_type": "code",
   "execution_count": 15,
   "metadata": {},
   "outputs": [
    {
     "name": "stdout",
     "output_type": "stream",
     "text": [
      "[1, 2, 3, 4, 5, 6, 7, 8]\n"
     ]
    }
   ],
   "source": [
    "def merge_sort(s):\n",
    "    if len(s) <= 1:\n",
    "        return s\n",
    "    pivot = len(s) // 2\n",
    "    left = merge_sort(s[ : pivot])\n",
    "    right = merge_sort(s[pivot : ])\n",
    "\n",
    "    merge_list = []\n",
    "\n",
    "    left_index = 0\n",
    "    right_index = 0\n",
    "\n",
    "    while left_index < len(left) and right_index < len(right):\n",
    "        if left[left_index] < right[right_index]:\n",
    "            merge_list.append(left[left_index])\n",
    "            left_index+=1\n",
    "        else:\n",
    "            merge_list.append(right[right_index])\n",
    "            right_index+=1\n",
    "    merge_list += (left[left_index : ])\n",
    "    merge_list += (right[right_index : ])\n",
    "    return merge_list\n",
    "print(merge_sort([2, 1, 8, 7, 5, 6, 3, 4]))\n",
    "    "
   ]
  },
  {
   "cell_type": "markdown",
   "metadata": {},
   "source": [
    "## 실시간 강의"
   ]
  },
  {
   "cell_type": "code",
   "execution_count": 26,
   "metadata": {},
   "outputs": [
    {
     "name": "stdout",
     "output_type": "stream",
     "text": [
      "3\n",
      "2\n"
     ]
    }
   ],
   "source": [
    "def solution(meeting):\n",
    "    et = 0\n",
    "    answer = 0\n",
    "    meeting.sort(key = lambda v : (v[1], v[0]))\n",
    "    for x in meeting:\n",
    "        if x[0] >= et:\n",
    "            et = x[1]\n",
    "            answer += 1\n",
    "    return answer\n",
    "\n",
    "print(solution([[1,4], [2,3], [3,5], [4,6], [5,7]]))\n",
    "print(solution([[3, 3], [1, 3], [2, 4]]))\n"
   ]
  },
  {
   "cell_type": "code",
   "execution_count": 28,
   "metadata": {},
   "outputs": [
    {
     "name": "stdout",
     "output_type": "stream",
     "text": [
      "NO\n"
     ]
    }
   ],
   "source": [
    "def solution(s):\n",
    "    l = []\n",
    "    for i in s:\n",
    "        if i == '(':\n",
    "            l.append('(')\n",
    "        else:\n",
    "            try:\n",
    "                l.pop() \n",
    "            except:\n",
    "                return 'NO'\n",
    "    if len(l) > 0:\n",
    "        return \"NO\"\n",
    "    else:\n",
    "        return 'YES'\n",
    "print(solution('(())())'))"
   ]
  },
  {
   "cell_type": "code",
   "execution_count": 29,
   "metadata": {},
   "outputs": [
    {
     "name": "stdout",
     "output_type": "stream",
     "text": [
      "EFLM\n"
     ]
    }
   ],
   "source": [
    "def solution(s):\n",
    "    l = []\n",
    "    answer = ''\n",
    "    for i in s:\n",
    "        if len(l)==0 and i!='(' and i!=')':\n",
    "            answer+=i\n",
    "        elif i == '(':\n",
    "            l.append('(')\n",
    "        elif i == ')':\n",
    "            l.pop()\n",
    "        else:\n",
    "            pass\n",
    "\n",
    "    return answer\n",
    "print(solution('(A(BC)D)EF(G(H)(IJ)K)LM(N)'))"
   ]
  },
  {
   "cell_type": "code",
   "execution_count": 32,
   "metadata": {},
   "outputs": [
    {
     "name": "stdout",
     "output_type": "stream",
     "text": [
      "EFLM\n"
     ]
    }
   ],
   "source": [
    "def solution(s):\n",
    "    l = []\n",
    "    for i in s:\n",
    "        if i == ')':\n",
    "            a = l.pop()\n",
    "            while a!='(':\n",
    "                a=l.pop()\n",
    "        else:\n",
    "            l.append(i)\n",
    "    return ''.join(l)\n",
    "print(solution('(A(BC)D)EF(G(H)(IJ)K)LM(N)'))"
   ]
  },
  {
   "cell_type": "code",
   "execution_count": 38,
   "metadata": {},
   "outputs": [
    {
     "name": "stdout",
     "output_type": "stream",
     "text": [
      "97\n"
     ]
    }
   ],
   "source": [
    "from collections import deque\n",
    "def solution(n, k):\n",
    "    d = deque([i for i in range(1, n+1)])\n",
    "    while len(d)>1:\n",
    "        for i in range(k - 1):\n",
    "            d.append(d.popleft())\n",
    "        d.popleft()\n",
    "    return d.popleft()\n",
    "print(solution(100, 8))\n",
    "\n"
   ]
  },
  {
   "cell_type": "code",
   "execution_count": 40,
   "metadata": {},
   "outputs": [
    {
     "name": "stdout",
     "output_type": "stream",
     "text": [
      "7\n"
     ]
    }
   ],
   "source": [
    "from collections import deque\n",
    "def solution(n, k):\n",
    "    answer = 0\n",
    "    d = deque([i for i in range(1, n+1)])\n",
    "    while len(d):\n",
    "        for i in range(k - 1):\n",
    "            d.append(d.popleft())\n",
    "        answer = d.popleft()\n",
    "    return answer\n",
    "print(solution(8, 3))\n",
    "\n"
   ]
  },
  {
   "cell_type": "code",
   "execution_count": 55,
   "metadata": {},
   "outputs": [
    {
     "name": "stdout",
     "output_type": "stream",
     "text": [
      "56\n"
     ]
    }
   ],
   "source": [
    "def solution(nums, k):\n",
    "    answer = 0\n",
    "    sumM = 0\n",
    "    for i in range(k):\n",
    "        sumM += nums[i]\n",
    "    answer = sumM\n",
    "    left = 0\n",
    "    for right in range(k, len(nums)):\n",
    "        sumM += (nums[right] - nums[left])\n",
    "        left += 1\n",
    "        answer = max(answer, sumM)\n",
    "    return answer\n",
    "print(solution([12, 15, 11, 20, 25, 10, 20, 19, 13, 15], 3))\n",
    "\n",
    "    "
   ]
  },
  {
   "cell_type": "code",
   "execution_count": 59,
   "metadata": {},
   "outputs": [
    {
     "name": "stdout",
     "output_type": "stream",
     "text": [
      "26\n"
     ]
    }
   ],
   "source": [
    "def solution(nums, k):\n",
    "    sum_min = 0\n",
    "    for i in range(len(nums) - k):\n",
    "        sum_min += nums[i]\n",
    "    answer = sum_min\n",
    "    left = 0\n",
    "    for right in range(len(nums) - k, len(nums)):\n",
    "        sum_min += (nums[right] - nums[left])\n",
    "        left += 1\n",
    "        answer = min(answer, sum_min)\n",
    "    return sum(nums) - answer\n",
    "print(solution([1, 2, 3, 5, 6, 7, 1, 3, 9], 5))"
   ]
  },
  {
   "cell_type": "code",
   "execution_count": null,
   "metadata": {},
   "outputs": [],
   "source": []
  },
  {
   "cell_type": "code",
   "execution_count": null,
   "metadata": {},
   "outputs": [],
   "source": []
  }
 ],
 "metadata": {
  "kernelspec": {
   "display_name": "Python 3.8.13 ('kdt')",
   "language": "python",
   "name": "python3"
  },
  "language_info": {
   "codemirror_mode": {
    "name": "ipython",
    "version": 3
   },
   "file_extension": ".py",
   "mimetype": "text/x-python",
   "name": "python",
   "nbconvert_exporter": "python",
   "pygments_lexer": "ipython3",
   "version": "3.8.13"
  },
  "orig_nbformat": 4,
  "vscode": {
   "interpreter": {
    "hash": "7804435f03a357a321c78a28075d8371c0686055268c0f28257257161c9d8dd3"
   }
  }
 },
 "nbformat": 4,
 "nbformat_minor": 2
}
