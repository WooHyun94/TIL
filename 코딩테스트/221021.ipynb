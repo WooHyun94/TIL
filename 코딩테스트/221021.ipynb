{
 "cells": [
  {
   "cell_type": "markdown",
   "metadata": {},
   "source": [
    "## 퀵 정렬 (O(N * logN))"
   ]
  },
  {
   "cell_type": "code",
   "execution_count": 7,
   "metadata": {},
   "outputs": [
    {
     "name": "stdout",
     "output_type": "stream",
     "text": [
      "[1, 2, 3, 4, 5, 6, 7, 8]\n"
     ]
    }
   ],
   "source": [
    "def quick_sort(s):\n",
    "    if len(s)<=1:\n",
    "        return s\n",
    "    left = []\n",
    "    right = []\n",
    "    pivot = s[0]\n",
    "\n",
    "    for i in range(1, len(s)):\n",
    "        if pivot > s[i]:\n",
    "            left.append(s[i])\n",
    "        else:\n",
    "            right.append(s[i])\n",
    "    return quick_sort(left) + [s[0]] + quick_sort(right)\n",
    "print(quick_sort([2, 1, 8, 7, 5, 6, 3, 4]))"
   ]
  },
  {
   "cell_type": "markdown",
   "metadata": {},
   "source": [
    "## 병합 정렬 (O(N * logN))"
   ]
  },
  {
   "cell_type": "code",
   "execution_count": 11,
   "metadata": {},
   "outputs": [
    {
     "name": "stdout",
     "output_type": "stream",
     "text": [
      "[1, 2, 3, 4, 5, 6, 7, 8]\n"
     ]
    }
   ],
   "source": [
    "def merge_sort(s):\n",
    "    if len(s) <= 1:\n",
    "        return s\n",
    "    pivot = len(s) // 2\n",
    "    left = merge_sort(s[ : pivot])\n",
    "    right = merge_sort(s[pivot : ])\n",
    "\n",
    "    merge_list = []\n",
    "\n",
    "    left_index = 0\n",
    "    right_index = 0\n",
    "\n",
    "    while left_index < len(left) and right_index < len(right):\n",
    "        if left[left_index] < right[right_index]:\n",
    "            merge_list.append(left[left_index])\n",
    "            left_index+=1\n",
    "        else:\n",
    "            merge_list.append(right[right_index])\n",
    "            right_index+=1\n",
    "    merge_list += (left[left_index : ])\n",
    "    merge_list += (right[right_index : ])\n",
    "    return merge_list\n",
    "print(merge_sort([2, 1, 8, 7, 5, 6, 3, 4]))\n",
    "    "
   ]
  },
  {
   "cell_type": "code",
   "execution_count": null,
   "metadata": {},
   "outputs": [],
   "source": []
  },
  {
   "cell_type": "code",
   "execution_count": null,
   "metadata": {},
   "outputs": [],
   "source": []
  }
 ],
 "metadata": {
  "kernelspec": {
   "display_name": "Python 3.8.13 ('kdt')",
   "language": "python",
   "name": "python3"
  },
  "language_info": {
   "codemirror_mode": {
    "name": "ipython",
    "version": 3
   },
   "file_extension": ".py",
   "mimetype": "text/x-python",
   "name": "python",
   "nbconvert_exporter": "python",
   "pygments_lexer": "ipython3",
   "version": "3.8.13"
  },
  "orig_nbformat": 4,
  "vscode": {
   "interpreter": {
    "hash": "7804435f03a357a321c78a28075d8371c0686055268c0f28257257161c9d8dd3"
   }
  }
 },
 "nbformat": 4,
 "nbformat_minor": 2
}
