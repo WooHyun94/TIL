{
 "cells": [
  {
   "cell_type": "markdown",
   "metadata": {},
   "source": [
    "알고리즘1: 1부터 n까지의 합을 구하는 알고리즘1\n",
    "\n",
    "    - 합을 기록할 변수를 만들고 0을 저장\n",
    "    - n을 1부터 1씩 증가하면서 반복\n",
    "    - 반복문 안에서 합을 기록할 변수에 1씩 증가된 값을 더함\n",
    "    - 반복이 끝나면 합을 출력"
   ]
  },
  {
   "cell_type": "code",
   "execution_count": 4,
   "metadata": {},
   "outputs": [
    {
     "data": {
      "text/plain": [
       "5050"
      ]
     },
     "execution_count": 4,
     "metadata": {},
     "output_type": "execute_result"
    }
   ],
   "source": [
    "def sum_all(n):\n",
    "    sum = 0\n",
    "    for i in range(1, n+1):\n",
    "        sum+= i\n",
    "    return sum\n",
    "sum_all(100)"
   ]
  },
  {
   "cell_type": "code",
   "execution_count": 5,
   "metadata": {},
   "outputs": [
    {
     "data": {
      "text/plain": [
       "5050"
      ]
     },
     "execution_count": 5,
     "metadata": {},
     "output_type": "execute_result"
    }
   ],
   "source": [
    "def sum_all(n):\n",
    "    return int(n*(n+1)/2)\n",
    "sum_all(100)"
   ]
  },
  {
   "cell_type": "markdown",
   "metadata": {},
   "source": [
    "## 대표적인 데이터 구조6: 해쉬 테이블(Hash Table)\n",
    "\n",
    "1. 해쉬 구조\n",
    "    - Hash Table: 키에 데이터를 저장하는 데이터 구조\n",
    "        - 키를 통해 바로 데이터를 받아옷ㄹ 수 있으므로, 속도가 획기적으로 빨라짐\n",
    "        - 파이썬 딕셔너리 타입이 해쉬 테비을의 예: 키를 가지고 바로 데이터를 꺼냄\n",
    "        - 보통 배열로 미리 Hash Table 사이즈만큼 생성 후에 사용 \n",
    "        - 단, 파이썬에서는 해쉬를 별도 구현할 이유가 없음\n",
    "\n",
    "\n",
    "2. 알아둘 용어\n",
    "    - 해쉬 : 임의 값을 고정 길이로 변환하는 것\n",
    "    - 해쉬 테이블: 키 값의 연산에 의해 직접 접근이 가능한 데이터 구조\n",
    "    - 해싱 함수: 키에 대해 산술 연산을 이용해 데이터 위치를 찾을 수 있는 함수\n",
    "    - 해쉬 값 또는 해쉬 주소: 키를 해싱 함수로 연산해서, 해쉬 값을 알아내고, 이를 기반으로 해쉬 테이블에서 해당 키에 대한 데이터 위치를 일관성 있게 찾을 수 있음\n",
    "    - 슬롯: 한 개의 데이터를 저장할 수 있는 공간\n",
    "    - 저장할 데이터에 대해 키를 추출할 수 있는 별도 함수도 존재할 수 있음"
   ]
  },
  {
   "cell_type": "code",
   "execution_count": 6,
   "metadata": {},
   "outputs": [
    {
     "data": {
      "text/plain": [
       "[0, 1, 2, 3, 4, 5, 6, 7, 8, 9]"
      ]
     },
     "execution_count": 6,
     "metadata": {},
     "output_type": "execute_result"
    }
   ],
   "source": [
    "hash_table = list([i for i in range(10)])\n",
    "hash_table"
   ]
  },
  {
   "cell_type": "code",
   "execution_count": 7,
   "metadata": {},
   "outputs": [],
   "source": [
    "def hash_function(key):\n",
    "    return key % 5"
   ]
  },
  {
   "cell_type": "code",
   "execution_count": 9,
   "metadata": {},
   "outputs": [
    {
     "name": "stdout",
     "output_type": "stream",
     "text": [
      "65 68 84\n",
      "0 3 4\n"
     ]
    }
   ],
   "source": [
    "data1 = 'Andy'\n",
    "data2 = 'Dave'\n",
    "data3 = 'Trump'\n",
    "\n",
    "print(ord(data1[0]), ord(data2[0]), ord(data3[0]))\n",
    "print(hash_function(ord(data1[0])), hash_function(ord(data2[0])), hash_function(ord(data3[0])))"
   ]
  },
  {
   "cell_type": "code",
   "execution_count": 10,
   "metadata": {},
   "outputs": [],
   "source": [
    "def storage_data(data, value):\n",
    "    key = ord(data[0])\n",
    "    hash_address = hash_function(key)\n",
    "    hash_table[hash_address] = value"
   ]
  },
  {
   "cell_type": "code",
   "execution_count": 11,
   "metadata": {},
   "outputs": [],
   "source": [
    "storage_data('Andy', '01055553333')\n",
    "storage_data('Dave', '01044443333')\n",
    "storage_data('Trump', '01022223333')"
   ]
  },
  {
   "cell_type": "code",
   "execution_count": 12,
   "metadata": {},
   "outputs": [],
   "source": [
    "def get_data(data):\n",
    "    key=ord(data[0])\n",
    "    hash_address=hash_function(key)\n",
    "    return hash_table[hash_address]"
   ]
  },
  {
   "cell_type": "code",
   "execution_count": 14,
   "metadata": {},
   "outputs": [
    {
     "data": {
      "text/plain": [
       "'01055553333'"
      ]
     },
     "execution_count": 14,
     "metadata": {},
     "output_type": "execute_result"
    }
   ],
   "source": [
    "get_data('Andy')"
   ]
  },
  {
   "cell_type": "markdown",
   "metadata": {},
   "source": [
    "연습1: 리스트 변수를 활용해서 해쉬 테이블 구현해보기\n",
    "\n",
    "1. 해쉬 함수: key % 8\n",
    "2. 해쉬 키 생성: hash(data)"
   ]
  },
  {
   "cell_type": "code",
   "execution_count": 16,
   "metadata": {},
   "outputs": [],
   "source": [
    "hash_table = list([i for i in range(8)])\n",
    "\n",
    "def hash_func(data):\n",
    "    key = hash(data)\n",
    "    return key % 8\n",
    "\n",
    "def hash_data(data, value):\n",
    "    hash_address = hash_func(data)\n",
    "    hash_table[hash_address]=value\n",
    "\n",
    "def get_data(data):\n",
    "    hash_address=hash_func(data)\n",
    "    return hash_table[hash_address]"
   ]
  },
  {
   "cell_type": "code",
   "execution_count": 19,
   "metadata": {},
   "outputs": [],
   "source": [
    "hash_data('Andy', '01044445555')\n",
    "hash_data('Dabe', '01022225555')\n",
    "hash_data('Trump', '01033335555')"
   ]
  },
  {
   "cell_type": "code",
   "execution_count": 21,
   "metadata": {},
   "outputs": [
    {
     "data": {
      "text/plain": [
       "('01044445555', '01022225555', '01033335555')"
      ]
     },
     "execution_count": 21,
     "metadata": {},
     "output_type": "execute_result"
    }
   ],
   "source": [
    "get_data('Andy'), get_data('Dabe'), get_data('Trump')"
   ]
  },
  {
   "cell_type": "code",
   "execution_count": null,
   "metadata": {},
   "outputs": [],
   "source": []
  }
 ],
 "metadata": {
  "kernelspec": {
   "display_name": "Python 3.8.13 ('kdt')",
   "language": "python",
   "name": "python3"
  },
  "language_info": {
   "codemirror_mode": {
    "name": "ipython",
    "version": 3
   },
   "file_extension": ".py",
   "mimetype": "text/x-python",
   "name": "python",
   "nbconvert_exporter": "python",
   "pygments_lexer": "ipython3",
   "version": "3.8.13"
  },
  "orig_nbformat": 4,
  "vscode": {
   "interpreter": {
    "hash": "7804435f03a357a321c78a28075d8371c0686055268c0f28257257161c9d8dd3"
   }
  }
 },
 "nbformat": 4,
 "nbformat_minor": 2
}
