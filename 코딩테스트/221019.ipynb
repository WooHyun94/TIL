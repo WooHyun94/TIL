{
 "cells": [
  {
   "cell_type": "markdown",
   "metadata": {},
   "source": [
    "알고리즘1: 1부터 n까지의 합을 구하는 알고리즘1\n",
    "\n",
    "    - 합을 기록할 변수를 만들고 0을 저장\n",
    "    - n을 1부터 1씩 증가하면서 반복\n",
    "    - 반복문 안에서 합을 기록할 변수에 1씩 증가된 값을 더함\n",
    "    - 반복이 끝나면 합을 출력"
   ]
  },
  {
   "cell_type": "code",
   "execution_count": 4,
   "metadata": {},
   "outputs": [
    {
     "data": {
      "text/plain": [
       "5050"
      ]
     },
     "execution_count": 4,
     "metadata": {},
     "output_type": "execute_result"
    }
   ],
   "source": [
    "def sum_all(n):\n",
    "    sum = 0\n",
    "    for i in range(1, n+1):\n",
    "        sum+= i\n",
    "    return sum\n",
    "sum_all(100)"
   ]
  },
  {
   "cell_type": "code",
   "execution_count": 5,
   "metadata": {},
   "outputs": [
    {
     "data": {
      "text/plain": [
       "5050"
      ]
     },
     "execution_count": 5,
     "metadata": {},
     "output_type": "execute_result"
    }
   ],
   "source": [
    "def sum_all(n):\n",
    "    return int(n*(n+1)/2)\n",
    "sum_all(100)"
   ]
  },
  {
   "cell_type": "markdown",
   "metadata": {},
   "source": [
    "## 대표적인 데이터 구조6: 해쉬 테이블(Hash Table)\n",
    "\n",
    "1. 해쉬 구조\n",
    "    - Hash Table: 키에 데이터를 저장하는 데이터 구조\n",
    "        - 키를 통해 바로 데이터를 받아옷ㄹ 수 있으므로, 속도가 획기적으로 빨라짐\n",
    "        - 파이썬 딕셔너리 타입이 해쉬 테비을의 예: 키를 가지고 바로 데이터를 꺼냄\n",
    "        - 보통 배열로 미리 Hash Table 사이즈만큼 생성 후에 사용 \n",
    "        - 단, 파이썬에서는 해쉬를 별도 구현할 이유가 없음\n",
    "\n",
    "\n",
    "2. 알아둘 용어\n",
    "    - 해쉬 : 임의 값을 고정 길이로 변환하는 것\n",
    "    - 해쉬 테이블: 키 값의 연산에 의해 직접 접근이 가능한 데이터 구조\n",
    "    - 해싱 함수: 키에 대해 산술 연산을 이용해 데이터 위치를 찾을 수 있는 함수\n",
    "    - 해쉬 값 또는 해쉬 주소: 키를 해싱 함수로 연산해서, 해쉬 값을 알아내고, 이를 기반으로 해쉬 테이블에서 해당 키에 대한 데이터 위치를 일관성 있게 찾을 수 있음\n",
    "    - 슬롯: 한 개의 데이터를 저장할 수 있는 공간\n",
    "    - 저장할 데이터에 대해 키를 추출할 수 있는 별도 함수도 존재할 수 있음"
   ]
  },
  {
   "cell_type": "code",
   "execution_count": 6,
   "metadata": {},
   "outputs": [
    {
     "data": {
      "text/plain": [
       "[0, 1, 2, 3, 4, 5, 6, 7, 8, 9]"
      ]
     },
     "execution_count": 6,
     "metadata": {},
     "output_type": "execute_result"
    }
   ],
   "source": [
    "hash_table = list([i for i in range(10)])\n",
    "hash_table"
   ]
  },
  {
   "cell_type": "code",
   "execution_count": 7,
   "metadata": {},
   "outputs": [],
   "source": [
    "def hash_function(key):\n",
    "    return key % 5"
   ]
  },
  {
   "cell_type": "code",
   "execution_count": 9,
   "metadata": {},
   "outputs": [
    {
     "name": "stdout",
     "output_type": "stream",
     "text": [
      "65 68 84\n",
      "0 3 4\n"
     ]
    }
   ],
   "source": [
    "data1 = 'Andy'\n",
    "data2 = 'Dave'\n",
    "data3 = 'Trump'\n",
    "\n",
    "print(ord(data1[0]), ord(data2[0]), ord(data3[0]))\n",
    "print(hash_function(ord(data1[0])), hash_function(ord(data2[0])), hash_function(ord(data3[0])))"
   ]
  },
  {
   "cell_type": "code",
   "execution_count": 10,
   "metadata": {},
   "outputs": [],
   "source": [
    "def storage_data(data, value):\n",
    "    key = ord(data[0])\n",
    "    hash_address = hash_function(key)\n",
    "    hash_table[hash_address] = value"
   ]
  },
  {
   "cell_type": "code",
   "execution_count": 11,
   "metadata": {},
   "outputs": [],
   "source": [
    "storage_data('Andy', '01055553333')\n",
    "storage_data('Dave', '01044443333')\n",
    "storage_data('Trump', '01022223333')"
   ]
  },
  {
   "cell_type": "code",
   "execution_count": 12,
   "metadata": {},
   "outputs": [],
   "source": [
    "def get_data(data):\n",
    "    key=ord(data[0])\n",
    "    hash_address=hash_function(key)\n",
    "    return hash_table[hash_address]"
   ]
  },
  {
   "cell_type": "code",
   "execution_count": 14,
   "metadata": {},
   "outputs": [
    {
     "data": {
      "text/plain": [
       "'01055553333'"
      ]
     },
     "execution_count": 14,
     "metadata": {},
     "output_type": "execute_result"
    }
   ],
   "source": [
    "get_data('Andy')"
   ]
  },
  {
   "cell_type": "markdown",
   "metadata": {},
   "source": [
    "연습1: 리스트 변수를 활용해서 해쉬 테이블 구현해보기\n",
    "\n",
    "1. 해쉬 함수: key % 8\n",
    "2. 해쉬 키 생성: hash(data)"
   ]
  },
  {
   "cell_type": "code",
   "execution_count": 16,
   "metadata": {},
   "outputs": [],
   "source": [
    "hash_table = list([i for i in range(8)])\n",
    "\n",
    "def hash_func(data):\n",
    "    key = hash(data)\n",
    "    return key % 8\n",
    "\n",
    "def hash_data(data, value):\n",
    "    hash_address = hash_func(data)\n",
    "    hash_table[hash_address]=value\n",
    "\n",
    "def get_data(data):\n",
    "    hash_address=hash_func(data)\n",
    "    return hash_table[hash_address]"
   ]
  },
  {
   "cell_type": "code",
   "execution_count": 19,
   "metadata": {},
   "outputs": [],
   "source": [
    "hash_data('Andy', '01044445555')\n",
    "hash_data('Dabe', '01022225555')\n",
    "hash_data('Trump', '01033335555')"
   ]
  },
  {
   "cell_type": "code",
   "execution_count": 21,
   "metadata": {},
   "outputs": [
    {
     "data": {
      "text/plain": [
       "('01044445555', '01022225555', '01033335555')"
      ]
     },
     "execution_count": 21,
     "metadata": {},
     "output_type": "execute_result"
    }
   ],
   "source": [
    "get_data('Andy'), get_data('Dabe'), get_data('Trump')"
   ]
  },
  {
   "cell_type": "markdown",
   "metadata": {},
   "source": [
    "## 충돌 해결 알고리즘\n",
    "\n",
    "1. Chaining 기법\n",
    "    - 개방 해슁 또는 Open Hashing 기법 중 하나: 해쉬 테이블 저장동간 외의 공간을 활용하는 기법\n",
    "    - 충돌이 일어나면, 링크드 리스트라는 자료 구조를 사용해서, 링크드 리스트로 데이터를 추가로 뒤에 연결시켜서 저장하는 기법\n",
    "\n",
    "2. Linear Probing 기법\n",
    "    - 폐쇄 해슁 또는 Close Hashing 기법 중 하나: 해쉬 테이블 저장공간 안에서 충돌 문제를 해결하는 기법\n",
    "    - 충돌이 일어나면, 해당 hash address의 다음 address부터 맨 처음 나오는 빈공간에 저장하는 기법\n",
    "        - 저장공간 활용도를 높이기 위한 기법"
   ]
  },
  {
   "cell_type": "markdown",
   "metadata": {},
   "source": [
    "연습2: 연습1의 해쉬 테이블 코드에 Chaining 기법으로 충돌해결 코드를 추가해보기\n",
    "\n",
    "1. 해쉬 함수: key % 8\n",
    "2. 해쉬 키 생성: hash(data)"
   ]
  },
  {
   "cell_type": "code",
   "execution_count": 26,
   "metadata": {},
   "outputs": [],
   "source": [
    "hash_table = list([0 for i in range(8)])\n",
    "def hash_data(data, value):\n",
    "    index_key = hash(data)\n",
    "    hash_address = hash_func(data)\n",
    "    if hash_table[hash_address] != 0:\n",
    "        for index in range(len(hash_table[hash_address])):\n",
    "            if hash_table[hash_address][index][0]==index_key:\n",
    "                hash_table[hash_address][index][1] = value\n",
    "                return\n",
    "        hash_table[hash_address].append([index_key, value])\n",
    "    else:\n",
    "        hash_table[hash_address] = [index_key, value]\n",
    "\n",
    "def get_data(data):\n",
    "    index_key = hash(data)\n",
    "    hash_address=hash_func(data)\n",
    "    if hash_table[hash_address] != 0:\n",
    "        for index in range(len(hash_table[hash_address])):\n",
    "            if hash_table[hash_address][index][0]==index_key:\n",
    "                return hash_table[hash_address][index][1]\n",
    "        return None\n",
    "    else:\n",
    "        return None"
   ]
  },
  {
   "cell_type": "markdown",
   "metadata": {},
   "source": [
    "## 실시간 강의\n",
    "\n",
    "- 주로 문자열 해싱 문제가 1번에 배치됨"
   ]
  },
  {
   "cell_type": "code",
   "execution_count": 27,
   "metadata": {},
   "outputs": [
    {
     "data": {
      "text/plain": [
       "(1, 6)"
      ]
     },
     "execution_count": 27,
     "metadata": {},
     "output_type": "execute_result"
    }
   ],
   "source": [
    "# str.find(str)\n",
    "s = 'Hello World'\n",
    "p1 = s.find('e')\n",
    "p2 = s.find('World')\n",
    "p1, p2"
   ]
  },
  {
   "cell_type": "code",
   "execution_count": 28,
   "metadata": {},
   "outputs": [
    {
     "data": {
      "text/plain": [
       "(2, 1)"
      ]
     },
     "execution_count": 28,
     "metadata": {},
     "output_type": "execute_result"
    }
   ],
   "source": [
    "# str.count(str)\n",
    "p1 = s.count('o')\n",
    "p2 = s.count('World')\n",
    "p1, p2"
   ]
  },
  {
   "cell_type": "code",
   "execution_count": 30,
   "metadata": {},
   "outputs": [
    {
     "name": "stdout",
     "output_type": "stream",
     "text": [
      "True\n"
     ]
    }
   ],
   "source": [
    "# str.isupper()\n",
    "print('A'.isupper())"
   ]
  },
  {
   "cell_type": "code",
   "execution_count": 31,
   "metadata": {},
   "outputs": [
    {
     "name": "stdout",
     "output_type": "stream",
     "text": [
      "True\n"
     ]
    }
   ],
   "source": [
    "# str.islower()\n",
    "print('a'.islower())"
   ]
  },
  {
   "cell_type": "code",
   "execution_count": 35,
   "metadata": {},
   "outputs": [
    {
     "name": "stdout",
     "output_type": "stream",
     "text": [
      "ABC\n",
      "abc\n",
      "True False\n",
      "65\n",
      "A\n",
      "['1', '2', '3']\n",
      "0-1-0-1-2-3-4-5-6-7-8\n"
     ]
    }
   ],
   "source": [
    "# upper()\n",
    "print('abc'.upper())\n",
    "# lower()\n",
    "print('ABC'.lower())\n",
    "# isdigit()\n",
    "print('123'.isdigit(), 'abc'.isdigit())\n",
    "# ord(str)\n",
    "print(ord('A'))\n",
    "# chr()\n",
    "print(chr(65))\n",
    "# split()\n",
    "print('1 2 3'.split())\n",
    "# 'str'.join(list)\n",
    "print('-'.join('01012345678'))"
   ]
  },
  {
   "cell_type": "code",
   "execution_count": 36,
   "metadata": {},
   "outputs": [
    {
     "name": "stdout",
     "output_type": "stream",
     "text": [
      "{1, 2, 3}\n"
     ]
    }
   ],
   "source": [
    "# set \n",
    "s = {1, 2, 2, 3}\n",
    "\n",
    "print(s)"
   ]
  },
  {
   "cell_type": "code",
   "execution_count": 37,
   "metadata": {},
   "outputs": [
    {
     "name": "stdout",
     "output_type": "stream",
     "text": [
      "{1, 2, 3}\n"
     ]
    }
   ],
   "source": [
    "s.add(1)\n",
    "print(s)"
   ]
  },
  {
   "cell_type": "code",
   "execution_count": 38,
   "metadata": {},
   "outputs": [
    {
     "data": {
      "text/plain": [
       "True"
      ]
     },
     "execution_count": 38,
     "metadata": {},
     "output_type": "execute_result"
    }
   ],
   "source": [
    "2 in s"
   ]
  },
  {
   "cell_type": "code",
   "execution_count": 39,
   "metadata": {},
   "outputs": [
    {
     "name": "stdout",
     "output_type": "stream",
     "text": [
      "{1, 3}\n"
     ]
    }
   ],
   "source": [
    "s.remove(2)\n",
    "print(s)"
   ]
  },
  {
   "cell_type": "code",
   "execution_count": 40,
   "metadata": {},
   "outputs": [],
   "source": [
    "# dictinoary\n",
    "sH = {'a' : 3, 'b' : 5, 'c' : 2}"
   ]
  },
  {
   "cell_type": "code",
   "execution_count": 41,
   "metadata": {},
   "outputs": [
    {
     "name": "stdout",
     "output_type": "stream",
     "text": [
      "a\n",
      "b\n",
      "c\n"
     ]
    }
   ],
   "source": [
    "for key in sH:\n",
    "    print(key)"
   ]
  },
  {
   "cell_type": "code",
   "execution_count": 42,
   "metadata": {},
   "outputs": [
    {
     "name": "stdout",
     "output_type": "stream",
     "text": [
      "3\n",
      "5\n",
      "2\n"
     ]
    }
   ],
   "source": [
    "for val in sH.values():\n",
    "    print(val)"
   ]
  },
  {
   "cell_type": "code",
   "execution_count": 43,
   "metadata": {},
   "outputs": [
    {
     "name": "stdout",
     "output_type": "stream",
     "text": [
      "a 3\n",
      "b 5\n",
      "c 2\n"
     ]
    }
   ],
   "source": [
    "for key, val in sH.items():\n",
    "    print(key, val)"
   ]
  },
  {
   "cell_type": "code",
   "execution_count": 45,
   "metadata": {},
   "outputs": [
    {
     "name": "stdout",
     "output_type": "stream",
     "text": [
      "{'a': 3, 'b': 5, 'c': 2}\n",
      "{'b': 5, 'c': 2}\n"
     ]
    }
   ],
   "source": [
    "print(sH)\n",
    "del(sH['a'])\n",
    "print(sH)"
   ]
  },
  {
   "cell_type": "code",
   "execution_count": 47,
   "metadata": {},
   "outputs": [
    {
     "name": "stdout",
     "output_type": "stream",
     "text": [
      "sTUdy\n"
     ]
    }
   ],
   "source": [
    "def solution(s):\n",
    "    answer = ''\n",
    "    for i in s:\n",
    "        if i.isupper():\n",
    "            answer+=i.lower()\n",
    "        else:\n",
    "            answer+=i.upper()\n",
    "    return answer\n",
    "\n",
    "print(solution('StuDY'))"
   ]
  },
  {
   "cell_type": "code",
   "execution_count": 55,
   "metadata": {},
   "outputs": [
    {
     "name": "stdout",
     "output_type": "stream",
     "text": [
      "kset\n",
      "stek\n",
      "itsme\n"
     ]
    }
   ],
   "source": [
    "def solution(s):\n",
    "    answer=''\n",
    "    for i in range(len(s)):\n",
    "        if s.find(s[i])==i:\n",
    "            answer+=s[i]\n",
    "    return answer\n",
    "print(solution('ksekkset'))\n",
    "print(solution(\"sssssttessskssee\"))\n",
    "print(solution(\"itistime\"))"
   ]
  },
  {
   "cell_type": "code",
   "execution_count": 68,
   "metadata": {},
   "outputs": [
    {
     "name": "stdout",
     "output_type": "stream",
     "text": [
      "tes\n"
     ]
    }
   ],
   "source": [
    "def solution(l):\n",
    "    answer=''\n",
    "    for i in range(len(l[0])):\n",
    "        for j in range(i, len(l[0])):\n",
    "            if l[0][i:j] in l[1] and l[0][i:j] in l[2] and len(l[0][i:j]) > len(answer):    \n",
    "                answer=l[0][i:j]\n",
    "    return answer\n",
    "print(solution(['tesk', 'tesking', 'tesming']))"
   ]
  },
  {
   "cell_type": "code",
   "execution_count": 69,
   "metadata": {},
   "outputs": [
    {
     "name": "stdout",
     "output_type": "stream",
     "text": [
      "long\n"
     ]
    }
   ],
   "source": [
    "def solution(s):\n",
    "    answer = ''\n",
    "    for i in range(len(s[0])):\n",
    "        common = set()\n",
    "        for x in s:\n",
    "            common.add(x[i])\n",
    "        if len(common) == 1:\n",
    "            answer += s[0][i]\n",
    "        else:\n",
    "            break\n",
    "    return answer\n",
    "\n",
    "print(solution(['long', 'longtime', 'longest']))"
   ]
  },
  {
   "cell_type": "code",
   "execution_count": 73,
   "metadata": {},
   "outputs": [
    {
     "name": "stdout",
     "output_type": "stream",
     "text": [
      "YES\n"
     ]
    }
   ],
   "source": [
    "def solution(s):\n",
    "    for i in range(len(s)):\n",
    "        if s[i].lower()!=s[len(s)-i-1].lower():\n",
    "            return 'NO'\n",
    "    return'YES'\n",
    "\n",
    "print(solution('goog'))"
   ]
  },
  {
   "cell_type": "code",
   "execution_count": 76,
   "metadata": {},
   "outputs": [
    {
     "name": "stdout",
     "output_type": "stream",
     "text": [
      "1\n"
     ]
    }
   ],
   "source": [
    "def solution(s):\n",
    "    answer = 1\n",
    "    now = s[0]\n",
    "\n",
    "    for i in range(1, len(s)):\n",
    "        if s[i] <= now:\n",
    "            continue\n",
    "        else:\n",
    "            answer+=1\n",
    "            now = s[i]\n",
    "    return answer\n",
    "\n",
    "print(solution([5, 4, 3, 2, 1]))"
   ]
  },
  {
   "cell_type": "code",
   "execution_count": 104,
   "metadata": {},
   "outputs": [
    {
     "name": "stdout",
     "output_type": "stream",
     "text": [
      "16\n"
     ]
    }
   ],
   "source": [
    "# 점수 계산 - 과제\n",
    "def solution(s):\n",
    "    answer = 0\n",
    "    cnt = 1\n",
    "    for i in s:\n",
    "        if i==1:\n",
    "            answer+=cnt\n",
    "            cnt+=1\n",
    "        else:\n",
    "            cnt=1\n",
    "    return answer\n",
    "print(solution([1, 1, 1, 1, 1, 0, 1]))"
   ]
  },
  {
   "cell_type": "code",
   "execution_count": 2,
   "metadata": {},
   "outputs": [
    {
     "name": "stdout",
     "output_type": "stream",
     "text": [
      "14\n",
      "8\n"
     ]
    }
   ],
   "source": [
    "# 가장 높은 증가수열 \n",
    "def solution(s):\n",
    "    li=[]\n",
    "    start = 0\n",
    "    now = 0\n",
    "    for i in range(len(s)):\n",
    "        if s[now] > s[i]:\n",
    "            li.append(s[now]-s[start])\n",
    "            start, now =i, i\n",
    "        else:\n",
    "            now = i\n",
    "    li.append(s[-1] - s[start])\n",
    "    return max(li)\n",
    "print(solution([8, 12, 2, 3, 7, 6, 12, 20, 3]))\n",
    "print(solution([5, 2, 4, 7, 7, 3, 9, 10, 11]))"
   ]
  },
  {
   "cell_type": "code",
   "execution_count": 79,
   "metadata": {},
   "outputs": [
    {
     "name": "stdout",
     "output_type": "stream",
     "text": [
      "C\n"
     ]
    }
   ],
   "source": [
    "def solution(s):\n",
    "    dic = {}\n",
    "    for i in s:\n",
    "        if i in dic:\n",
    "            dic[i] += 1\n",
    "        else:\n",
    "            dic[i] = 1\n",
    "    max_key = 0\n",
    "    max_value = 0\n",
    "    for i in dic:\n",
    "        if dic[i] > max_value:\n",
    "            max_value = dic[i]\n",
    "            max_key = i\n",
    "    return max_key\n",
    "print(solution('BACBACCACCBDEDE'))"
   ]
  },
  {
   "cell_type": "code",
   "execution_count": 81,
   "metadata": {},
   "outputs": [
    {
     "name": "stdout",
     "output_type": "stream",
     "text": [
      "C\n"
     ]
    }
   ],
   "source": [
    "from collections import Counter\n",
    "def solution(s):\n",
    "    c1 = Counter(s)\n",
    "    max_key = 0\n",
    "    max_value = 0\n",
    "    for i in c1:\n",
    "        if c1[i] > max_value:\n",
    "            max_value = c1[i]\n",
    "            max_key = i\n",
    "    return max_key\n",
    "print(solution('BACBACCACCBDEDE'))\n"
   ]
  },
  {
   "cell_type": "code",
   "execution_count": 88,
   "metadata": {},
   "outputs": [
    {
     "name": "stdout",
     "output_type": "stream",
     "text": [
      "-1\n"
     ]
    }
   ],
   "source": [
    "def solution(s):\n",
    "    answer = s[-1]\n",
    "    set_s = set(s)\n",
    "\n",
    "    for i in set_s:\n",
    "        if s.count(i)==1 and s.find(answer) > s.find(i):\n",
    "            answer = i\n",
    "    if s.count(answer)==1:\n",
    "        return s.find(answer)+1\n",
    "    else:\n",
    "        return -1\n",
    "print(solution(\"aabb\"))"
   ]
  },
  {
   "cell_type": "code",
   "execution_count": 92,
   "metadata": {},
   "outputs": [
    {
     "name": "stdout",
     "output_type": "stream",
     "text": [
      "-1\n"
     ]
    }
   ],
   "source": [
    "def solution(s):\n",
    "    answer = 0\n",
    "    for i in s:\n",
    "        if s.count(i)==1 and answer < i:\n",
    "            answer = i\n",
    "    if s.count(answer)==1:\n",
    "        return answer\n",
    "    else:\n",
    "        return -1\n",
    "print(solution([1, 2, 5, 4, 3, 2, 3, 1, 4, 5]))"
   ]
  },
  {
   "cell_type": "code",
   "execution_count": 99,
   "metadata": {},
   "outputs": [
    {
     "name": "stdout",
     "output_type": "stream",
     "text": [
      "1\n",
      "-1\n"
     ]
    }
   ],
   "source": [
    "def solution(s):\n",
    "    answer = -1\n",
    "    set_s = list(set(s))\n",
    "    set_s.sort()\n",
    "    for i in set_s:\n",
    "        if s.count(i)==i:\n",
    "            return i\n",
    "    return answer\n",
    "print(solution([1, 2, 5, 5, 5, 5, 5, 3, 3, 3]))\n",
    "print(solution([1, 2, 3, 3, 5, 1]))"
   ]
  },
  {
   "cell_type": "code",
   "execution_count": 102,
   "metadata": {},
   "outputs": [
    {
     "name": "stdout",
     "output_type": "stream",
     "text": [
      "[0, 0, 2]\n"
     ]
    }
   ],
   "source": [
    "from collections import Counter\n",
    "\n",
    "def solution(s):\n",
    "    c1 = Counter(s)\n",
    "    max_val = max(c1.values())\n",
    "    return list((max_val - c1['a'], max_val - c1['b'], max_val - c1['c']))\n",
    "print(solution(\"aabb\"))\n",
    "    "
   ]
  },
  {
   "cell_type": "markdown",
   "metadata": {},
   "source": [
    "## 트리 \n",
    "\n",
    "1. 트리 구조\n",
    "    - 트리: Node와 Branch를 이용해서, 사이클을 이루지 않도록 구성한 데이터 구조\n",
    "    - 실제로 어디에 많이 사용되나?\n",
    "        - 트리 중 이진 트리(Binary Tree) 형태의 구조로, 탐색 알고리즘 구현을 위해 많이 사용됨\n",
    "\n",
    "2. 알아둘 용어\n",
    "- 노드: 트리에서 데이터를 저장하는 기본 요소(데이터와 다른 연결된 노드에 대한 Branch 정보 포함)\n",
    "- 루트 노드: 트리 맨 위에 있는 노드\n",
    "- 레벨: 최상위 노드를 레벨 0으로 하였을 때, 하위 브랜치로 연결된 노드의 깊이를 나타냄\n",
    "- 부모 노드: 어떤 노드의 다음 레벨에 연결된 노드\n",
    "- 자식 노드: 어떤 노드의 상위 레벨에 연결된 노드\n",
    "- 리프 노드: 자식노드가 하나도 없는 노드\n",
    "- Sibiling: 동일한 부모 노드를 가진 노드\n",
    "- 깊이: 트리에서 노드가 가질 수 있는 최대 레벨"
   ]
  },
  {
   "cell_type": "markdown",
   "metadata": {},
   "source": [
    "3. 이진 트리와 이진 탐색 트리\n",
    "    - 이진 트리: 노드의 최대 브랜치가 2인 트리\n",
    "    - 이진 탐색 트리: 이진 트리에 다음과 같은 추가적인 조건이 있는 트리\n",
    "        - 왼쪽 노드는 해당 노드보다 작은 값, 오른쪽 노드는 해당 노드보다 큰 값을 가지고 있다"
   ]
  },
  {
   "cell_type": "code",
   "execution_count": 4,
   "metadata": {},
   "outputs": [],
   "source": [
    "class Node:\n",
    "    def __init__(self, value):\n",
    "        self.value = value\n",
    "        self.left = None\n",
    "        self.right = None"
   ]
  },
  {
   "cell_type": "code",
   "execution_count": 10,
   "metadata": {},
   "outputs": [],
   "source": [
    "class NodeMgmt:\n",
    "    def __init__(self, head):\n",
    "        self.head=head\n",
    "\n",
    "    def insert(self, value):\n",
    "        self.current_node = self.head\n",
    "        while True:\n",
    "            if value < self.current_node.value:\n",
    "                if self.current_node.left!=None:\n",
    "                    self.current_node=self.current_node.left\n",
    "                else:\n",
    "                    self.current_node.left=Node(value)\n",
    "                    break\n",
    "            else:\n",
    "                if self.current_node.right!=None:\n",
    "                    self.current_node=self.current_node.right\n",
    "                else:\n",
    "                    self.current_node.right=Node(value)\n",
    "                    break\n",
    "    def search(self, value):\n",
    "        self.current_node = self.head\n",
    "        while self.current_node:\n",
    "            if self.current_node.value==value:\n",
    "                return True\n",
    "            elif value < self.current.value:\n",
    "                self.current_node = self.current_node.left\n",
    "            else:\n",
    "                self.current_node = self.current_node.right\n",
    "        return False"
   ]
  },
  {
   "cell_type": "code",
   "execution_count": 11,
   "metadata": {},
   "outputs": [],
   "source": [
    "head=Node(1)\n",
    "BST = NodeMgmt(head)\n",
    "BST.insert(2)"
   ]
  },
  {
   "cell_type": "code",
   "execution_count": null,
   "metadata": {},
   "outputs": [],
   "source": []
  }
 ],
 "metadata": {
  "kernelspec": {
   "display_name": "Python 3.8.13 ('kdt')",
   "language": "python",
   "name": "python3"
  },
  "language_info": {
   "codemirror_mode": {
    "name": "ipython",
    "version": 3
   },
   "file_extension": ".py",
   "mimetype": "text/x-python",
   "name": "python",
   "nbconvert_exporter": "python",
   "pygments_lexer": "ipython3",
   "version": "3.8.13"
  },
  "orig_nbformat": 4,
  "vscode": {
   "interpreter": {
    "hash": "7804435f03a357a321c78a28075d8371c0686055268c0f28257257161c9d8dd3"
   }
  }
 },
 "nbformat": 4,
 "nbformat_minor": 2
}
