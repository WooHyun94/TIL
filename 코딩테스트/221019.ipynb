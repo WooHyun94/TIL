{
 "cells": [
  {
   "cell_type": "markdown",
   "metadata": {},
   "source": [
    "알고리즘1: 1부터 n까지의 합을 구하는 알고리즘1\n",
    "\n",
    "    - 합을 기록할 변수를 만들고 0을 저장\n",
    "    - n을 1부터 1씩 증가하면서 반복\n",
    "    - 반복문 안에서 합을 기록할 변수에 1씩 증가된 값을 더함\n",
    "    - 반복이 끝나면 합을 출력"
   ]
  },
  {
   "cell_type": "code",
   "execution_count": 4,
   "metadata": {},
   "outputs": [
    {
     "data": {
      "text/plain": [
       "5050"
      ]
     },
     "execution_count": 4,
     "metadata": {},
     "output_type": "execute_result"
    }
   ],
   "source": [
    "def sum_all(n):\n",
    "    sum = 0\n",
    "    for i in range(1, n+1):\n",
    "        sum+= i\n",
    "    return sum\n",
    "sum_all(100)"
   ]
  },
  {
   "cell_type": "code",
   "execution_count": 5,
   "metadata": {},
   "outputs": [
    {
     "data": {
      "text/plain": [
       "5050"
      ]
     },
     "execution_count": 5,
     "metadata": {},
     "output_type": "execute_result"
    }
   ],
   "source": [
    "def sum_all(n):\n",
    "    return int(n*(n+1)/2)\n",
    "sum_all(100)"
   ]
  },
  {
   "cell_type": "markdown",
   "metadata": {},
   "source": [
    "## 대표적인 데이터 구조6: 해쉬 테이블(Hash Table)\n",
    "\n",
    "1. 해쉬 구조\n",
    "    - Hash Table: 키에 데이터를 저장하는 데이터 구조\n",
    "        - 키를 통해 바로 데이터를 받아옷ㄹ 수 있으므로, 속도가 획기적으로 빨라짐\n",
    "        - 파이썬 딕셔너리 타입이 해쉬 테비을의 예: 키를 가지고 바로 데이터를 꺼냄\n",
    "        - 보통 배열로 미리 Hash Table 사이즈만큼 생성 후에 사용 \n",
    "        - 단, 파이썬에서는 해쉬를 별도 구현할 이유가 없음\n",
    "\n",
    "\n",
    "2. 알아둘 용어\n",
    "    - 해쉬 : 임의 값을 고정 길이로 변환하는 것\n",
    "    - 해쉬 테이블: 키 값의 연산에 의해 직접 접근이 가능한 데이터 구조\n",
    "    - 해싱 함수: 키에 대해 산술 연산을 이용해 데이터 위치를 찾을 수 있는 함수\n",
    "    - 해쉬 값 또는 해쉬 주소: 키를 해싱 함수로 연산해서, 해쉬 값을 알아내고, 이를 기반으로 해쉬 테이블에서 해당 키에 대한 데이터 위치를 일관성 있게 찾을 수 있음\n",
    "    - 슬롯: 한 개의 데이터를 저장할 수 있는 공간\n",
    "    - 저장할 데이터에 대해 키를 추출할 수 있는 별도 함수도 존재할 수 있음"
   ]
  },
  {
   "cell_type": "code",
   "execution_count": 6,
   "metadata": {},
   "outputs": [
    {
     "data": {
      "text/plain": [
       "[0, 1, 2, 3, 4, 5, 6, 7, 8, 9]"
      ]
     },
     "execution_count": 6,
     "metadata": {},
     "output_type": "execute_result"
    }
   ],
   "source": [
    "hash_table = list([i for i in range(10)])\n",
    "hash_table"
   ]
  },
  {
   "cell_type": "code",
   "execution_count": 7,
   "metadata": {},
   "outputs": [],
   "source": [
    "def hash_function(key):\n",
    "    return key % 5"
   ]
  },
  {
   "cell_type": "code",
   "execution_count": 9,
   "metadata": {},
   "outputs": [
    {
     "name": "stdout",
     "output_type": "stream",
     "text": [
      "65 68 84\n",
      "0 3 4\n"
     ]
    }
   ],
   "source": [
    "data1 = 'Andy'\n",
    "data2 = 'Dave'\n",
    "data3 = 'Trump'\n",
    "\n",
    "print(ord(data1[0]), ord(data2[0]), ord(data3[0]))\n",
    "print(hash_function(ord(data1[0])), hash_function(ord(data2[0])), hash_function(ord(data3[0])))"
   ]
  },
  {
   "cell_type": "code",
   "execution_count": 10,
   "metadata": {},
   "outputs": [],
   "source": [
    "def storage_data(data, value):\n",
    "    key = ord(data[0])\n",
    "    hash_address = hash_function(key)\n",
    "    hash_table[hash_address] = value"
   ]
  },
  {
   "cell_type": "code",
   "execution_count": 11,
   "metadata": {},
   "outputs": [],
   "source": [
    "storage_data('Andy', '01055553333')\n",
    "storage_data('Dave', '01044443333')\n",
    "storage_data('Trump', '01022223333')"
   ]
  },
  {
   "cell_type": "code",
   "execution_count": 12,
   "metadata": {},
   "outputs": [],
   "source": [
    "def get_data(data):\n",
    "    key=ord(data[0])\n",
    "    hash_address=hash_function(key)\n",
    "    return hash_table[hash_address]"
   ]
  },
  {
   "cell_type": "code",
   "execution_count": 14,
   "metadata": {},
   "outputs": [
    {
     "data": {
      "text/plain": [
       "'01055553333'"
      ]
     },
     "execution_count": 14,
     "metadata": {},
     "output_type": "execute_result"
    }
   ],
   "source": [
    "get_data('Andy')"
   ]
  },
  {
   "cell_type": "markdown",
   "metadata": {},
   "source": [
    "연습1: 리스트 변수를 활용해서 해쉬 테이블 구현해보기\n",
    "\n",
    "1. 해쉬 함수: key % 8\n",
    "2. 해쉬 키 생성: hash(data)"
   ]
  },
  {
   "cell_type": "code",
   "execution_count": 16,
   "metadata": {},
   "outputs": [],
   "source": [
    "hash_table = list([i for i in range(8)])\n",
    "\n",
    "def hash_func(data):\n",
    "    key = hash(data)\n",
    "    return key % 8\n",
    "\n",
    "def hash_data(data, value):\n",
    "    hash_address = hash_func(data)\n",
    "    hash_table[hash_address]=value\n",
    "\n",
    "def get_data(data):\n",
    "    hash_address=hash_func(data)\n",
    "    return hash_table[hash_address]"
   ]
  },
  {
   "cell_type": "code",
   "execution_count": 19,
   "metadata": {},
   "outputs": [],
   "source": [
    "hash_data('Andy', '01044445555')\n",
    "hash_data('Dabe', '01022225555')\n",
    "hash_data('Trump', '01033335555')"
   ]
  },
  {
   "cell_type": "code",
   "execution_count": 21,
   "metadata": {},
   "outputs": [
    {
     "data": {
      "text/plain": [
       "('01044445555', '01022225555', '01033335555')"
      ]
     },
     "execution_count": 21,
     "metadata": {},
     "output_type": "execute_result"
    }
   ],
   "source": [
    "get_data('Andy'), get_data('Dabe'), get_data('Trump')"
   ]
  },
  {
   "cell_type": "markdown",
   "metadata": {},
   "source": [
    "## 충돌 해결 알고리즘\n",
    "\n",
    "1. Chaining 기법\n",
    "    - 개방 해슁 또는 Open Hashing 기법 중 하나: 해쉬 테이블 저장동간 외의 공간을 활용하는 기법\n",
    "    - 충돌이 일어나면, 링크드 리스트라는 자료 구조를 사용해서, 링크드 리스트로 데이터를 추가로 뒤에 연결시켜서 저장하는 기법\n",
    "\n",
    "2. Linear Probing 기법\n",
    "    - 폐쇄 해슁 또는 Close Hashing 기법 중 하나: 해쉬 테이블 저장공간 안에서 충돌 문제를 해결하는 기법\n",
    "    - 충돌이 일어나면, 해당 hash address의 다음 address부터 맨 처음 나오는 빈공간에 저장하는 기법\n",
    "        - 저장공간 활용도를 높이기 위한 기법"
   ]
  },
  {
   "cell_type": "markdown",
   "metadata": {},
   "source": [
    "연습2: 연습1의 해쉬 테이블 코드에 Chaining 기법으로 충돌해결 코드를 추가해보기\n",
    "\n",
    "1. 해쉬 함수: key % 8\n",
    "2. 해쉬 키 생성: hash(data)"
   ]
  },
  {
   "cell_type": "code",
   "execution_count": 26,
   "metadata": {},
   "outputs": [],
   "source": [
    "hash_table = list([0 for i in range(8)])\n",
    "def hash_data(data, value):\n",
    "    index_key = hash(data)\n",
    "    hash_address = hash_func(data)\n",
    "    if hash_table[hash_address] != 0:\n",
    "        for index in range(len(hash_table[hash_address])):\n",
    "            if hash_table[hash_address][index][0]==index_key:\n",
    "                hash_table[hash_address][index][1] = value\n",
    "                return\n",
    "        hash_table[hash_address].append([index_key, value])\n",
    "    else:\n",
    "        hash_table[hash_address] = [index_key, value]\n",
    "\n",
    "def get_data(data):\n",
    "    index_key = hash(data)\n",
    "    hash_address=hash_func(data)\n",
    "    if hash_table[hash_address] != 0:\n",
    "        for index in range(len(hash_table[hash_address])):\n",
    "            if hash_table[hash_address][index][0]==index_key:\n",
    "                return hash_table[hash_address][index][1]\n",
    "        return None\n",
    "    else:\n",
    "        return None"
   ]
  },
  {
   "cell_type": "markdown",
   "metadata": {},
   "source": [
    "## 실시간 강의\n",
    "\n",
    "- 주로 문자열 해싱 문제가 1번에 배치됨"
   ]
  },
  {
   "cell_type": "code",
   "execution_count": 27,
   "metadata": {},
   "outputs": [
    {
     "data": {
      "text/plain": [
       "(1, 6)"
      ]
     },
     "execution_count": 27,
     "metadata": {},
     "output_type": "execute_result"
    }
   ],
   "source": [
    "# str.find(str)\n",
    "s = 'Hello World'\n",
    "p1 = s.find('e')\n",
    "p2 = s.find('World')\n",
    "p1, p2"
   ]
  },
  {
   "cell_type": "code",
   "execution_count": 28,
   "metadata": {},
   "outputs": [
    {
     "data": {
      "text/plain": [
       "(2, 1)"
      ]
     },
     "execution_count": 28,
     "metadata": {},
     "output_type": "execute_result"
    }
   ],
   "source": [
    "# str.count(str)\n",
    "p1 = s.count('o')\n",
    "p2 = s.count('World')\n",
    "p1, p2"
   ]
  },
  {
   "cell_type": "code",
   "execution_count": 30,
   "metadata": {},
   "outputs": [
    {
     "name": "stdout",
     "output_type": "stream",
     "text": [
      "True\n"
     ]
    }
   ],
   "source": [
    "# str.isupper()\n",
    "print('A'.isupper())"
   ]
  },
  {
   "cell_type": "code",
   "execution_count": 31,
   "metadata": {},
   "outputs": [
    {
     "name": "stdout",
     "output_type": "stream",
     "text": [
      "True\n"
     ]
    }
   ],
   "source": [
    "# str.islower()\n",
    "print('a'.islower())"
   ]
  },
  {
   "cell_type": "code",
   "execution_count": 35,
   "metadata": {},
   "outputs": [
    {
     "name": "stdout",
     "output_type": "stream",
     "text": [
      "ABC\n",
      "abc\n",
      "True False\n",
      "65\n",
      "A\n",
      "['1', '2', '3']\n",
      "0-1-0-1-2-3-4-5-6-7-8\n"
     ]
    }
   ],
   "source": [
    "# upper()\n",
    "print('abc'.upper())\n",
    "# lower()\n",
    "print('ABC'.lower())\n",
    "# isdigit()\n",
    "print('123'.isdigit(), 'abc'.isdigit())\n",
    "# ord(str)\n",
    "print(ord('A'))\n",
    "# chr()\n",
    "print(chr(65))\n",
    "# split()\n",
    "print('1 2 3'.split())\n",
    "# 'str'.join(list)\n",
    "print('-'.join('01012345678'))"
   ]
  },
  {
   "cell_type": "code",
   "execution_count": 36,
   "metadata": {},
   "outputs": [
    {
     "name": "stdout",
     "output_type": "stream",
     "text": [
      "{1, 2, 3}\n"
     ]
    }
   ],
   "source": [
    "# set \n",
    "s = {1, 2, 2, 3}\n",
    "\n",
    "print(s)"
   ]
  },
  {
   "cell_type": "code",
   "execution_count": 37,
   "metadata": {},
   "outputs": [
    {
     "name": "stdout",
     "output_type": "stream",
     "text": [
      "{1, 2, 3}\n"
     ]
    }
   ],
   "source": [
    "s.add(1)\n",
    "print(s)"
   ]
  },
  {
   "cell_type": "code",
   "execution_count": 38,
   "metadata": {},
   "outputs": [
    {
     "data": {
      "text/plain": [
       "True"
      ]
     },
     "execution_count": 38,
     "metadata": {},
     "output_type": "execute_result"
    }
   ],
   "source": [
    "2 in s"
   ]
  },
  {
   "cell_type": "code",
   "execution_count": 39,
   "metadata": {},
   "outputs": [
    {
     "name": "stdout",
     "output_type": "stream",
     "text": [
      "{1, 3}\n"
     ]
    }
   ],
   "source": [
    "s.remove(2)\n",
    "print(s)"
   ]
  },
  {
   "cell_type": "code",
   "execution_count": 40,
   "metadata": {},
   "outputs": [],
   "source": [
    "# dictinoary\n",
    "sH = {'a' : 3, 'b' : 5, 'c' : 2}"
   ]
  },
  {
   "cell_type": "code",
   "execution_count": 41,
   "metadata": {},
   "outputs": [
    {
     "name": "stdout",
     "output_type": "stream",
     "text": [
      "a\n",
      "b\n",
      "c\n"
     ]
    }
   ],
   "source": [
    "for key in sH:\n",
    "    print(key)"
   ]
  },
  {
   "cell_type": "code",
   "execution_count": 42,
   "metadata": {},
   "outputs": [
    {
     "name": "stdout",
     "output_type": "stream",
     "text": [
      "3\n",
      "5\n",
      "2\n"
     ]
    }
   ],
   "source": [
    "for val in sH.values():\n",
    "    print(val)"
   ]
  },
  {
   "cell_type": "code",
   "execution_count": 43,
   "metadata": {},
   "outputs": [
    {
     "name": "stdout",
     "output_type": "stream",
     "text": [
      "a 3\n",
      "b 5\n",
      "c 2\n"
     ]
    }
   ],
   "source": [
    "for key, val in sH.items():\n",
    "    print(key, val)"
   ]
  },
  {
   "cell_type": "code",
   "execution_count": 45,
   "metadata": {},
   "outputs": [
    {
     "name": "stdout",
     "output_type": "stream",
     "text": [
      "{'a': 3, 'b': 5, 'c': 2}\n",
      "{'b': 5, 'c': 2}\n"
     ]
    }
   ],
   "source": [
    "print(sH)\n",
    "del(sH['a'])\n",
    "print(sH)"
   ]
  },
  {
   "cell_type": "code",
   "execution_count": 47,
   "metadata": {},
   "outputs": [
    {
     "name": "stdout",
     "output_type": "stream",
     "text": [
      "sTUdy\n"
     ]
    }
   ],
   "source": [
    "def solution(s):\n",
    "    answer = ''\n",
    "    for i in s:\n",
    "        if i.isupper():\n",
    "            answer+=i.lower()\n",
    "        else:\n",
    "            answer+=i.upper()\n",
    "    return answer\n",
    "\n",
    "print(solution('StuDY'))"
   ]
  },
  {
   "cell_type": "code",
   "execution_count": 55,
   "metadata": {},
   "outputs": [
    {
     "name": "stdout",
     "output_type": "stream",
     "text": [
      "kset\n",
      "stek\n",
      "itsme\n"
     ]
    }
   ],
   "source": [
    "def solution(s):\n",
    "    answer=''\n",
    "    for i in range(len(s)):\n",
    "        if s.find(s[i])==i:\n",
    "            answer+=s[i]\n",
    "    return answer\n",
    "print(solution('ksekkset'))\n",
    "print(solution(\"sssssttessskssee\"))\n",
    "print(solution(\"itistime\"))"
   ]
  },
  {
   "cell_type": "code",
   "execution_count": 68,
   "metadata": {},
   "outputs": [
    {
     "name": "stdout",
     "output_type": "stream",
     "text": [
      "tes\n"
     ]
    }
   ],
   "source": [
    "def solution(l):\n",
    "    answer=''\n",
    "    for i in range(len(l[0])):\n",
    "        for j in range(i, len(l[0])):\n",
    "            if l[0][i:j] in l[1] and l[0][i:j] in l[2] and len(l[0][i:j]) > len(answer):    \n",
    "                answer=l[0][i:j]\n",
    "    return answer\n",
    "print(solution(['tesk', 'tesking', 'tesming']))"
   ]
  },
  {
   "cell_type": "code",
   "execution_count": 69,
   "metadata": {},
   "outputs": [
    {
     "name": "stdout",
     "output_type": "stream",
     "text": [
      "long\n"
     ]
    }
   ],
   "source": [
    "def solution(s):\n",
    "    answer = ''\n",
    "    for i in range(len(s[0])):\n",
    "        common = set()\n",
    "        for x in s:\n",
    "            common.add(x[i])\n",
    "        if len(common) == 1:\n",
    "            answer += s[0][i]\n",
    "        else:\n",
    "            break\n",
    "    return answer\n",
    "\n",
    "print(solution(['long', 'longtime', 'longest']))"
   ]
  },
  {
   "cell_type": "code",
   "execution_count": 73,
   "metadata": {},
   "outputs": [
    {
     "name": "stdout",
     "output_type": "stream",
     "text": [
      "YES\n"
     ]
    }
   ],
   "source": [
    "def solution(s):\n",
    "    for i in range(len(s)):\n",
    "        if s[i].lower()!=s[len(s)-i-1].lower():\n",
    "            return 'NO'\n",
    "    return'YES'\n",
    "\n",
    "print(solution('goog'))"
   ]
  },
  {
   "cell_type": "code",
   "execution_count": 76,
   "metadata": {},
   "outputs": [
    {
     "name": "stdout",
     "output_type": "stream",
     "text": [
      "1\n"
     ]
    }
   ],
   "source": [
    "def solution(s):\n",
    "    answer = 1\n",
    "    now = s[0]\n",
    "\n",
    "    for i in range(1, len(s)):\n",
    "        if s[i] <= now:\n",
    "            continue\n",
    "        else:\n",
    "            answer+=1\n",
    "            now = s[i]\n",
    "    return answer\n",
    "\n",
    "print(solution([5, 4, 3, 2, 1]))"
   ]
  },
  {
   "cell_type": "code",
   "execution_count": null,
   "metadata": {},
   "outputs": [],
   "source": []
  }
 ],
 "metadata": {
  "kernelspec": {
   "display_name": "Python 3.8.13 ('kdt')",
   "language": "python",
   "name": "python3"
  },
  "language_info": {
   "codemirror_mode": {
    "name": "ipython",
    "version": 3
   },
   "file_extension": ".py",
   "mimetype": "text/x-python",
   "name": "python",
   "nbconvert_exporter": "python",
   "pygments_lexer": "ipython3",
   "version": "3.8.13"
  },
  "orig_nbformat": 4,
  "vscode": {
   "interpreter": {
    "hash": "7804435f03a357a321c78a28075d8371c0686055268c0f28257257161c9d8dd3"
   }
  }
 },
 "nbformat": 4,
 "nbformat_minor": 2
}
