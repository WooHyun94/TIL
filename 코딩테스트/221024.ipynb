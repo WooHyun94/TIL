{
 "cells": [
  {
   "cell_type": "code",
   "execution_count": 1,
   "metadata": {},
   "outputs": [
    {
     "data": {
      "text/plain": [
       "['a', 'b', 'c', 'd', 'g', 'h', 'i', 'e', 'f', 'j']"
      ]
     },
     "execution_count": 1,
     "metadata": {},
     "output_type": "execute_result"
    }
   ],
   "source": [
    "def bfs(graph, start_node):\n",
    "    visited = list()\n",
    "    need_visit = list()\n",
    "\n",
    "    need_visit.append(start_node)\n",
    "\n",
    "    while need_visit:\n",
    "        node = need_visit.pop(0)\n",
    "        if node not in visited:\n",
    "            visited.append(node)\n",
    "            need_visit.extend(graph[node])\n",
    "    return visited\n",
    "graph = {'a' : ['b', 'c'], 'b' : ['a', 'd'], 'c': ['a', 'g', 'h', 'i'], 'd':['b','e','f']\n",
    "            ,'e' : ['d'], 'f':['d'], 'g':['c'], 'h':['c'], 'i':['c','j'], 'j' : ['i']}\n",
    "bfs(graph, 'a')"
   ]
  },
  {
   "cell_type": "code",
   "execution_count": 2,
   "metadata": {},
   "outputs": [
    {
     "data": {
      "text/plain": [
       "['a', 'c', 'i', 'j', 'h', 'g', 'b', 'd', 'f', 'e']"
      ]
     },
     "execution_count": 2,
     "metadata": {},
     "output_type": "execute_result"
    }
   ],
   "source": [
    "def dfs(graph, start_node):\n",
    "    visited = list()\n",
    "    need_visit = list()\n",
    "\n",
    "    need_visit.append(start_node)\n",
    "\n",
    "    while need_visit:\n",
    "        node = need_visit.pop()\n",
    "        if node not in visited:\n",
    "            visited.append(node)\n",
    "            need_visit.extend(graph[node])\n",
    "    return visited\n",
    "graph = {'a' : ['b', 'c'], 'b' : ['a', 'd'], 'c': ['a', 'g', 'h', 'i'], 'd':['b','e','f']\n",
    "            ,'e' : ['d'], 'f':['d'], 'g':['c'], 'h':['c'], 'i':['c','j'], 'j' : ['i']}\n",
    "dfs(graph, 'a')"
   ]
  },
  {
   "cell_type": "code",
   "execution_count": 3,
   "metadata": {},
   "outputs": [
    {
     "data": {
      "text/plain": [
       "(9, 2, 0, 20)"
      ]
     },
     "execution_count": 3,
     "metadata": {},
     "output_type": "execute_result"
    }
   ],
   "source": [
    "n = 4720\n",
    "\n",
    "d_500 = n // 500\n",
    "n %= 500\n",
    "d_100 = n // 100\n",
    "n %= 100\n",
    "d_50 = n // 50\n",
    "n %= 50\n",
    "d_1 = n // 1\n",
    "d_500, d_100, d_50, d_1\n",
    "\n"
   ]
  },
  {
   "cell_type": "markdown",
   "metadata": {},
   "source": [
    "## 부분 수열"
   ]
  },
  {
   "cell_type": "code",
   "execution_count": 6,
   "metadata": {},
   "outputs": [
    {
     "name": "stdout",
     "output_type": "stream",
     "text": [
      "3\n"
     ]
    }
   ],
   "source": [
    "def solution(nums, m):\n",
    "    answer = 0\n",
    "    sumN = 0\n",
    "    left = 0\n",
    "    for right in range(len(nums)):\n",
    "        sumN += nums[right]\n",
    "        while sumN > m:\n",
    "            sumN -= nums[left]\n",
    "            left += 1\n",
    "        if sumN == m:\n",
    "            answer += 1\n",
    "    return answer\n",
    "\n",
    "print(solution([1, 1, 2, 1, 3, 1, 1, 1, 2], 6))\n"
   ]
  },
  {
   "cell_type": "code",
   "execution_count": 12,
   "metadata": {},
   "outputs": [
    {
     "name": "stdout",
     "output_type": "stream",
     "text": [
      "5\n",
      "2\n"
     ]
    }
   ],
   "source": [
    "def solution(nums, m):\n",
    "    answer = 0\n",
    "    sumN = 0\n",
    "    left = 0\n",
    "    for right in range(len(nums)):\n",
    "        sumN += nums[right]\n",
    "        while sumN > m:\n",
    "            sumN -= nums[left]\n",
    "            left += 1\n",
    "        answer = max(answer, right-left + 1)\n",
    "    return answer\n",
    "\n",
    "print(solution([0, 150, 100, 0, 150, 0, 70, 140], 350))\n",
    "print(solution([100, 200, 300, 400, 500, 100],300))"
   ]
  },
  {
   "cell_type": "code",
   "execution_count": null,
   "metadata": {},
   "outputs": [],
   "source": []
  },
  {
   "cell_type": "code",
   "execution_count": null,
   "metadata": {},
   "outputs": [],
   "source": []
  }
 ],
 "metadata": {
  "kernelspec": {
   "display_name": "Python 3.8.13 ('kdt')",
   "language": "python",
   "name": "python3"
  },
  "language_info": {
   "codemirror_mode": {
    "name": "ipython",
    "version": 3
   },
   "file_extension": ".py",
   "mimetype": "text/x-python",
   "name": "python",
   "nbconvert_exporter": "python",
   "pygments_lexer": "ipython3",
   "version": "3.8.13"
  },
  "orig_nbformat": 4,
  "vscode": {
   "interpreter": {
    "hash": "7804435f03a357a321c78a28075d8371c0686055268c0f28257257161c9d8dd3"
   }
  }
 },
 "nbformat": 4,
 "nbformat_minor": 2
}
