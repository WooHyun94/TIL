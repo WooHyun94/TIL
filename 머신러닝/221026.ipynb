{
 "cells": [
  {
   "cell_type": "markdown",
   "metadata": {},
   "source": [
    "## 머신러닝 \n",
    "- 컴퓨터가 주어진 입력값(x)과 찾고자 하는 값(y) 사이의 관계를 모델링 하는 방법."
   ]
  },
  {
   "cell_type": "markdown",
   "metadata": {},
   "source": [
    "- 머신러닝이란, 경험 E를 통해서 주어진 T에 대해 P로 측정한 값이 향상되는 프로그램을 말합니다.\n",
    "- 우리가 공부하는 것을 생각했을 때도 비슷합니다. 특정 과목 기말고사에서 주어진 족보를 풀어서 기말고사 점수가 향상되는 과정을 학습이라고 합니다. (human learning)\n",
    "- 이 과정을 수학적으로 주어진 입력(X)와 찾으려는 값(y) 사이의 관계 f를 찾는 문제로 정의합니다.\n",
    "- 이 때 f는 function이며 어떤 수식으로 표현되는 함수라기보다는 데이터와 데이터 사이의 관계라고 보는 것이 좋습니다."
   ]
  },
  {
   "cell_type": "markdown",
   "metadata": {},
   "source": [
    "1. Supervised Learning -> 입력 데이터와 그에 해당하는 정답이 함께 학습에 사용되는 방법론.\n",
    "    - Classification : 주어진 데이터를 몇 가지 종류로 나누는 방법\n",
    "    - Regression : 주어진 데이터와 관련이 있다고 생각하는 값 사이의 관계를 찾는 방법\n",
    "2. Unsupervised Learning -> 입력 데이터만 학습에 사용되는 방법론.\n",
    "    - Clustering : 주어진 데이터를 몇 가지 그룹으로 나누는 방법\n",
    "    - Dimensionality Reduction : 주어진 데이터의 중요한 정보들을 뽑아내는 방법\n",
    "3. Reinforcement Learning -> 행동의 대상과 환경 사이의 interaction을 통해서 목표를 최대화하는 학습 방법론\n",
    "    - Real-time decisions : 주어진 환경에 대해서 reactino을 하면서, 최적화가 필요한 방법론\n",
    "    - Game AI : AlphaGo, DeepBlue, AlphaStar"
   ]
  },
  {
   "cell_type": "markdown",
   "metadata": {},
   "source": [
    "## Data Split\n",
    "- 학습에 사용할 데이터와 평가를 할 때 사용할 데이터를 나누느 방법"
   ]
  },
  {
   "cell_type": "markdown",
   "metadata": {},
   "source": [
    "- data split이라고 하면 train-test split을 이야기합니다. (train / text 데이터는 서로 겹치지 않는다.)\n",
    "- training data는 학습에 사용하고, test data는 평가에 사용한다."
   ]
  },
  {
   "cell_type": "markdown",
   "metadata": {},
   "source": [
    "## Training\n",
    "- 머신러닝 모델이 데이터의 패턴을 파악하는 과정"
   ]
  },
  {
   "cell_type": "markdown",
   "metadata": {},
   "source": [
    "- 어떤 모델을 사용하느냐에 따라서, 학습되는 정보가 다릅니다. \n",
    "- 데이터를 보고 정해진 기준에 따라서 정보를 학습합니다. \n",
    "- 학습된 정보를 기준으로 판단(= 예측)을 합니다.\n",
    "- 판단한 내용으로 성능을 평가합니다.\n",
    "- 평가한 성능이 점차 향상되어야 합니다."
   ]
  },
  {
   "cell_type": "markdown",
   "metadata": {},
   "source": [
    "## Inference\n",
    "- 학습된 머신러닝 모델에 test data를 넣어서 결과를 내는 것"
   ]
  },
  {
   "cell_type": "markdown",
   "metadata": {},
   "source": [
    "- 학습된 모델과 test data가 있어야 가능합니다.\n",
    "- inference에서는 학습이 일어나지 않습니다. (= 오답 정리를 하지 않습니다.)"
   ]
  },
  {
   "cell_type": "markdown",
   "metadata": {},
   "source": [
    "기초 통계\n",
    "평균, 분산, 표준편차, 중앙값, 사분위수, 표준정규분포 "
   ]
  },
  {
   "cell_type": "markdown",
   "metadata": {},
   "source": [
    "### 문제 정의\n",
    "1. 발생한 이슈를 어떻게 머신러닝으로 처리할까?\n",
    "2. 문제 해결에 꼭 예측 모델이 필요한가?\n",
    "3. 예측 모델 개발에 필요한 데이터를 얻을 수 있는가?"
   ]
  },
  {
   "cell_type": "markdown",
   "metadata": {},
   "source": [
    "- 대용량 데이터 \n",
    "- 유연함이 필요할 때 \n",
    "- 예측을 해야할 때 \n",
    "- 새로운 데이터가 기존 데이터의 패턴데 완전히 부합하지 않는 경우"
   ]
  },
  {
   "cell_type": "markdown",
   "metadata": {},
   "source": [
    "- 예측 모델 개발에 필요한 데이터를 얻을 수 있는가?\n",
    "    - Data-centric AI"
   ]
  },
  {
   "cell_type": "markdown",
   "metadata": {},
   "source": [
    "1. classification\n",
    "2. regression\n",
    "3. clustering\n",
    "4. ranking\n",
    "5. generation"
   ]
  },
  {
   "cell_type": "markdown",
   "metadata": {},
   "source": [
    "CTR prediction \n",
    "click or nonClick"
   ]
  },
  {
   "cell_type": "markdown",
   "metadata": {},
   "source": [
    "코파일럿"
   ]
  },
  {
   "cell_type": "markdown",
   "metadata": {},
   "source": []
  }
 ],
 "metadata": {
  "kernelspec": {
   "display_name": "Python 3.8.13 ('kdt')",
   "language": "python",
   "name": "python3"
  },
  "language_info": {
   "name": "python",
   "version": "3.8.13"
  },
  "orig_nbformat": 4,
  "vscode": {
   "interpreter": {
    "hash": "7804435f03a357a321c78a28075d8371c0686055268c0f28257257161c9d8dd3"
   }
  }
 },
 "nbformat": 4,
 "nbformat_minor": 2
}
