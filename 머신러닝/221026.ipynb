{
 "cells": [
  {
   "cell_type": "markdown",
   "metadata": {},
   "source": [
    "## 머신러닝 \n",
    "- 컴퓨터가 주어진 입력값(x)과 찾고자 하는 값(y) 사이의 관계를 모델링 하는 방법."
   ]
  },
  {
   "cell_type": "markdown",
   "metadata": {},
   "source": [
    "- 머신러닝이란, 경험 E를 통해서 주어진 T에 대해 P로 측정한 값이 향상되는 프로그램을 말합니다.\n",
    "- 우리가 공부하는 것을 생각했을 때도 비슷합니다. 특정 과목 기말고사에서 주어진 족보를 풀어서 기말고사 점수가 향상되는 과정을 학습이라고 합니다. (human learning)\n",
    "- 이 과정을 수학적으로 주어진 입력(X)와 찾으려는 값(y) 사이의 관계 f를 찾는 문제로 정의합니다.\n",
    "- 이 때 f는 function이며 어떤 수식으로 표현되는 함수라기보다는 데이터와 데이터 사이의 관계라고 보는 것이 좋습니다."
   ]
  },
  {
   "cell_type": "markdown",
   "metadata": {},
   "source": [
    "1. Supervised Learning -> 입력 데이터와 그에 해당하는 정답이 함께 학습에 사용되는 방법론.\n",
    "    - Classification : 주어진 데이터를 몇 가지 종류로 나누는 방법\n",
    "    - Regression : 주어진 데이터와 관련이 있다고 생각하는 값 사이의 관계를 찾는 방법\n",
    "2. Unsupervised Learning -> 입력 데이터만 학습에 사용되는 방법론.\n",
    "    - Clustering : 주어진 데이터를 몇 가지 그룹으로 나누는 방법\n",
    "    - Dimensionality Reduction : 주어진 데이터의 중요한 정보들을 뽑아내는 방법\n",
    "3. Reinforcement Learning -> 행동의 대상과 환경 사이의 interaction을 통해서 목표를 최대화하는 학습 방법론\n",
    "    - Real-time decisions : 주어진 환경에 대해서 reactino을 하면서, 최적화가 필요한 방법론\n",
    "    - Game AI : AlphaGo, DeepBlue, AlphaStar"
   ]
  },
  {
   "cell_type": "markdown",
   "metadata": {},
   "source": []
  }
 ],
 "metadata": {
  "language_info": {
   "name": "python"
  },
  "orig_nbformat": 4
 },
 "nbformat": 4,
 "nbformat_minor": 2
}
