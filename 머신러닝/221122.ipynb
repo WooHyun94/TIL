{
  "nbformat": 4,
  "nbformat_minor": 0,
  "metadata": {
    "colab": {
      "provenance": []
    },
    "kernelspec": {
      "name": "python3",
      "display_name": "Python 3"
    },
    "language_info": {
      "name": "python"
    },
    "accelerator": "GPU",
    "gpuClass": "standard"
  },
  "cells": [
    {
      "cell_type": "code",
      "execution_count": 1,
      "metadata": {
        "colab": {
          "base_uri": "https://localhost:8080/"
        },
        "id": "lQ0pTKHJY-az",
        "outputId": "56d14f3d-383e-4153-a356-715d9cb58fba"
      },
      "outputs": [
        {
          "output_type": "stream",
          "name": "stdout",
          "text": [
            "Reading package lists... Done\n",
            "Building dependency tree       \n",
            "Reading state information... Done\n",
            "fonts-nanum is already the newest version (20170925-1).\n",
            "The following package was automatically installed and is no longer required:\n",
            "  libnvidia-common-460\n",
            "Use 'sudo apt autoremove' to remove it.\n",
            "0 upgraded, 0 newly installed, 0 to remove and 5 not upgraded.\n",
            "/usr/share/fonts: caching, new cache contents: 0 fonts, 1 dirs\n",
            "/usr/share/fonts/truetype: caching, new cache contents: 0 fonts, 3 dirs\n",
            "/usr/share/fonts/truetype/humor-sans: caching, new cache contents: 1 fonts, 0 dirs\n",
            "/usr/share/fonts/truetype/liberation: caching, new cache contents: 16 fonts, 0 dirs\n",
            "/usr/share/fonts/truetype/nanum: caching, new cache contents: 10 fonts, 0 dirs\n",
            "/usr/local/share/fonts: caching, new cache contents: 0 fonts, 0 dirs\n",
            "/root/.local/share/fonts: skipping, no such directory\n",
            "/root/.fonts: skipping, no such directory\n",
            "/var/cache/fontconfig: cleaning cache directory\n",
            "/root/.cache/fontconfig: not cleaning non-existent cache directory\n",
            "/root/.fontconfig: not cleaning non-existent cache directory\n",
            "fc-cache: succeeded\n"
          ]
        }
      ],
      "source": [
        "!sudo apt-get install -y fonts-nanum\n",
        "!sudo fc-cache -fv\n",
        "!rm ~/.cache/matplotlib -rf"
      ]
    },
    {
      "cell_type": "code",
      "source": [
        "!nvidia-smi"
      ],
      "metadata": {
        "colab": {
          "base_uri": "https://localhost:8080/"
        },
        "id": "RIlSMLNdZNBx",
        "outputId": "8e4458d3-a23d-4027-cfca-a8b0b16ad42a"
      },
      "execution_count": 2,
      "outputs": [
        {
          "output_type": "stream",
          "name": "stdout",
          "text": [
            "NVIDIA-SMI has failed because it couldn't communicate with the NVIDIA driver. Make sure that the latest NVIDIA driver is installed and running.\n",
            "\n"
          ]
        }
      ]
    },
    {
      "cell_type": "code",
      "source": [
        "from google.colab import drive\n",
        "drive.mount('/content/drive')"
      ],
      "metadata": {
        "colab": {
          "base_uri": "https://localhost:8080/"
        },
        "id": "ik6S-hM7ZPAw",
        "outputId": "c6b52664-4829-4e3a-e8ea-2dbf848f81ee"
      },
      "execution_count": 3,
      "outputs": [
        {
          "output_type": "stream",
          "name": "stdout",
          "text": [
            "Drive already mounted at /content/drive; to attempt to forcibly remount, call drive.mount(\"/content/drive\", force_remount=True).\n"
          ]
        }
      ]
    },
    {
      "cell_type": "code",
      "source": [
        "!pip install optuna"
      ],
      "metadata": {
        "colab": {
          "base_uri": "https://localhost:8080/"
        },
        "id": "w3LX0cGlaRki",
        "outputId": "d158f69a-4c18-4ed6-94ee-53e5f6045b95"
      },
      "execution_count": 4,
      "outputs": [
        {
          "output_type": "stream",
          "name": "stdout",
          "text": [
            "Looking in indexes: https://pypi.org/simple, https://us-python.pkg.dev/colab-wheels/public/simple/\n",
            "Requirement already satisfied: optuna in /usr/local/lib/python3.7/dist-packages (3.0.3)\n",
            "Requirement already satisfied: PyYAML in /usr/local/lib/python3.7/dist-packages (from optuna) (6.0)\n",
            "Requirement already satisfied: alembic>=1.5.0 in /usr/local/lib/python3.7/dist-packages (from optuna) (1.8.1)\n",
            "Requirement already satisfied: importlib-metadata<5.0.0 in /usr/local/lib/python3.7/dist-packages (from optuna) (4.13.0)\n",
            "Requirement already satisfied: cmaes>=0.8.2 in /usr/local/lib/python3.7/dist-packages (from optuna) (0.9.0)\n",
            "Requirement already satisfied: packaging>=20.0 in /usr/local/lib/python3.7/dist-packages (from optuna) (21.3)\n",
            "Requirement already satisfied: tqdm in /usr/local/lib/python3.7/dist-packages (from optuna) (4.64.1)\n",
            "Requirement already satisfied: cliff in /usr/local/lib/python3.7/dist-packages (from optuna) (3.10.1)\n",
            "Requirement already satisfied: sqlalchemy>=1.3.0 in /usr/local/lib/python3.7/dist-packages (from optuna) (1.4.44)\n",
            "Requirement already satisfied: numpy in /usr/local/lib/python3.7/dist-packages (from optuna) (1.21.6)\n",
            "Requirement already satisfied: scipy<1.9.0,>=1.7.0 in /usr/local/lib/python3.7/dist-packages (from optuna) (1.7.3)\n",
            "Requirement already satisfied: colorlog in /usr/local/lib/python3.7/dist-packages (from optuna) (6.7.0)\n",
            "Requirement already satisfied: Mako in /usr/local/lib/python3.7/dist-packages (from alembic>=1.5.0->optuna) (1.2.4)\n",
            "Requirement already satisfied: importlib-resources in /usr/local/lib/python3.7/dist-packages (from alembic>=1.5.0->optuna) (5.10.0)\n",
            "Requirement already satisfied: typing-extensions>=3.6.4 in /usr/local/lib/python3.7/dist-packages (from importlib-metadata<5.0.0->optuna) (4.1.1)\n",
            "Requirement already satisfied: zipp>=0.5 in /usr/local/lib/python3.7/dist-packages (from importlib-metadata<5.0.0->optuna) (3.10.0)\n",
            "Requirement already satisfied: pyparsing!=3.0.5,>=2.0.2 in /usr/local/lib/python3.7/dist-packages (from packaging>=20.0->optuna) (3.0.9)\n",
            "Requirement already satisfied: greenlet!=0.4.17 in /usr/local/lib/python3.7/dist-packages (from sqlalchemy>=1.3.0->optuna) (2.0.1)\n",
            "Requirement already satisfied: PrettyTable>=0.7.2 in /usr/local/lib/python3.7/dist-packages (from cliff->optuna) (3.5.0)\n",
            "Requirement already satisfied: pbr!=2.1.0,>=2.0.0 in /usr/local/lib/python3.7/dist-packages (from cliff->optuna) (5.11.0)\n",
            "Requirement already satisfied: stevedore>=2.0.1 in /usr/local/lib/python3.7/dist-packages (from cliff->optuna) (3.5.2)\n",
            "Requirement already satisfied: autopage>=0.4.0 in /usr/local/lib/python3.7/dist-packages (from cliff->optuna) (0.5.1)\n",
            "Requirement already satisfied: cmd2>=1.0.0 in /usr/local/lib/python3.7/dist-packages (from cliff->optuna) (2.4.2)\n",
            "Requirement already satisfied: attrs>=16.3.0 in /usr/local/lib/python3.7/dist-packages (from cmd2>=1.0.0->cliff->optuna) (22.1.0)\n",
            "Requirement already satisfied: pyperclip>=1.6 in /usr/local/lib/python3.7/dist-packages (from cmd2>=1.0.0->cliff->optuna) (1.8.2)\n",
            "Requirement already satisfied: wcwidth>=0.1.7 in /usr/local/lib/python3.7/dist-packages (from cmd2>=1.0.0->cliff->optuna) (0.2.5)\n",
            "Requirement already satisfied: MarkupSafe>=0.9.2 in /usr/local/lib/python3.7/dist-packages (from Mako->alembic>=1.5.0->optuna) (2.0.1)\n"
          ]
        }
      ]
    },
    {
      "cell_type": "code",
      "source": [
        "!pip install haversine"
      ],
      "metadata": {
        "id": "WT_8pVAjQqXx",
        "colab": {
          "base_uri": "https://localhost:8080/"
        },
        "outputId": "2038d976-3570-41c2-da6e-528c668412e2"
      },
      "execution_count": 5,
      "outputs": [
        {
          "output_type": "stream",
          "name": "stdout",
          "text": [
            "Looking in indexes: https://pypi.org/simple, https://us-python.pkg.dev/colab-wheels/public/simple/\n",
            "Collecting haversine\n",
            "  Downloading haversine-2.7.0-py2.py3-none-any.whl (6.9 kB)\n",
            "Installing collected packages: haversine\n",
            "Successfully installed haversine-2.7.0\n"
          ]
        }
      ]
    },
    {
      "cell_type": "code",
      "source": [
        "# 데이터분석 4종 세트\n",
        "import numpy as np\n",
        "import pandas as pd\n",
        "import matplotlib.pyplot as plt\n",
        "import seaborn as sns\n",
        "from haversine import haversine\n",
        "\n",
        "# 모델들, 성능 평가\n",
        "# (저는 일반적으로 정형데이터로 머신러닝 분석할 때는 이 2개 모델은 그냥 돌려봅니다. 특히 RF가 테스트하기 좋습니다.)\n",
        "from sklearn.ensemble import RandomForestClassifier\n",
        "from sklearn.ensemble import RandomForestRegressor\n",
        "from lightgbm.sklearn import LGBMClassifier\n",
        "from lightgbm.sklearn import LGBMRegressor\n",
        "\n",
        "# 상관관계 분석, VIF : 다중공선성 제거\n",
        "from statsmodels.stats.outliers_influence import variance_inflation_factor\n",
        "\n",
        "# KFold(CV), partial : optuna를 사용하기 위함\n",
        "from sklearn.model_selection import KFold\n",
        "from functools import partial\n",
        "from sklearn.metrics import mean_absolute_error\n",
        "\n",
        "# hyper-parameter tuning을 위한 라이브러리, optuna\n",
        "import optuna\n",
        "\n",
        "plt.rc('font', family='NanumBarunGothic') \n",
        "from collections import Counter"
      ],
      "metadata": {
        "id": "n0MzUw4mZS8D"
      },
      "execution_count": 6,
      "outputs": []
    },
    {
      "cell_type": "code",
      "source": [
        "plt.rc('font', family='NanumBarunGothic') "
      ],
      "metadata": {
        "id": "xJloaxX2zyDJ"
      },
      "execution_count": 7,
      "outputs": []
    },
    {
      "cell_type": "code",
      "source": [
        "data_path = '/content/drive/MyDrive/Colab Notebooks/data/open/'"
      ],
      "metadata": {
        "id": "KrOwIhQnaOkY"
      },
      "execution_count": 8,
      "outputs": []
    },
    {
      "cell_type": "code",
      "source": [
        "data_info_df = pd.read_csv(data_path + 'data_info.csv')\n",
        "test_df = pd.read_csv(data_path + 'test.csv')\n",
        "train_df = pd.read_csv(data_path + 'train.csv')"
      ],
      "metadata": {
        "id": "pSnZz1olat5O"
      },
      "execution_count": 9,
      "outputs": []
    },
    {
      "cell_type": "code",
      "source": [
        "train_df.base_date = pd.to_datetime(train_df.base_date, format='%Y%m%d')\n",
        "train_df.day_of_week = train_df.base_date.dt.day_of_week\n",
        "\n",
        "test_df.base_date = pd.to_datetime(test_df.base_date, format='%Y%m%d')\n",
        "test_df.day_of_week = test_df.base_date.dt.day_of_week\n"
      ],
      "metadata": {
        "id": "SCkGit98bxhm"
      },
      "execution_count": 10,
      "outputs": []
    },
    {
      "cell_type": "code",
      "source": [
        "train_df.info()\n",
        "# object 타입의 칼럼이 존재 -> 해당 부분 전처리 생각하기"
      ],
      "metadata": {
        "colab": {
          "base_uri": "https://localhost:8080/"
        },
        "id": "rRZL4AE5bOki",
        "outputId": "506f4d61-452e-438c-daad-7ff658696833"
      },
      "execution_count": 11,
      "outputs": [
        {
          "output_type": "stream",
          "name": "stdout",
          "text": [
            "<class 'pandas.core.frame.DataFrame'>\n",
            "RangeIndex: 4701217 entries, 0 to 4701216\n",
            "Data columns (total 23 columns):\n",
            " #   Column                 Dtype         \n",
            "---  ------                 -----         \n",
            " 0   id                     object        \n",
            " 1   base_date              datetime64[ns]\n",
            " 2   day_of_week            int64         \n",
            " 3   base_hour              int64         \n",
            " 4   lane_count             int64         \n",
            " 5   road_rating            int64         \n",
            " 6   road_name              object        \n",
            " 7   multi_linked           int64         \n",
            " 8   connect_code           int64         \n",
            " 9   maximum_speed_limit    float64       \n",
            " 10  vehicle_restricted     float64       \n",
            " 11  weight_restricted      float64       \n",
            " 12  height_restricted      float64       \n",
            " 13  road_type              int64         \n",
            " 14  start_node_name        object        \n",
            " 15  start_latitude         float64       \n",
            " 16  start_longitude        float64       \n",
            " 17  start_turn_restricted  object        \n",
            " 18  end_node_name          object        \n",
            " 19  end_latitude           float64       \n",
            " 20  end_longitude          float64       \n",
            " 21  end_turn_restricted    object        \n",
            " 22  target                 float64       \n",
            "dtypes: datetime64[ns](1), float64(9), int64(7), object(6)\n",
            "memory usage: 825.0+ MB\n"
          ]
        }
      ]
    },
    {
      "cell_type": "code",
      "source": [
        "# 결측치 확인\n",
        "train_df.loc[train_df.isnull().any(axis = 1)]"
      ],
      "metadata": {
        "colab": {
          "base_uri": "https://localhost:8080/",
          "height": 143
        },
        "id": "KmRez_26bmX8",
        "outputId": "6a8a40c4-0205-430e-c3ac-5c9c4f76ddda"
      },
      "execution_count": 12,
      "outputs": [
        {
          "output_type": "execute_result",
          "data": {
            "text/plain": [
              "Empty DataFrame\n",
              "Columns: [id, base_date, day_of_week, base_hour, lane_count, road_rating, road_name, multi_linked, connect_code, maximum_speed_limit, vehicle_restricted, weight_restricted, height_restricted, road_type, start_node_name, start_latitude, start_longitude, start_turn_restricted, end_node_name, end_latitude, end_longitude, end_turn_restricted, target]\n",
              "Index: []\n",
              "\n",
              "[0 rows x 23 columns]"
            ],
            "text/html": [
              "\n",
              "  <div id=\"df-52f0b3ea-0586-4fc9-aa1a-a32f30936f58\">\n",
              "    <div class=\"colab-df-container\">\n",
              "      <div>\n",
              "<style scoped>\n",
              "    .dataframe tbody tr th:only-of-type {\n",
              "        vertical-align: middle;\n",
              "    }\n",
              "\n",
              "    .dataframe tbody tr th {\n",
              "        vertical-align: top;\n",
              "    }\n",
              "\n",
              "    .dataframe thead th {\n",
              "        text-align: right;\n",
              "    }\n",
              "</style>\n",
              "<table border=\"1\" class=\"dataframe\">\n",
              "  <thead>\n",
              "    <tr style=\"text-align: right;\">\n",
              "      <th></th>\n",
              "      <th>id</th>\n",
              "      <th>base_date</th>\n",
              "      <th>day_of_week</th>\n",
              "      <th>base_hour</th>\n",
              "      <th>lane_count</th>\n",
              "      <th>road_rating</th>\n",
              "      <th>road_name</th>\n",
              "      <th>multi_linked</th>\n",
              "      <th>connect_code</th>\n",
              "      <th>maximum_speed_limit</th>\n",
              "      <th>...</th>\n",
              "      <th>road_type</th>\n",
              "      <th>start_node_name</th>\n",
              "      <th>start_latitude</th>\n",
              "      <th>start_longitude</th>\n",
              "      <th>start_turn_restricted</th>\n",
              "      <th>end_node_name</th>\n",
              "      <th>end_latitude</th>\n",
              "      <th>end_longitude</th>\n",
              "      <th>end_turn_restricted</th>\n",
              "      <th>target</th>\n",
              "    </tr>\n",
              "  </thead>\n",
              "  <tbody>\n",
              "  </tbody>\n",
              "</table>\n",
              "<p>0 rows × 23 columns</p>\n",
              "</div>\n",
              "      <button class=\"colab-df-convert\" onclick=\"convertToInteractive('df-52f0b3ea-0586-4fc9-aa1a-a32f30936f58')\"\n",
              "              title=\"Convert this dataframe to an interactive table.\"\n",
              "              style=\"display:none;\">\n",
              "        \n",
              "  <svg xmlns=\"http://www.w3.org/2000/svg\" height=\"24px\"viewBox=\"0 0 24 24\"\n",
              "       width=\"24px\">\n",
              "    <path d=\"M0 0h24v24H0V0z\" fill=\"none\"/>\n",
              "    <path d=\"M18.56 5.44l.94 2.06.94-2.06 2.06-.94-2.06-.94-.94-2.06-.94 2.06-2.06.94zm-11 1L8.5 8.5l.94-2.06 2.06-.94-2.06-.94L8.5 2.5l-.94 2.06-2.06.94zm10 10l.94 2.06.94-2.06 2.06-.94-2.06-.94-.94-2.06-.94 2.06-2.06.94z\"/><path d=\"M17.41 7.96l-1.37-1.37c-.4-.4-.92-.59-1.43-.59-.52 0-1.04.2-1.43.59L10.3 9.45l-7.72 7.72c-.78.78-.78 2.05 0 2.83L4 21.41c.39.39.9.59 1.41.59.51 0 1.02-.2 1.41-.59l7.78-7.78 2.81-2.81c.8-.78.8-2.07 0-2.86zM5.41 20L4 18.59l7.72-7.72 1.47 1.35L5.41 20z\"/>\n",
              "  </svg>\n",
              "      </button>\n",
              "      \n",
              "  <style>\n",
              "    .colab-df-container {\n",
              "      display:flex;\n",
              "      flex-wrap:wrap;\n",
              "      gap: 12px;\n",
              "    }\n",
              "\n",
              "    .colab-df-convert {\n",
              "      background-color: #E8F0FE;\n",
              "      border: none;\n",
              "      border-radius: 50%;\n",
              "      cursor: pointer;\n",
              "      display: none;\n",
              "      fill: #1967D2;\n",
              "      height: 32px;\n",
              "      padding: 0 0 0 0;\n",
              "      width: 32px;\n",
              "    }\n",
              "\n",
              "    .colab-df-convert:hover {\n",
              "      background-color: #E2EBFA;\n",
              "      box-shadow: 0px 1px 2px rgba(60, 64, 67, 0.3), 0px 1px 3px 1px rgba(60, 64, 67, 0.15);\n",
              "      fill: #174EA6;\n",
              "    }\n",
              "\n",
              "    [theme=dark] .colab-df-convert {\n",
              "      background-color: #3B4455;\n",
              "      fill: #D2E3FC;\n",
              "    }\n",
              "\n",
              "    [theme=dark] .colab-df-convert:hover {\n",
              "      background-color: #434B5C;\n",
              "      box-shadow: 0px 1px 3px 1px rgba(0, 0, 0, 0.15);\n",
              "      filter: drop-shadow(0px 1px 2px rgba(0, 0, 0, 0.3));\n",
              "      fill: #FFFFFF;\n",
              "    }\n",
              "  </style>\n",
              "\n",
              "      <script>\n",
              "        const buttonEl =\n",
              "          document.querySelector('#df-52f0b3ea-0586-4fc9-aa1a-a32f30936f58 button.colab-df-convert');\n",
              "        buttonEl.style.display =\n",
              "          google.colab.kernel.accessAllowed ? 'block' : 'none';\n",
              "\n",
              "        async function convertToInteractive(key) {\n",
              "          const element = document.querySelector('#df-52f0b3ea-0586-4fc9-aa1a-a32f30936f58');\n",
              "          const dataTable =\n",
              "            await google.colab.kernel.invokeFunction('convertToInteractive',\n",
              "                                                     [key], {});\n",
              "          if (!dataTable) return;\n",
              "\n",
              "          const docLinkHtml = 'Like what you see? Visit the ' +\n",
              "            '<a target=\"_blank\" href=https://colab.research.google.com/notebooks/data_table.ipynb>data table notebook</a>'\n",
              "            + ' to learn more about interactive tables.';\n",
              "          element.innerHTML = '';\n",
              "          dataTable['output_type'] = 'display_data';\n",
              "          await google.colab.output.renderOutput(dataTable, element);\n",
              "          const docLink = document.createElement('div');\n",
              "          docLink.innerHTML = docLinkHtml;\n",
              "          element.appendChild(docLink);\n",
              "        }\n",
              "      </script>\n",
              "    </div>\n",
              "  </div>\n",
              "  "
            ]
          },
          "metadata": {},
          "execution_count": 12
        }
      ]
    },
    {
      "cell_type": "code",
      "source": [
        "train_df.weight_restricted.value_counts()"
      ],
      "metadata": {
        "colab": {
          "base_uri": "https://localhost:8080/"
        },
        "id": "0XoteFyIFGwy",
        "outputId": "085c3696-f974-448b-8647-d0643436ad80"
      },
      "execution_count": 13,
      "outputs": [
        {
          "output_type": "execute_result",
          "data": {
            "text/plain": [
              "0.0        4032874\n",
              "43200.0     410361\n",
              "32400.0     239305\n",
              "50000.0      18677\n",
              "Name: weight_restricted, dtype: int64"
            ]
          },
          "metadata": {},
          "execution_count": 13
        }
      ]
    },
    {
      "cell_type": "code",
      "source": [
        "def f(x):\n",
        "  if x=='없음':\n",
        "    return 0\n",
        "  else:\n",
        "    return 1"
      ],
      "metadata": {
        "id": "_f4V88FQnnjP"
      },
      "execution_count": 14,
      "outputs": []
    },
    {
      "cell_type": "code",
      "source": [
        "train_df.start_turn_restricted = train_df.start_turn_restricted.apply(f)\n",
        "train_df.end_turn_restricted = train_df.end_turn_restricted.apply(f)"
      ],
      "metadata": {
        "id": "t1oGlW48noc8"
      },
      "execution_count": 15,
      "outputs": []
    },
    {
      "cell_type": "code",
      "source": [
        "train_df.end_turn_restricted.value_counts()"
      ],
      "metadata": {
        "colab": {
          "base_uri": "https://localhost:8080/"
        },
        "id": "BhkhWFGfjc2X",
        "outputId": "b268551b-3d7c-4e75-b612-024a2490b5ff"
      },
      "execution_count": 16,
      "outputs": [
        {
          "output_type": "execute_result",
          "data": {
            "text/plain": [
              "0    4239599\n",
              "1     461618\n",
              "Name: end_turn_restricted, dtype: int64"
            ]
          },
          "metadata": {},
          "execution_count": 16
        }
      ]
    },
    {
      "cell_type": "code",
      "source": [
        "test_df.start_turn_restricted = test_df.start_turn_restricted.apply(f)\n",
        "test_df.end_turn_restricted = test_df.end_turn_restricted.apply(f)"
      ],
      "metadata": {
        "id": "oZCIF5p5iCql"
      },
      "execution_count": 17,
      "outputs": []
    },
    {
      "cell_type": "code",
      "source": [
        "(train_df.target - train_df.maximum_speed_limit).mean()"
      ],
      "metadata": {
        "colab": {
          "base_uri": "https://localhost:8080/"
        },
        "id": "3ZG-XWPYOavF",
        "outputId": "585468b5-18b7-4c7a-a113-54948f28a34c"
      },
      "execution_count": 18,
      "outputs": [
        {
          "output_type": "execute_result",
          "data": {
            "text/plain": [
              "-18.46485069717054"
            ]
          },
          "metadata": {},
          "execution_count": 18
        }
      ]
    },
    {
      "cell_type": "code",
      "source": [
        "day_of_week = [i for i in range(7)]"
      ],
      "metadata": {
        "id": "jJZ3ut0AvIDT"
      },
      "execution_count": 19,
      "outputs": []
    },
    {
      "cell_type": "code",
      "source": [
        "cctv = pd.read_csv(data_path + '전국무인교통단속카메라표준데이터.csv', encoding='cp949')"
      ],
      "metadata": {
        "id": "at1t0x5tqXsD"
      },
      "execution_count": 20,
      "outputs": []
    },
    {
      "cell_type": "code",
      "source": [
        "cctv = cctv.drop(columns=['무인교통단속카메라관리번호']).loc[cctv['시도명']=='제주특별자치도']"
      ],
      "metadata": {
        "id": "grjywmqGEbxo"
      },
      "execution_count": 21,
      "outputs": []
    },
    {
      "cell_type": "code",
      "source": [
        "cctv.columns"
      ],
      "metadata": {
        "colab": {
          "base_uri": "https://localhost:8080/"
        },
        "id": "WJQ-qE6cEnPT",
        "outputId": "e7670d51-1d89-4fe5-eb34-c90b65bec244"
      },
      "execution_count": 22,
      "outputs": [
        {
          "output_type": "execute_result",
          "data": {
            "text/plain": [
              "Index(['시도명', '시군구명', '도로종류', '도로노선번호', '도로노선명', '도로노선방향', '소재지도로명주소',\n",
              "       '소재지지번주소', '위도', '경도', '설치장소', '단속구분', '제한속도', '단속구간위치구분', '과속단속구간길이',\n",
              "       '보호구역구분', '설치연도', '관리기관명', '관리기관전화번호', '데이터기준일자', '제공기관코드', '제공기관명'],\n",
              "      dtype='object')"
            ]
          },
          "metadata": {},
          "execution_count": 22
        }
      ]
    },
    {
      "cell_type": "code",
      "source": [
        "cctv = cctv[['시군구명', '위도', '경도', '도로노선명', '도로노선방향', '보호구역구분', '설치연도']]"
      ],
      "metadata": {
        "id": "7aaJiwz7FjHT"
      },
      "execution_count": 23,
      "outputs": []
    },
    {
      "cell_type": "code",
      "source": [
        "cctv.loc[cctv.isnull().any(axis=1)]"
      ],
      "metadata": {
        "colab": {
          "base_uri": "https://localhost:8080/",
          "height": 424
        },
        "id": "dagNzA4IFoat",
        "outputId": "a0713c0f-a8d4-4ddb-87d1-d35277b63785"
      },
      "execution_count": 24,
      "outputs": [
        {
          "output_type": "execute_result",
          "data": {
            "text/plain": [
              "      시군구명         위도          경도 도로노선명 도로노선방향 보호구역구분    설치연도\n",
              "8467  서귀포시  33.300907  126.719507   남조로     01    NaN  2021.0\n",
              "8468  서귀포시  33.239707  126.233588  일주서로     01    NaN  2021.0\n",
              "8469  서귀포시  33.250412  126.303975  일주서로     01    NaN  2021.0\n",
              "8470   제주시  33.447728  126.555973  516로     02    NaN  2021.0\n",
              "8471   제주시  33.388584  126.376083  산록서로     02    NaN  2022.0\n",
              "...    ...        ...         ...   ...    ...    ...     ...\n",
              "8923   제주시  33.495281  126.585021   번영로     01    NaN  2013.0\n",
              "8927  서귀포시  33.288991  126.351411   한창로     02    NaN  2014.0\n",
              "8928  서귀포시  33.292441  126.352361   한창로     01    NaN  2014.0\n",
              "8929   제주시  33.298081  126.184501  일주서로     01    NaN  2013.0\n",
              "8930   제주시  33.491801  126.893901  일주동로     02    NaN  2013.0\n",
              "\n",
              "[211 rows x 7 columns]"
            ],
            "text/html": [
              "\n",
              "  <div id=\"df-eede63c6-0948-4164-8088-c403c7b4f28a\">\n",
              "    <div class=\"colab-df-container\">\n",
              "      <div>\n",
              "<style scoped>\n",
              "    .dataframe tbody tr th:only-of-type {\n",
              "        vertical-align: middle;\n",
              "    }\n",
              "\n",
              "    .dataframe tbody tr th {\n",
              "        vertical-align: top;\n",
              "    }\n",
              "\n",
              "    .dataframe thead th {\n",
              "        text-align: right;\n",
              "    }\n",
              "</style>\n",
              "<table border=\"1\" class=\"dataframe\">\n",
              "  <thead>\n",
              "    <tr style=\"text-align: right;\">\n",
              "      <th></th>\n",
              "      <th>시군구명</th>\n",
              "      <th>위도</th>\n",
              "      <th>경도</th>\n",
              "      <th>도로노선명</th>\n",
              "      <th>도로노선방향</th>\n",
              "      <th>보호구역구분</th>\n",
              "      <th>설치연도</th>\n",
              "    </tr>\n",
              "  </thead>\n",
              "  <tbody>\n",
              "    <tr>\n",
              "      <th>8467</th>\n",
              "      <td>서귀포시</td>\n",
              "      <td>33.300907</td>\n",
              "      <td>126.719507</td>\n",
              "      <td>남조로</td>\n",
              "      <td>01</td>\n",
              "      <td>NaN</td>\n",
              "      <td>2021.0</td>\n",
              "    </tr>\n",
              "    <tr>\n",
              "      <th>8468</th>\n",
              "      <td>서귀포시</td>\n",
              "      <td>33.239707</td>\n",
              "      <td>126.233588</td>\n",
              "      <td>일주서로</td>\n",
              "      <td>01</td>\n",
              "      <td>NaN</td>\n",
              "      <td>2021.0</td>\n",
              "    </tr>\n",
              "    <tr>\n",
              "      <th>8469</th>\n",
              "      <td>서귀포시</td>\n",
              "      <td>33.250412</td>\n",
              "      <td>126.303975</td>\n",
              "      <td>일주서로</td>\n",
              "      <td>01</td>\n",
              "      <td>NaN</td>\n",
              "      <td>2021.0</td>\n",
              "    </tr>\n",
              "    <tr>\n",
              "      <th>8470</th>\n",
              "      <td>제주시</td>\n",
              "      <td>33.447728</td>\n",
              "      <td>126.555973</td>\n",
              "      <td>516로</td>\n",
              "      <td>02</td>\n",
              "      <td>NaN</td>\n",
              "      <td>2021.0</td>\n",
              "    </tr>\n",
              "    <tr>\n",
              "      <th>8471</th>\n",
              "      <td>제주시</td>\n",
              "      <td>33.388584</td>\n",
              "      <td>126.376083</td>\n",
              "      <td>산록서로</td>\n",
              "      <td>02</td>\n",
              "      <td>NaN</td>\n",
              "      <td>2022.0</td>\n",
              "    </tr>\n",
              "    <tr>\n",
              "      <th>...</th>\n",
              "      <td>...</td>\n",
              "      <td>...</td>\n",
              "      <td>...</td>\n",
              "      <td>...</td>\n",
              "      <td>...</td>\n",
              "      <td>...</td>\n",
              "      <td>...</td>\n",
              "    </tr>\n",
              "    <tr>\n",
              "      <th>8923</th>\n",
              "      <td>제주시</td>\n",
              "      <td>33.495281</td>\n",
              "      <td>126.585021</td>\n",
              "      <td>번영로</td>\n",
              "      <td>01</td>\n",
              "      <td>NaN</td>\n",
              "      <td>2013.0</td>\n",
              "    </tr>\n",
              "    <tr>\n",
              "      <th>8927</th>\n",
              "      <td>서귀포시</td>\n",
              "      <td>33.288991</td>\n",
              "      <td>126.351411</td>\n",
              "      <td>한창로</td>\n",
              "      <td>02</td>\n",
              "      <td>NaN</td>\n",
              "      <td>2014.0</td>\n",
              "    </tr>\n",
              "    <tr>\n",
              "      <th>8928</th>\n",
              "      <td>서귀포시</td>\n",
              "      <td>33.292441</td>\n",
              "      <td>126.352361</td>\n",
              "      <td>한창로</td>\n",
              "      <td>01</td>\n",
              "      <td>NaN</td>\n",
              "      <td>2014.0</td>\n",
              "    </tr>\n",
              "    <tr>\n",
              "      <th>8929</th>\n",
              "      <td>제주시</td>\n",
              "      <td>33.298081</td>\n",
              "      <td>126.184501</td>\n",
              "      <td>일주서로</td>\n",
              "      <td>01</td>\n",
              "      <td>NaN</td>\n",
              "      <td>2013.0</td>\n",
              "    </tr>\n",
              "    <tr>\n",
              "      <th>8930</th>\n",
              "      <td>제주시</td>\n",
              "      <td>33.491801</td>\n",
              "      <td>126.893901</td>\n",
              "      <td>일주동로</td>\n",
              "      <td>02</td>\n",
              "      <td>NaN</td>\n",
              "      <td>2013.0</td>\n",
              "    </tr>\n",
              "  </tbody>\n",
              "</table>\n",
              "<p>211 rows × 7 columns</p>\n",
              "</div>\n",
              "      <button class=\"colab-df-convert\" onclick=\"convertToInteractive('df-eede63c6-0948-4164-8088-c403c7b4f28a')\"\n",
              "              title=\"Convert this dataframe to an interactive table.\"\n",
              "              style=\"display:none;\">\n",
              "        \n",
              "  <svg xmlns=\"http://www.w3.org/2000/svg\" height=\"24px\"viewBox=\"0 0 24 24\"\n",
              "       width=\"24px\">\n",
              "    <path d=\"M0 0h24v24H0V0z\" fill=\"none\"/>\n",
              "    <path d=\"M18.56 5.44l.94 2.06.94-2.06 2.06-.94-2.06-.94-.94-2.06-.94 2.06-2.06.94zm-11 1L8.5 8.5l.94-2.06 2.06-.94-2.06-.94L8.5 2.5l-.94 2.06-2.06.94zm10 10l.94 2.06.94-2.06 2.06-.94-2.06-.94-.94-2.06-.94 2.06-2.06.94z\"/><path d=\"M17.41 7.96l-1.37-1.37c-.4-.4-.92-.59-1.43-.59-.52 0-1.04.2-1.43.59L10.3 9.45l-7.72 7.72c-.78.78-.78 2.05 0 2.83L4 21.41c.39.39.9.59 1.41.59.51 0 1.02-.2 1.41-.59l7.78-7.78 2.81-2.81c.8-.78.8-2.07 0-2.86zM5.41 20L4 18.59l7.72-7.72 1.47 1.35L5.41 20z\"/>\n",
              "  </svg>\n",
              "      </button>\n",
              "      \n",
              "  <style>\n",
              "    .colab-df-container {\n",
              "      display:flex;\n",
              "      flex-wrap:wrap;\n",
              "      gap: 12px;\n",
              "    }\n",
              "\n",
              "    .colab-df-convert {\n",
              "      background-color: #E8F0FE;\n",
              "      border: none;\n",
              "      border-radius: 50%;\n",
              "      cursor: pointer;\n",
              "      display: none;\n",
              "      fill: #1967D2;\n",
              "      height: 32px;\n",
              "      padding: 0 0 0 0;\n",
              "      width: 32px;\n",
              "    }\n",
              "\n",
              "    .colab-df-convert:hover {\n",
              "      background-color: #E2EBFA;\n",
              "      box-shadow: 0px 1px 2px rgba(60, 64, 67, 0.3), 0px 1px 3px 1px rgba(60, 64, 67, 0.15);\n",
              "      fill: #174EA6;\n",
              "    }\n",
              "\n",
              "    [theme=dark] .colab-df-convert {\n",
              "      background-color: #3B4455;\n",
              "      fill: #D2E3FC;\n",
              "    }\n",
              "\n",
              "    [theme=dark] .colab-df-convert:hover {\n",
              "      background-color: #434B5C;\n",
              "      box-shadow: 0px 1px 3px 1px rgba(0, 0, 0, 0.15);\n",
              "      filter: drop-shadow(0px 1px 2px rgba(0, 0, 0, 0.3));\n",
              "      fill: #FFFFFF;\n",
              "    }\n",
              "  </style>\n",
              "\n",
              "      <script>\n",
              "        const buttonEl =\n",
              "          document.querySelector('#df-eede63c6-0948-4164-8088-c403c7b4f28a button.colab-df-convert');\n",
              "        buttonEl.style.display =\n",
              "          google.colab.kernel.accessAllowed ? 'block' : 'none';\n",
              "\n",
              "        async function convertToInteractive(key) {\n",
              "          const element = document.querySelector('#df-eede63c6-0948-4164-8088-c403c7b4f28a');\n",
              "          const dataTable =\n",
              "            await google.colab.kernel.invokeFunction('convertToInteractive',\n",
              "                                                     [key], {});\n",
              "          if (!dataTable) return;\n",
              "\n",
              "          const docLinkHtml = 'Like what you see? Visit the ' +\n",
              "            '<a target=\"_blank\" href=https://colab.research.google.com/notebooks/data_table.ipynb>data table notebook</a>'\n",
              "            + ' to learn more about interactive tables.';\n",
              "          element.innerHTML = '';\n",
              "          dataTable['output_type'] = 'display_data';\n",
              "          await google.colab.output.renderOutput(dataTable, element);\n",
              "          const docLink = document.createElement('div');\n",
              "          docLink.innerHTML = docLinkHtml;\n",
              "          element.appendChild(docLink);\n",
              "        }\n",
              "      </script>\n",
              "    </div>\n",
              "  </div>\n",
              "  "
            ]
          },
          "metadata": {},
          "execution_count": 24
        }
      ]
    },
    {
      "cell_type": "code",
      "source": [
        "cctv.isnull().sum()"
      ],
      "metadata": {
        "colab": {
          "base_uri": "https://localhost:8080/"
        },
        "id": "_Iu59ZPBG5Hj",
        "outputId": "411fe481-e0b6-4e39-a3b8-78f0b7bbb9ab"
      },
      "execution_count": 25,
      "outputs": [
        {
          "output_type": "execute_result",
          "data": {
            "text/plain": [
              "시군구명        0\n",
              "위도          0\n",
              "경도          0\n",
              "도로노선명       0\n",
              "도로노선방향      0\n",
              "보호구역구분    211\n",
              "설치연도        0\n",
              "dtype: int64"
            ]
          },
          "metadata": {},
          "execution_count": 25
        }
      ]
    },
    {
      "cell_type": "code",
      "source": [
        "child = pd.read_csv(data_path + '제주특별자치도_어린이보호구역내_어린이승하차구역_20201231.csv')"
      ],
      "metadata": {
        "id": "V9nAk1uLHRIv"
      },
      "execution_count": 26,
      "outputs": []
    },
    {
      "cell_type": "code",
      "source": [
        "child.columns"
      ],
      "metadata": {
        "colab": {
          "base_uri": "https://localhost:8080/"
        },
        "id": "qO5dRYM_KDbC",
        "outputId": "f83dd6c2-e767-4a72-93a2-b8d6615ff2de"
      },
      "execution_count": 27,
      "outputs": [
        {
          "output_type": "execute_result",
          "data": {
            "text/plain": [
              "Index(['관리번호', '시도명', '시군구명', '도로명', '보차분리여부', '어린이 승하차 구역 폭', '시작점위도',\n",
              "       '시작점경도', '종료점위도', '종료점경도', '관리기관명', '관리기관전화번호', '데이터기준일자'],\n",
              "      dtype='object')"
            ]
          },
          "metadata": {},
          "execution_count": 27
        }
      ]
    },
    {
      "cell_type": "code",
      "source": [
        "child = child[['도로명', '시작점위도', '시작점경도', '종료점위도', '종료점경도']]"
      ],
      "metadata": {
        "id": "nBxC9HjJ56fe"
      },
      "execution_count": 28,
      "outputs": []
    },
    {
      "cell_type": "code",
      "source": [
        "child_start = child[['시작점위도', '시작점경도']]\n",
        "child_end = child[['종료점위도', '종료점경도']]"
      ],
      "metadata": {
        "id": "27P4xEj4Beb4"
      },
      "execution_count": 29,
      "outputs": []
    },
    {
      "cell_type": "code",
      "source": [
        "tour = pd.read_csv(data_path + '제주관광공사_제주관광정보시스템(VISIT JEJU)_콘텐츠_20220322.csv', encoding='cp949')"
      ],
      "metadata": {
        "id": "MoAtj4d1OBP6"
      },
      "execution_count": 30,
      "outputs": []
    },
    {
      "cell_type": "code",
      "source": [
        "tour.columns"
      ],
      "metadata": {
        "colab": {
          "base_uri": "https://localhost:8080/"
        },
        "id": "QS7NnJsMl3wt",
        "outputId": "04592e6c-22a4-433b-83f9-6e6e6e7ca3d6"
      },
      "execution_count": 31,
      "outputs": [
        {
          "output_type": "execute_result",
          "data": {
            "text/plain": [
              "Index(['콘텐츠ID', '콘텐츠분류', '제목', '언어', '타이틀SEO', '연관콘텐츠', '지번주소', '도로명주소', '위도',\n",
              "       '경도', '탐나오연동여부', '평점', '소셜네트워크URL', '조회수', '외부검색어', '좋아요수', '리뷰수',\n",
              "       '북마크수', '일정등록수', '다녀왔어요수', 'PC사용여부', '모바일사용여부', '공개여부', '작성상태', '사용여부',\n",
              "       '작성상태_1', '영문PC사용여부', '중문PC사용여부', '일문PC사용여부', '영문작성상태', '중문작성상태',\n",
              "       '일문작성상태', '영문공개여부', '중문공개여부', '일문공개여부', '영문모바일사용여부', '중문모바일사용여부',\n",
              "       '일문모바일사용여부', '영문승인일시', '중문승인일시', '일문승인일시', '등록자', '등록일시', '수정자', '수정일시',\n",
              "       'SNS공유수', '인기점수', '등록일시_1', '우편번호', '템플릿여부', '번역요청일시', '영문번역요청일시',\n",
              "       '중문번역요청일시', '일문번역요청일시', '페이지SEO자동여부', '영문페이지SEO자동여부', '중문페이지SEO자동여부',\n",
              "       '일문페이지SEO자동여부', '사진공유수', '번체PC사용여부', '말레이어PC사용여부', '번체작성상태', '말레이어작성상태',\n",
              "       '번체공개여부', '말레이어공개여부', '번체모바일사용여부', '말어모바일사용여부', '번체승인일시', '말레이어승인일시',\n",
              "       '번체번역요청일시', '말레이어번역요청일시', '번체SEO자동여부', '말레이어SEO자동여부'],\n",
              "      dtype='object')"
            ]
          },
          "metadata": {},
          "execution_count": 31
        }
      ]
    },
    {
      "cell_type": "code",
      "source": [
        "tour = tour[['위도', '경도']]\n",
        "#tour.loc[tour.isnull().any(axis=1)]"
      ],
      "metadata": {
        "id": "osy_PY2pl_dT"
      },
      "execution_count": 32,
      "outputs": []
    },
    {
      "cell_type": "code",
      "source": [
        "tour.isnull().count()"
      ],
      "metadata": {
        "colab": {
          "base_uri": "https://localhost:8080/"
        },
        "id": "t_4xYUrp5z08",
        "outputId": "64711430-58ce-4a58-99c3-eb3ee27e9aa5"
      },
      "execution_count": 33,
      "outputs": [
        {
          "output_type": "execute_result",
          "data": {
            "text/plain": [
              "위도    5780\n",
              "경도    5780\n",
              "dtype: int64"
            ]
          },
          "metadata": {},
          "execution_count": 33
        }
      ]
    },
    {
      "cell_type": "code",
      "source": [
        "tour = tour.dropna()"
      ],
      "metadata": {
        "id": "OW_xhlXj62Vb"
      },
      "execution_count": 34,
      "outputs": []
    },
    {
      "cell_type": "code",
      "source": [
        "parking = pd.read_csv(data_path + '전국주차장정보표준데이터.csv', encoding='cp949')"
      ],
      "metadata": {
        "id": "LyyP3bdC64WC"
      },
      "execution_count": 35,
      "outputs": []
    },
    {
      "cell_type": "code",
      "source": [
        "parking = parking.loc[parking['제공기관명'].str.contains('제주')]"
      ],
      "metadata": {
        "id": "fzHiXXw78PxL"
      },
      "execution_count": 36,
      "outputs": []
    },
    {
      "cell_type": "code",
      "source": [
        "parking.columns"
      ],
      "metadata": {
        "colab": {
          "base_uri": "https://localhost:8080/"
        },
        "id": "Kl4YVip49DGr",
        "outputId": "e4cc30b6-311c-4db0-cf48-dbba5ed8bb2d"
      },
      "execution_count": 37,
      "outputs": [
        {
          "output_type": "execute_result",
          "data": {
            "text/plain": [
              "Index(['주차장관리번호', '주차장명', '주차장구분', '주차장유형', '소재지도로명주소', '소재지지번주소', '주차구획수',\n",
              "       '급지구분', '부제시행구분', '운영요일', '평일운영시작시각', '평일운영종료시각', '토요일운영시작시각',\n",
              "       '토요일운영종료시각', '공휴일운영시작시각', '공휴일운영종료시각', '요금정보', '주차기본시간', '주차기본요금',\n",
              "       '추가단위시간', '추가단위요금', '1일주차권요금적용시간', '1일주차권요금', '월정기권요금', '결제방법', '특기사항',\n",
              "       '관리기관명', '전화번호', '위도', '경도', '데이터기준일자', '제공기관코드', '제공기관명'],\n",
              "      dtype='object')"
            ]
          },
          "metadata": {},
          "execution_count": 37
        }
      ]
    },
    {
      "cell_type": "code",
      "source": [
        "parking[['위도', '경도']].loc[parking[['위도', '경도']].isnull().any(axis=1)]"
      ],
      "metadata": {
        "colab": {
          "base_uri": "https://localhost:8080/",
          "height": 332
        },
        "id": "Xpk7ezRn9gMa",
        "outputId": "494a724d-4387-42c9-cdfb-682efb14b1be"
      },
      "execution_count": 38,
      "outputs": [
        {
          "output_type": "execute_result",
          "data": {
            "text/plain": [
              "              위도          경도\n",
              "12745        NaN         NaN\n",
              "12801  33.493556         NaN\n",
              "12848  33.473555         NaN\n",
              "12960  33.486694         NaN\n",
              "12966  33.503305         NaN\n",
              "12970  33.555303         NaN\n",
              "12971        NaN  126.300444\n",
              "12977        NaN         NaN\n",
              "12978        NaN         NaN"
            ],
            "text/html": [
              "\n",
              "  <div id=\"df-27b82b01-5f31-4dd2-b1a8-0856512fabf9\">\n",
              "    <div class=\"colab-df-container\">\n",
              "      <div>\n",
              "<style scoped>\n",
              "    .dataframe tbody tr th:only-of-type {\n",
              "        vertical-align: middle;\n",
              "    }\n",
              "\n",
              "    .dataframe tbody tr th {\n",
              "        vertical-align: top;\n",
              "    }\n",
              "\n",
              "    .dataframe thead th {\n",
              "        text-align: right;\n",
              "    }\n",
              "</style>\n",
              "<table border=\"1\" class=\"dataframe\">\n",
              "  <thead>\n",
              "    <tr style=\"text-align: right;\">\n",
              "      <th></th>\n",
              "      <th>위도</th>\n",
              "      <th>경도</th>\n",
              "    </tr>\n",
              "  </thead>\n",
              "  <tbody>\n",
              "    <tr>\n",
              "      <th>12745</th>\n",
              "      <td>NaN</td>\n",
              "      <td>NaN</td>\n",
              "    </tr>\n",
              "    <tr>\n",
              "      <th>12801</th>\n",
              "      <td>33.493556</td>\n",
              "      <td>NaN</td>\n",
              "    </tr>\n",
              "    <tr>\n",
              "      <th>12848</th>\n",
              "      <td>33.473555</td>\n",
              "      <td>NaN</td>\n",
              "    </tr>\n",
              "    <tr>\n",
              "      <th>12960</th>\n",
              "      <td>33.486694</td>\n",
              "      <td>NaN</td>\n",
              "    </tr>\n",
              "    <tr>\n",
              "      <th>12966</th>\n",
              "      <td>33.503305</td>\n",
              "      <td>NaN</td>\n",
              "    </tr>\n",
              "    <tr>\n",
              "      <th>12970</th>\n",
              "      <td>33.555303</td>\n",
              "      <td>NaN</td>\n",
              "    </tr>\n",
              "    <tr>\n",
              "      <th>12971</th>\n",
              "      <td>NaN</td>\n",
              "      <td>126.300444</td>\n",
              "    </tr>\n",
              "    <tr>\n",
              "      <th>12977</th>\n",
              "      <td>NaN</td>\n",
              "      <td>NaN</td>\n",
              "    </tr>\n",
              "    <tr>\n",
              "      <th>12978</th>\n",
              "      <td>NaN</td>\n",
              "      <td>NaN</td>\n",
              "    </tr>\n",
              "  </tbody>\n",
              "</table>\n",
              "</div>\n",
              "      <button class=\"colab-df-convert\" onclick=\"convertToInteractive('df-27b82b01-5f31-4dd2-b1a8-0856512fabf9')\"\n",
              "              title=\"Convert this dataframe to an interactive table.\"\n",
              "              style=\"display:none;\">\n",
              "        \n",
              "  <svg xmlns=\"http://www.w3.org/2000/svg\" height=\"24px\"viewBox=\"0 0 24 24\"\n",
              "       width=\"24px\">\n",
              "    <path d=\"M0 0h24v24H0V0z\" fill=\"none\"/>\n",
              "    <path d=\"M18.56 5.44l.94 2.06.94-2.06 2.06-.94-2.06-.94-.94-2.06-.94 2.06-2.06.94zm-11 1L8.5 8.5l.94-2.06 2.06-.94-2.06-.94L8.5 2.5l-.94 2.06-2.06.94zm10 10l.94 2.06.94-2.06 2.06-.94-2.06-.94-.94-2.06-.94 2.06-2.06.94z\"/><path d=\"M17.41 7.96l-1.37-1.37c-.4-.4-.92-.59-1.43-.59-.52 0-1.04.2-1.43.59L10.3 9.45l-7.72 7.72c-.78.78-.78 2.05 0 2.83L4 21.41c.39.39.9.59 1.41.59.51 0 1.02-.2 1.41-.59l7.78-7.78 2.81-2.81c.8-.78.8-2.07 0-2.86zM5.41 20L4 18.59l7.72-7.72 1.47 1.35L5.41 20z\"/>\n",
              "  </svg>\n",
              "      </button>\n",
              "      \n",
              "  <style>\n",
              "    .colab-df-container {\n",
              "      display:flex;\n",
              "      flex-wrap:wrap;\n",
              "      gap: 12px;\n",
              "    }\n",
              "\n",
              "    .colab-df-convert {\n",
              "      background-color: #E8F0FE;\n",
              "      border: none;\n",
              "      border-radius: 50%;\n",
              "      cursor: pointer;\n",
              "      display: none;\n",
              "      fill: #1967D2;\n",
              "      height: 32px;\n",
              "      padding: 0 0 0 0;\n",
              "      width: 32px;\n",
              "    }\n",
              "\n",
              "    .colab-df-convert:hover {\n",
              "      background-color: #E2EBFA;\n",
              "      box-shadow: 0px 1px 2px rgba(60, 64, 67, 0.3), 0px 1px 3px 1px rgba(60, 64, 67, 0.15);\n",
              "      fill: #174EA6;\n",
              "    }\n",
              "\n",
              "    [theme=dark] .colab-df-convert {\n",
              "      background-color: #3B4455;\n",
              "      fill: #D2E3FC;\n",
              "    }\n",
              "\n",
              "    [theme=dark] .colab-df-convert:hover {\n",
              "      background-color: #434B5C;\n",
              "      box-shadow: 0px 1px 3px 1px rgba(0, 0, 0, 0.15);\n",
              "      filter: drop-shadow(0px 1px 2px rgba(0, 0, 0, 0.3));\n",
              "      fill: #FFFFFF;\n",
              "    }\n",
              "  </style>\n",
              "\n",
              "      <script>\n",
              "        const buttonEl =\n",
              "          document.querySelector('#df-27b82b01-5f31-4dd2-b1a8-0856512fabf9 button.colab-df-convert');\n",
              "        buttonEl.style.display =\n",
              "          google.colab.kernel.accessAllowed ? 'block' : 'none';\n",
              "\n",
              "        async function convertToInteractive(key) {\n",
              "          const element = document.querySelector('#df-27b82b01-5f31-4dd2-b1a8-0856512fabf9');\n",
              "          const dataTable =\n",
              "            await google.colab.kernel.invokeFunction('convertToInteractive',\n",
              "                                                     [key], {});\n",
              "          if (!dataTable) return;\n",
              "\n",
              "          const docLinkHtml = 'Like what you see? Visit the ' +\n",
              "            '<a target=\"_blank\" href=https://colab.research.google.com/notebooks/data_table.ipynb>data table notebook</a>'\n",
              "            + ' to learn more about interactive tables.';\n",
              "          element.innerHTML = '';\n",
              "          dataTable['output_type'] = 'display_data';\n",
              "          await google.colab.output.renderOutput(dataTable, element);\n",
              "          const docLink = document.createElement('div');\n",
              "          docLink.innerHTML = docLinkHtml;\n",
              "          element.appendChild(docLink);\n",
              "        }\n",
              "      </script>\n",
              "    </div>\n",
              "  </div>\n",
              "  "
            ]
          },
          "metadata": {},
          "execution_count": 38
        }
      ]
    },
    {
      "cell_type": "code",
      "source": [
        "parking = parking[['위도', '경도']].dropna()"
      ],
      "metadata": {
        "id": "84GbJ5A39mFa"
      },
      "execution_count": 39,
      "outputs": []
    },
    {
      "cell_type": "code",
      "source": [
        "crosswalk = pd.read_csv(data_path + '제주특별자치도_어린이보호구역내_횡단보도_12_31_2020.csv')\n",
        "crosswalk.columns"
      ],
      "metadata": {
        "colab": {
          "base_uri": "https://localhost:8080/"
        },
        "id": "60PPJgAvQNOk",
        "outputId": "1d897856-1d67-49d7-f38e-95643efeba08"
      },
      "execution_count": 40,
      "outputs": [
        {
          "output_type": "execute_result",
          "data": {
            "text/plain": [
              "Index(['관리번호', '시도명', '시군구명', '도로명', '소재지도로명주소', '소재지지번주소', '횡단보도관리번호',\n",
              "       '횡단보도종류', '자전거횡단도겸용여부', '고원식적용여부', '위도', '경도', '차로수', '횡단보도폭', '횡단보도연장',\n",
              "       '보행자신호등유무', '보행자작동신호기유무', '음향신호기설치여부', '교통섬유무', '보도턱낮춤여부', '점자블록유무',\n",
              "       '집중조명시설유무', '관리기관명', '관리기관전화번호', '데이터기준일자'],\n",
              "      dtype='object')"
            ]
          },
          "metadata": {},
          "execution_count": 40
        }
      ]
    },
    {
      "cell_type": "code",
      "source": [
        "def cal_dist(x1, y1, x2, y2, a, b):\n",
        "    \n",
        "    area = abs((x1 - a) * (y2 - b) - (y1 - b) * (x2 - a))\n",
        "    AB = ((x1 - x2) ** 2 + (y1 - y2) ** 2) ** 0.5\n",
        "    distance = area / AB\n",
        "    return distance\n",
        "\n",
        "def get_node_cnt(gps_values, infra_values) :\n",
        "    cnt = []\n",
        "    for y1, x1, y2, x2 in gps_values.values :\n",
        "        i = 0\n",
        "        for a, b in infra_values.values :\n",
        "            dist = cal_dist(x1, y1, x2, y2, a, b)\n",
        "            if dist < 0.0005 :\n",
        "                i += 1\n",
        "            else :\n",
        "                pass\n",
        "        cnt.append(i)\n",
        "    return cnt"
      ],
      "metadata": {
        "id": "09MIRvMF92kq"
      },
      "execution_count": 41,
      "outputs": []
    },
    {
      "cell_type": "code",
      "source": [
        "gps_comb = train_df[['start_latitude', 'start_longitude', 'end_latitude', 'end_longitude']].drop_duplicates()"
      ],
      "metadata": {
        "id": "-5FQclKwIYim"
      },
      "execution_count": 42,
      "outputs": []
    },
    {
      "cell_type": "code",
      "source": [
        "cctv_cnt = get_node_cnt(gps_comb, cctv[['경도', '위도']])\n",
        "child_start_cnt = get_node_cnt(gps_comb, child_start[['시작점경도', '시작점위도']])\n",
        "child_end_cnt = get_node_cnt(gps_comb, child_end[['종료점경도', '종료점위도']])\n",
        "tour_cnt = get_node_cnt(gps_comb, tour[['경도', '위도']])\n",
        "parking_cnt = get_node_cnt(gps_comb, parking[['경도', '위도']])\n",
        "crosswalk_cnt = get_node_cnt(gps_comb, crosswalk[['경도', '위도']])"
      ],
      "metadata": {
        "id": "q2aDiGChI-wV"
      },
      "execution_count": 43,
      "outputs": []
    },
    {
      "cell_type": "code",
      "source": [
        "gps_comb['cctv_cnt'] = cctv_cnt\n",
        "gps_comb['child_start_cnt'] = child_start_cnt\n",
        "gps_comb['child_end_cnt'] = child_end_cnt\n",
        "gps_comb['tour_cnt'] = tour_cnt\n",
        "gps_comb['parking_cnt'] = parking_cnt\n",
        "gps_comb['crosswalk_cnt'] = crosswalk_cnt"
      ],
      "metadata": {
        "id": "jh0vrENBKm3d"
      },
      "execution_count": 44,
      "outputs": []
    },
    {
      "cell_type": "code",
      "source": [
        "train_df = pd.merge(train_df, gps_comb, how = 'left')\n",
        "test_df = pd.merge(test_df, gps_comb, how = 'left').fillna(0)"
      ],
      "metadata": {
        "id": "Jn2hSSCHNA20"
      },
      "execution_count": 45,
      "outputs": []
    },
    {
      "cell_type": "code",
      "source": [
        "jeju = 33.506683, 126.493177"
      ],
      "metadata": {
        "id": "P5tlygmxPfFW"
      },
      "execution_count": 46,
      "outputs": []
    },
    {
      "cell_type": "code",
      "source": [
        "train_df['j_a_dist'] = [haversine((v[0], v[1]), jeju, unit = 'km') for v in train_df[['start_latitude', 'start_longitude']].values]\n",
        "test_df['j_a_dist'] = [haversine((v[0], v[1]), jeju, unit = 'km') for v in test_df[['start_latitude', 'start_longitude']].values]"
      ],
      "metadata": {
        "id": "tFj8lEpnPfhk"
      },
      "execution_count": 47,
      "outputs": []
    },
    {
      "cell_type": "code",
      "source": [
        "hanla = 33.36168194, 126.5291548"
      ],
      "metadata": {
        "id": "L_CfKCHKPiSA"
      },
      "execution_count": 48,
      "outputs": []
    },
    {
      "cell_type": "code",
      "source": [
        "train_df['h_a_dist'] = [haversine((v[0], v[1]), hanla, unit = 'km') for v in train_df[['start_latitude', 'start_longitude']].values]\n",
        "test_df['h_a_dist'] = [haversine((v[0], v[1]), hanla, unit = 'km') for v in test_df[['start_latitude', 'start_longitude']].values]"
      ],
      "metadata": {
        "id": "mLojctglQGAa"
      },
      "execution_count": 49,
      "outputs": []
    },
    {
      "cell_type": "code",
      "source": [
        "train_date = train_df.base_date.dt.strftime('%m%d')\n",
        "test_date = test_df.base_date.dt.strftime('%m%d')"
      ],
      "metadata": {
        "id": "6vnOJv-lWvzA"
      },
      "execution_count": 50,
      "outputs": []
    },
    {
      "cell_type": "code",
      "source": [
        "holiday = ['1231', '0101', '0102', '0129', '0130', '0131', '0201', '0202', '0228', '0229', '0230', '0301', '0302', \n",
        "          '0505', '0506', '0507', '0508', '0605', '0607', '0606', '0814', '0815', '0816', '0920', '0921', '0504',\n",
        "          '0922', '1002', '1003', '1004', '1008', '1009', '1010', '1224', '1225', '1226']"
      ],
      "metadata": {
        "id": "UJjPnuzkfpbF"
      },
      "execution_count": 51,
      "outputs": []
    },
    {
      "cell_type": "code",
      "source": [
        "def isTrue(x):\n",
        "  if x:\n",
        "    return 1\n",
        "  else:\n",
        "    return 0\n",
        "\n",
        "train_df['holiday'] = train_date.isin(holiday).apply(isTrue)\n",
        "test_df['holiday'] = test_date.isin(holiday).apply(isTrue)"
      ],
      "metadata": {
        "id": "tZ5fHVskgyRL"
      },
      "execution_count": 52,
      "outputs": []
    },
    {
      "cell_type": "code",
      "source": [
        "train_df = train_df.drop(index=train_df.loc[((train_df.maximum_speed_limit==70.0)&(train_df.target>90))].index)"
      ],
      "metadata": {
        "id": "BjEyMjzWmkko"
      },
      "execution_count": 53,
      "outputs": []
    },
    {
      "cell_type": "code",
      "source": [
        "train_df = train_df.drop(index=train_df.loc[((train_df.maximum_speed_limit==60.0)&(train_df.target>90))].index)"
      ],
      "metadata": {
        "id": "65bs27OYnPbB"
      },
      "execution_count": 54,
      "outputs": []
    },
    {
      "cell_type": "code",
      "source": [
        "train_df = train_df.drop(index=train_df.loc[((train_df.maximum_speed_limit==50.0)&(train_df.target>80))].index)"
      ],
      "metadata": {
        "id": "p44PxYr-nTi9"
      },
      "execution_count": 55,
      "outputs": []
    },
    {
      "cell_type": "code",
      "source": [
        "train_df = train_df.drop(index=train_df.loc[((train_df.maximum_speed_limit==80.0)&(train_df.target<10))].index)"
      ],
      "metadata": {
        "id": "Uf123j6GncUi"
      },
      "execution_count": 56,
      "outputs": []
    },
    {
      "cell_type": "code",
      "source": [
        "train_df = train_df.drop(index=train_df.loc[((train_df.maximum_speed_limit==40.0)&(train_df.target<20))].index)"
      ],
      "metadata": {
        "id": "dck9Tuimnj6V"
      },
      "execution_count": 57,
      "outputs": []
    },
    {
      "cell_type": "code",
      "source": [
        "train_df = train_df.drop(index=train_df.loc[((train_df.lane_count==1)&(train_df.target<10))].index)"
      ],
      "metadata": {
        "id": "aR4Sa5evnoC3"
      },
      "execution_count": 58,
      "outputs": []
    },
    {
      "cell_type": "code",
      "source": [
        "train_df = train_df.drop(index=train_df.loc[((train_df.lane_count==2)&(train_df.target>100))].index)"
      ],
      "metadata": {
        "id": "bPMkxCuenwKM"
      },
      "execution_count": 59,
      "outputs": []
    },
    {
      "cell_type": "code",
      "source": [
        "train_df = train_df.drop(index=train_df.loc[((train_df.lane_count==3)&(train_df.target>80))].index)"
      ],
      "metadata": {
        "id": "f1Zk7MBmnzR9"
      },
      "execution_count": 60,
      "outputs": []
    },
    {
      "cell_type": "code",
      "source": [
        "train_df = train_df.drop(index=train_df.loc[((train_df.lane_count==1)&(train_df.target>100))].index)"
      ],
      "metadata": {
        "id": "NOulbHupn437"
      },
      "execution_count": 61,
      "outputs": []
    },
    {
      "cell_type": "code",
      "source": [
        "train_df = train_df.drop(index=train_df.loc[((train_df.road_type==3)&(train_df.target>80))].index)"
      ],
      "metadata": {
        "id": "CcHr_coBsp1V"
      },
      "execution_count": 62,
      "outputs": []
    },
    {
      "cell_type": "code",
      "source": [
        "train_df = train_df.drop(index=train_df.loc[((train_df.start_turn_restricted==0)&(train_df.target>80))].index)\n",
        "train_df = train_df.drop(index=train_df.loc[((train_df.start_turn_restricted==1)&(train_df.target>80))].index)\n",
        "train_df = train_df.drop(index=train_df.loc[((train_df.road_type==0)&(train_df.target>80))].index)\n",
        "train_df = train_df.drop(index=train_df.loc[((train_df.weight_restricted==43200.0)&(train_df.target<20))].index)\n",
        "train_df = train_df.drop(index=train_df.loc[((train_df.weight_restricted==50000.0)&(train_df.target<30))].index)\n",
        "train_df = train_df.drop(index=train_df.loc[((train_df.weight_restricted==50000.0)&(train_df.target>65))].index)\n",
        "train_df = train_df.drop(index=train_df.loc[((train_df.weight_restricted==0.0)&(train_df.target>80))].index)\n",
        "train_df = train_df.drop(index=train_df.loc[((train_df.maximum_speed_limit==60.0)&(train_df.target>80))].index)\n",
        "train_df = train_df.drop(index=train_df.loc[((train_df.maximum_speed_limit==70.0)&(train_df.target>80))].index)\n",
        "train_df = train_df.drop(index=train_df.loc[((train_df.maximum_speed_limit==40.0)&(train_df.target>80))].index)\n",
        "train_df = train_df.drop(index=train_df.loc[((train_df.maximum_speed_limit==30.0)&(train_df.target<10))].index)\n",
        "train_df = train_df.drop(index=train_df.loc[((train_df.connect_code==0)&(train_df.target>80))].index)\n",
        "train_df = train_df.drop(index=train_df.loc[((train_df.multi_linked==0)&(train_df.target>80))].index)"
      ],
      "metadata": {
        "id": "YphtEKLFq2Ig"
      },
      "execution_count": 63,
      "outputs": []
    },
    {
      "cell_type": "code",
      "source": [
        "train_df.loc[(train_df[\"start_node_name\"] == \"송목교\") & (train_df[\"road_name\"] == \"-\"), \"road_name\"] = \"중문로\"\n",
        "train_df.loc[(train_df[\"start_node_name\"] == \"남수교\") & (train_df[\"road_name\"] == \"-\"), \"road_name\"] = \"중문로\"\n",
        "train_df.loc[(train_df[\"start_node_name\"] == \"하귀입구\") & (train_df[\"road_name\"] == \"-\"), \"road_name\"] = \"일반국도12호선\"\n",
        "train_df.loc[(train_df[\"start_node_name\"] == \"양계장\") & (train_df[\"road_name\"] == \"-\"), \"road_name\"] = \"일반국도12호선\"\n",
        "train_df.loc[(train_df[\"start_node_name\"] == \"난산입구\") & (train_df[\"road_name\"] == \"-\"), \"road_name\"] = \"지방도1119호선\"\n",
        "train_df.loc[(train_df[\"start_node_name\"] == \"영주교\") & (train_df[\"road_name\"] == \"-\"), \"road_name\"] = \"일반국도11호선\"\n",
        "train_df.loc[(train_df[\"start_node_name\"] == \"서중2교\") & (train_df[\"road_name\"] == \"-\"), \"road_name\"] = \"중문로\"\n",
        "train_df.loc[(train_df[\"start_node_name\"] == \"천제이교\") & (train_df[\"road_name\"] == \"-\"), \"road_name\"] = \"산서로\"\n",
        "train_df.loc[(train_df[\"start_node_name\"] == \"하나로교\") & (train_df[\"road_name\"] == \"-\"), \"road_name\"] = \"중문로\"\n",
        "train_df.loc[(train_df[\"start_node_name\"] == \"신하교\") & (train_df[\"road_name\"] == \"-\"), \"road_name\"] = \"중문로\"\n",
        "train_df.loc[(train_df[\"start_node_name\"] == \"야영장\") & (train_df[\"road_name\"] == \"-\"), \"road_name\"] = \"관광단지1로\"\n",
        "train_df.loc[(train_df[\"start_node_name\"] == \"월계교\") & (train_df[\"road_name\"] == \"-\"), \"road_name\"] = \"산서로\"\n",
        "train_df.loc[(train_df[\"start_node_name\"] == \"서울이용원\") & (train_df[\"road_name\"] == \"-\"), \"road_name\"] = \"태평로\"\n",
        "train_df.loc[(train_df[\"start_node_name\"] == \"김녕교차로\") & (train_df[\"road_name\"] == \"-\"), \"road_name\"] = \"일반국도12호선\"\n",
        "train_df.loc[(train_df[\"start_node_name\"] == \"어도초등교\") & (train_df[\"road_name\"] == \"-\"), \"road_name\"] = \"일반국도16호선\"\n",
        "train_df.loc[(train_df[\"start_node_name\"] == \"광삼교\") & (train_df[\"road_name\"] == \"-\"), \"road_name\"] = \"중문로\"\n",
        "train_df.loc[(train_df[\"start_node_name\"] == \"오렌지농원\") & (train_df[\"road_name\"] == \"-\"), \"road_name\"] = \"일반국도11호선\"\n",
        "train_df.loc[(train_df[\"start_node_name\"] == \"우사\") & (train_df[\"road_name\"] == \"-\"), \"road_name\"] = \"일반국도16호선\"\n",
        "train_df.loc[(train_df[\"start_node_name\"] == \"서귀포시산림조합\") & (train_df[\"road_name\"] == \"-\"), \"road_name\"] = \"지방도1136호선\"\n",
        "train_df.loc[(train_df[\"start_node_name\"] == \"성읍삼거리\") & (train_df[\"road_name\"] == \"-\"), \"road_name\"] = \"일반국도16호선\"\n",
        "\n",
        "test_df.loc[(test_df[\"start_node_name\"] == \"송목교\") & (test_df[\"road_name\"] == \"-\"), \"road_name\"] = \"중문로\"\n",
        "test_df.loc[(test_df[\"start_node_name\"] == \"남수교\") & (test_df[\"road_name\"] == \"-\"), \"road_name\"] = \"중문로\"\n",
        "test_df.loc[(test_df[\"start_node_name\"] == \"하귀입구\") & (test_df[\"road_name\"] == \"-\"), \"road_name\"] = \"일반국도12호선\"\n",
        "test_df.loc[(test_df[\"start_node_name\"] == \"양계장\") & (test_df[\"road_name\"] == \"-\"), \"road_name\"] = \"일반국도12호선\"\n",
        "test_df.loc[(test_df[\"start_node_name\"] == \"난산입구\") & (test_df[\"road_name\"] == \"-\"), \"road_name\"] = \"지방도1119호선\"\n",
        "test_df.loc[(test_df[\"start_node_name\"] == \"영주교\") & (test_df[\"road_name\"] == \"-\"), \"road_name\"] = \"일반국도11호선\"\n",
        "test_df.loc[(test_df[\"start_node_name\"] == \"서중2교\") & (test_df[\"road_name\"] == \"-\"), \"road_name\"] = \"중문로\"\n",
        "test_df.loc[(test_df[\"start_node_name\"] == \"천제이교\") & (test_df[\"road_name\"] == \"-\"), \"road_name\"] = \"산서로\"\n",
        "test_df.loc[(test_df[\"start_node_name\"] == \"하나로교\") & (test_df[\"road_name\"] == \"-\"), \"road_name\"] = \"중문로\"\n",
        "test_df.loc[(test_df[\"start_node_name\"] == \"신하교\") & (test_df[\"road_name\"] == \"-\"), \"road_name\"] = \"중문로\"\n",
        "test_df.loc[(test_df[\"start_node_name\"] == \"야영장\") & (test_df[\"road_name\"] == \"-\"), \"road_name\"] = \"관광단지1로\"\n",
        "test_df.loc[(test_df[\"start_node_name\"] == \"월계교\") & (test_df[\"road_name\"] == \"-\"), \"road_name\"] = \"산서로\"\n",
        "test_df.loc[(test_df[\"start_node_name\"] == \"서울이용원\") & (test_df[\"road_name\"] == \"-\"), \"road_name\"] = \"태평로\"\n",
        "test_df.loc[(test_df[\"start_node_name\"] == \"김녕교차로\") & (test_df[\"road_name\"] == \"-\"), \"road_name\"] = \"일반국도12호선\"\n",
        "test_df.loc[(test_df[\"start_node_name\"] == \"어도초등교\") & (test_df[\"road_name\"] == \"-\"), \"road_name\"] = \"일반국도16호선\"\n",
        "test_df.loc[(test_df[\"start_node_name\"] == \"광삼교\") & (test_df[\"road_name\"] == \"-\"), \"road_name\"] = \"중문로\"\n",
        "test_df.loc[(test_df[\"start_node_name\"] == \"오렌지농원\") & (test_df[\"road_name\"] == \"-\"), \"road_name\"] = \"일반국도11호선\"\n",
        "test_df.loc[(test_df[\"start_node_name\"] == \"우사\") & (test_df[\"road_name\"] == \"-\"), \"road_name\"] = \"일반국도16호선\"\n",
        "test_df.loc[(test_df[\"start_node_name\"] == \"서귀포시산림조합\") & (test_df[\"road_name\"] == \"-\"), \"road_name\"] = \"지방도1136호선\"\n",
        "test_df.loc[(test_df[\"start_node_name\"] == \"성읍삼거리\") & (test_df[\"road_name\"] == \"-\"), \"road_name\"] = \"일반국도16호선\""
      ],
      "metadata": {
        "id": "_zp7kBO1vEbm"
      },
      "execution_count": 64,
      "outputs": []
    },
    {
      "cell_type": "code",
      "source": [
        "train_df.loc[(train_df[\"end_node_name\"] == \"남수교\") & (train_df[\"road_name\"] == \"-\"), \"road_name\"] = \"중문로\"\n",
        "train_df.loc[(train_df[\"end_node_name\"] == \"농협주유소\") & (train_df[\"road_name\"] == \"-\"), \"road_name\"] = \"월계교\"\n",
        "train_df.loc[(train_df[\"end_node_name\"] == \"난산입구\") & (train_df[\"road_name\"] == \"-\"), \"road_name\"] = \"지방도1119호선\"\n",
        "train_df.loc[(train_df[\"end_node_name\"] == \"성읍삼거리\") & (train_df[\"road_name\"] == \"-\"), \"road_name\"] = \"일반국도16호선\"\n",
        "train_df.loc[(train_df[\"end_node_name\"] == \"김녕교차로\") & (train_df[\"road_name\"] == \"-\"), \"road_name\"] = \"일반국도12호선\"\n",
        "train_df.loc[(train_df[\"end_node_name\"] == \"한남교차로\") & (train_df[\"road_name\"] == \"-\"), \"road_name\"] = \"서중2교\"\n",
        "train_df.loc[(train_df[\"end_node_name\"] == \"서울이용원\") & (train_df[\"road_name\"] == \"-\"), \"road_name\"] = \"태평로\"\n",
        "train_df.loc[(train_df[\"end_node_name\"] == \"하귀입구\") & (train_df[\"road_name\"] == \"-\"), \"road_name\"] = \"일반국도12호선\"\n",
        "train_df.loc[(train_df[\"end_node_name\"] == \"어도초등교\") & (train_df[\"road_name\"] == \"-\"), \"road_name\"] = \"일반국도16호선\"\n",
        "train_df.loc[(train_df[\"end_node_name\"] == \"월계교\") & (train_df[\"road_name\"] == \"-\"), \"road_name\"] = \"산서로\"\n",
        "train_df.loc[(train_df[\"end_node_name\"] == \"양계장\") & (train_df[\"road_name\"] == \"-\"), \"road_name\"] = \"일반국도12호선\"\n",
        "train_df.loc[(train_df[\"end_node_name\"] == \"하나로교\") & (train_df[\"road_name\"] == \"-\"), \"road_name\"] = \"중문로\"\n",
        "train_df.loc[(train_df[\"end_node_name\"] == \"광삼교\") & (train_df[\"road_name\"] == \"-\"), \"road_name\"] = \"중문로\"\n",
        "train_df.loc[(train_df[\"end_node_name\"] == \"수간교차로\") & (train_df[\"road_name\"] == \"-\"), \"road_name\"] = \"양계장\"\n",
        "train_df.loc[(train_df[\"end_node_name\"] == \"난산사거리\") & (train_df[\"road_name\"] == \"-\"), \"road_name\"] = \"난산입구\"\n",
        "train_df.loc[(train_df[\"end_node_name\"] == \"서중2교\") & (train_df[\"road_name\"] == \"-\"), \"road_name\"] = \"중문로\"\n",
        "train_df.loc[(train_df[\"end_node_name\"] == \"서귀포시산림조합\") & (train_df[\"road_name\"] == \"-\"), \"road_name\"] = \"지방도1136호선\"\n",
        "train_df.loc[(train_df[\"end_node_name\"] == \"옹포사거리\") & (train_df[\"road_name\"] == \"-\"), \"road_name\"] = \"월계교\"\n",
        "train_df.loc[(train_df[\"end_node_name\"] == \"진은교차로\") & (train_df[\"road_name\"] == \"-\"), \"road_name\"] = \"하나로교\"\n",
        "\n",
        "test_df.loc[(test_df[\"end_node_name\"] == \"남수교\") & (test_df[\"road_name\"] == \"-\"), \"road_name\"] = \"중문로\"\n",
        "test_df.loc[(test_df[\"end_node_name\"] == \"농협주유소\") & (test_df[\"road_name\"] == \"-\"), \"road_name\"] = \"월계교\"\n",
        "test_df.loc[(test_df[\"end_node_name\"] == \"난산입구\") & (test_df[\"road_name\"] == \"-\"), \"road_name\"] = \"지방도1119호선\"\n",
        "test_df.loc[(test_df[\"end_node_name\"] == \"성읍삼거리\") & (test_df[\"road_name\"] == \"-\"), \"road_name\"] = \"일반국도16호선\"\n",
        "test_df.loc[(test_df[\"end_node_name\"] == \"김녕교차로\") & (test_df[\"road_name\"] == \"-\"), \"road_name\"] = \"일반국도12호선\"\n",
        "test_df.loc[(test_df[\"end_node_name\"] == \"한남교차로\") & (test_df[\"road_name\"] == \"-\"), \"road_name\"] = \"서중2교\"\n",
        "test_df.loc[(test_df[\"end_node_name\"] == \"서울이용원\") & (test_df[\"road_name\"] == \"-\"), \"road_name\"] = \"태평로\"\n",
        "test_df.loc[(test_df[\"end_node_name\"] == \"하귀입구\") & (test_df[\"road_name\"] == \"-\"), \"road_name\"] = \"일반국도12호선\"\n",
        "test_df.loc[(test_df[\"end_node_name\"] == \"어도초등교\") & (test_df[\"road_name\"] == \"-\"), \"road_name\"] = \"일반국도16호선\"\n",
        "test_df.loc[(test_df[\"end_node_name\"] == \"월계교\") & (test_df[\"road_name\"] == \"-\"), \"road_name\"] = \"산서로\"\n",
        "test_df.loc[(test_df[\"end_node_name\"] == \"양계장\") & (test_df[\"road_name\"] == \"-\"), \"road_name\"] = \"일반국도12호선\"\n",
        "test_df.loc[(test_df[\"end_node_name\"] == \"하나로교\") & (test_df[\"road_name\"] == \"-\"), \"road_name\"] = \"중문로\"\n",
        "test_df.loc[(test_df[\"end_node_name\"] == \"광삼교\") & (test_df[\"road_name\"] == \"-\"), \"road_name\"] = \"중문로\"\n",
        "test_df.loc[(test_df[\"end_node_name\"] == \"수간교차로\") & (test_df[\"road_name\"] == \"-\"), \"road_name\"] = \"양계장\"\n",
        "test_df.loc[(test_df[\"end_node_name\"] == \"난산사거리\") & (test_df[\"road_name\"] == \"-\"), \"road_name\"] = \"난산입구\"\n",
        "test_df.loc[(test_df[\"end_node_name\"] == \"서중2교\") & (test_df[\"road_name\"] == \"-\"), \"road_name\"] = \"중문로\"\n",
        "test_df.loc[(test_df[\"end_node_name\"] == \"서귀포시산림조합\") & (test_df[\"road_name\"] == \"-\"), \"road_name\"] = \"지방도1136호선\"\n",
        "test_df.loc[(test_df[\"end_node_name\"] == \"옹포사거리\") & (test_df[\"road_name\"] == \"-\"), \"road_name\"] = \"월계교\"\n",
        "test_df.loc[(test_df[\"end_node_name\"] == \"진은교차로\") & (test_df[\"road_name\"] == \"-\"), \"road_name\"] = \"하나로교\""
      ],
      "metadata": {
        "id": "JnP_GFfMvovZ"
      },
      "execution_count": 65,
      "outputs": []
    },
    {
      "cell_type": "code",
      "source": [
        "train_df[[\"start_latitude\", \"start_longitude\", \"end_latitude\", \"end_longitude\"]] = train_df[[\"start_latitude\", \"start_longitude\", \"end_latitude\", \"end_longitude\"]].apply(lambda x: round(x, 6))\n",
        "test_df[[\"start_latitude\", \"start_longitude\", \"end_latitude\", \"end_longitude\"]] = test_df[[\"start_latitude\", \"start_longitude\", \"end_latitude\", \"end_longitude\"]].apply(lambda x: round(x, 6))"
      ],
      "metadata": {
        "id": "iuECw591xjXy"
      },
      "execution_count": 67,
      "outputs": []
    },
    {
      "cell_type": "code",
      "source": [
        "train_df.loc[(train_df[\"start_latitude\"] == 33.409416) & (train_df[\"road_name\"] == \"-\"), \"road_name\"] = \"월계교\"\n",
        "train_df.loc[(train_df[\"start_latitude\"] == 33.402546) & (train_df[\"road_name\"] == \"-\"), \"road_name\"] = \"지방도1119호선\"\n",
        "train_df.loc[(train_df[\"start_latitude\"] == 33.471164) & (train_df[\"road_name\"] == \"-\"), \"road_name\"] = \"일반국도12호선\"\n",
        "train_df.loc[(train_df[\"start_latitude\"] == 33.411255) & (train_df[\"road_name\"] == \"-\"), \"road_name\"] = \"월계교\"\n",
        "train_df.loc[(train_df[\"start_latitude\"] == 33.405319) & (train_df[\"road_name\"] == \"-\"), \"road_name\"] = \"산서로\"\n",
        "train_df.loc[(train_df[\"start_latitude\"] == 33.322018) & (train_df[\"road_name\"] == \"-\"), \"road_name\"] = \"서중2교\"\n",
        "train_df.loc[(train_df[\"start_latitude\"] == 33.325096) & (train_df[\"road_name\"] == \"-\"), \"road_name\"] = \"중문로\"\n",
        "train_df.loc[(train_df[\"start_latitude\"] == 33.408431) & (train_df[\"road_name\"] == \"-\"), \"road_name\"] = \"산서로\"\n",
        "train_df.loc[(train_df[\"start_latitude\"] == 33.284189) & (train_df[\"road_name\"] == \"-\"), \"road_name\"] = \"중문로\"\n",
        "train_df.loc[(train_df[\"start_latitude\"] == 33.47339) & (train_df[\"road_name\"] == \"-\"), \"road_name\"] = \"양계장\"\n",
        "\n",
        "test_df.loc[(test_df[\"start_latitude\"] == 33.409416) & (test_df[\"road_name\"] == \"-\"), \"road_name\"] = \"월계교\"\n",
        "test_df.loc[(test_df[\"start_latitude\"] == 33.402546) & (test_df[\"road_name\"] == \"-\"), \"road_name\"] = \"지방도1119호선\"\n",
        "test_df.loc[(test_df[\"start_latitude\"] == 33.471164) & (test_df[\"road_name\"] == \"-\"), \"road_name\"] = \"일반국도12호선\"\n",
        "test_df.loc[(test_df[\"start_latitude\"] == 33.411255) & (test_df[\"road_name\"] == \"-\"), \"road_name\"] = \"월계교\"\n",
        "test_df.loc[(test_df[\"start_latitude\"] == 33.405319) & (test_df[\"road_name\"] == \"-\"), \"road_name\"] = \"산서로\"\n",
        "test_df.loc[(test_df[\"start_latitude\"] == 33.322018) & (test_df[\"road_name\"] == \"-\"), \"road_name\"] = \"서중2교\"\n",
        "test_df.loc[(test_df[\"start_latitude\"] == 33.325096) & (test_df[\"road_name\"] == \"-\"), \"road_name\"] = \"중문로\"\n",
        "test_df.loc[(test_df[\"start_latitude\"] == 33.408431) & (test_df[\"road_name\"] == \"-\"), \"road_name\"] = \"산서로\"\n",
        "test_df.loc[(test_df[\"start_latitude\"] == 33.284189) & (test_df[\"road_name\"] == \"-\"), \"road_name\"] = \"중문로\"\n",
        "test_df.loc[(test_df[\"start_latitude\"] == 33.47339) & (test_df[\"road_name\"] == \"-\"), \"road_name\"] = \"양계장\""
      ],
      "metadata": {
        "id": "rweH0BJrxnc9"
      },
      "execution_count": 68,
      "outputs": []
    },
    {
      "cell_type": "code",
      "source": [
        "train_df.loc[(train_df[\"end_latitude\"] == 33.47339) & (train_df[\"road_name\"] == \"-\"), \"road_name\"] = \"일반국도12호선\"\n",
        "train_df.loc[(train_df[\"end_latitude\"] == 33.358358) & (train_df[\"road_name\"] == \"-\"), \"road_name\"] = \"일반국도16호선\"\n",
        "train_df.loc[(train_df[\"end_latitude\"] == 33.412573) & (train_df[\"road_name\"] == \"-\"), \"road_name\"] = \"월계교\"\n",
        "train_df.loc[(train_df[\"end_latitude\"] == 33.244882) & (train_df[\"road_name\"] == \"-\"), \"road_name\"] = \"산서로\"\n",
        "train_df.loc[(train_df[\"end_latitude\"] == 33.322018) & (train_df[\"road_name\"] == \"-\"), \"road_name\"] = \"중문로\"\n",
        "\n",
        "test_df.loc[(test_df[\"end_latitude\"] == 33.47339) & (test_df[\"road_name\"] == \"-\"), \"road_name\"] = \"일반국도12호선\"\n",
        "test_df.loc[(test_df[\"end_latitude\"] == 33.358358) & (test_df[\"road_name\"] == \"-\"), \"road_name\"] = \"일반국도16호선\"\n",
        "test_df.loc[(test_df[\"end_latitude\"] == 33.412573) & (test_df[\"road_name\"] == \"-\"), \"road_name\"] = \"월계교\"\n",
        "test_df.loc[(test_df[\"end_latitude\"] == 33.244882) & (test_df[\"road_name\"] == \"-\"), \"road_name\"] = \"산서로\"\n",
        "test_df.loc[(test_df[\"end_latitude\"] == 33.322018) & (test_df[\"road_name\"] == \"-\"), \"road_name\"] = \"중문로\""
      ],
      "metadata": {
        "id": "u_dClVGExufB"
      },
      "execution_count": 69,
      "outputs": []
    },
    {
      "cell_type": "code",
      "source": [
        "train_df.loc[(train_df[\"start_longitude\"] == 126.259693) & (train_df[\"road_name\"] == \"-\"), \"road_name\"] = \"월계교\"\n",
        "\n",
        "test_df.loc[(test_df[\"start_longitude\"] == 126.259693) & (test_df[\"road_name\"] == \"-\"), \"road_name\"] = \"월계교\""
      ],
      "metadata": {
        "id": "zYG4e7f0x27W"
      },
      "execution_count": 70,
      "outputs": []
    },
    {
      "cell_type": "code",
      "source": [
        "train_df.loc[(train_df[\"end_longitude\"] == 126.414236) & (train_df[\"end_latitude\"] == 33.255215) & (train_df[\"lane_count\"] == 2) & (train_df[\"road_name\"] == \"-\"), \"road_name\"] = \"중문로\"\n",
        "train_df.loc[(train_df[\"end_longitude\"] == 126.456384) & (train_df[\"end_latitude\"] == 33.465863) & (train_df[\"lane_count\"] == 2) & (train_df[\"road_name\"] == \"-\"), \"road_name\"] = \"애조로\"\n",
        "\n",
        "test_df.loc[(test_df[\"end_longitude\"] == 126.414236) & (test_df[\"end_latitude\"] == 33.255215) & (test_df[\"lane_count\"] == 2) & (test_df[\"road_name\"] == \"-\"), \"road_name\"] = \"중문로\"\n",
        "test_df.loc[(test_df[\"end_longitude\"] == 126.456384) & (test_df[\"end_latitude\"] == 33.465863) & (test_df[\"lane_count\"] == 2) & (test_df[\"road_name\"] == \"-\"), \"road_name\"] = \"애조로\""
      ],
      "metadata": {
        "id": "I2jutIw4yEg8"
      },
      "execution_count": 71,
      "outputs": []
    },
    {
      "cell_type": "code",
      "source": [
        "train_df.loc[(train_df[\"start_longitude\"] == 126.262739) & (train_df[\"start_latitude\"] == 33.415854) & (train_df[\"lane_count\"] == 2) & (train_df[\"road_name\"] == \"-\"), \"road_name\"] = \"월계교\"\n",
        "train_df.loc[(train_df[\"start_longitude\"] == 126.413687) & (train_df[\"start_latitude\"] == 33.255431) & (train_df[\"lane_count\"] == 2) & (train_df[\"road_name\"] == \"-\"), \"road_name\"] = \"중문로\"\n",
        "train_df.loc[(train_df[\"start_longitude\"] == 126.454583) & (train_df[\"start_latitude\"] == 33.466433) & (train_df[\"lane_count\"] == 2) & (train_df[\"road_name\"] == \"-\"), \"road_name\"] = \"애조로\"\n",
        "train_df.loc[(train_df[\"start_longitude\"] == 126.456384) & (train_df[\"start_latitude\"] == 33.465863) & (train_df[\"lane_count\"] == 2) & (train_df[\"road_name\"] == \"-\"), \"road_name\"] = \"애조로\"\n",
        "\n",
        "test_df.loc[(test_df[\"start_longitude\"] == 126.262739) & (test_df[\"start_latitude\"] == 33.415854) & (test_df[\"lane_count\"] == 2) & (test_df[\"road_name\"] == \"-\"), \"road_name\"] = \"월계교\"\n",
        "test_df.loc[(test_df[\"start_longitude\"] == 126.413687) & (test_df[\"start_latitude\"] == 33.255431) & (test_df[\"lane_count\"] == 2) & (test_df[\"road_name\"] == \"-\"), \"road_name\"] = \"중문로\"\n",
        "test_df.loc[(test_df[\"start_longitude\"] == 126.454583) & (test_df[\"start_latitude\"] == 33.466433) & (test_df[\"lane_count\"] == 2) & (test_df[\"road_name\"] == \"-\"), \"road_name\"] = \"애조로\"\n",
        "test_df.loc[(test_df[\"start_longitude\"] == 126.456384) & (test_df[\"start_latitude\"] == 33.465863) & (test_df[\"lane_count\"] == 2) & (test_df[\"road_name\"] == \"-\"), \"road_name\"] = \"애조로\""
      ],
      "metadata": {
        "id": "dNV1-QCUyM_I"
      },
      "execution_count": 72,
      "outputs": []
    },
    {
      "cell_type": "code",
      "source": [
        "from sklearn.preprocessing import LabelEncoder\n",
        "\n",
        "road_name_dic = { key:value for key, value in zip(list(train_df['road_name'].unique()), list(LabelEncoder().fit_transform(train_df['road_name'].unique())))}\n",
        "train_df['road_name'] = train_df.road_name.map(road_name_dic)\n",
        "test_df['road_name'] = test_df.road_name.map(road_name_dic)"
      ],
      "metadata": {
        "id": "USHGuasoljPr"
      },
      "execution_count": 73,
      "outputs": []
    },
    {
      "cell_type": "code",
      "source": [
        "test_df['road_name'].unique()"
      ],
      "metadata": {
        "colab": {
          "base_uri": "https://localhost:8080/"
        },
        "id": "wXzTv0sorTLZ",
        "outputId": "fd4dc9fd-34ff-475b-9f02-1fa440f7d0b9"
      },
      "execution_count": 74,
      "outputs": [
        {
          "output_type": "execute_result",
          "data": {
            "text/plain": [
              "array([35, 39, 40, 38, 13, 21, 29, 58, 45, 42,  1, 23, 19,  3, 26, 14, 18,\n",
              "       46, 57, 61,  5, 49,  4, 12,  2, 16, 36,  7,  0, 25, 17, 54, 22, 51,\n",
              "       48, 60,  6, 31, 63, 11, 33, 10, 34, 32, 53, 59])"
            ]
          },
          "metadata": {},
          "execution_count": 74
        }
      ]
    },
    {
      "cell_type": "code",
      "source": [
        "start_node_name_dic = { key:value for key, value in zip(list(train_df['start_node_name'].unique()), list(LabelEncoder().fit_transform(train_df['start_node_name'].unique())))}\n",
        "train_df['start_node_name'] = train_df.start_node_name.map(start_node_name_dic)\n",
        "test_df['start_node_name'] = test_df.start_node_name.map(start_node_name_dic)"
      ],
      "metadata": {
        "id": "SJnp63xpuJ6H"
      },
      "execution_count": 75,
      "outputs": []
    },
    {
      "cell_type": "code",
      "source": [
        "end_node_name_dic = { key:value for key, value in zip(list(train_df['end_node_name'].unique()), list(LabelEncoder().fit_transform(train_df['end_node_name'].unique())))}\n",
        "train_df['end_node_name'] = train_df.end_node_name.map(end_node_name_dic)\n",
        "test_df['end_node_name'] = test_df.end_node_name.map(end_node_name_dic)"
      ],
      "metadata": {
        "id": "a0JY8AzkvVln"
      },
      "execution_count": 76,
      "outputs": []
    },
    {
      "cell_type": "code",
      "source": [
        "def season(x) :\n",
        "    if x in [3, 4, 5, 6] :\n",
        "        return 0\n",
        "    elif x in [7, 8, 9] :\n",
        "        return 1\n",
        "    elif x in [10, 11] :\n",
        "        return 2\n",
        "    else :\n",
        "        return 3\n",
        "\n",
        "train_df['season'] = train_df.base_date.dt.month.apply(season)\n",
        "test_df['season'] = test_df.base_date.dt.month.apply(season)"
      ],
      "metadata": {
        "id": "_hCQjo2Hv7vf"
      },
      "execution_count": 77,
      "outputs": []
    },
    {
      "cell_type": "code",
      "source": [
        "train_df.season.value_counts()"
      ],
      "metadata": {
        "colab": {
          "base_uri": "https://localhost:8080/"
        },
        "id": "6cE3h98_8EYC",
        "outputId": "890120c5-9c86-42d1-b7e2-70e5525dfb10"
      },
      "execution_count": 78,
      "outputs": [
        {
          "output_type": "execute_result",
          "data": {
            "text/plain": [
              "3    1726459\n",
              "0    1450065\n",
              "1     840122\n",
              "2     653766\n",
              "Name: season, dtype: int64"
            ]
          },
          "metadata": {},
          "execution_count": 78
        }
      ]
    },
    {
      "cell_type": "code",
      "source": [
        "train_df.base_date.dt.month"
      ],
      "metadata": {
        "colab": {
          "base_uri": "https://localhost:8080/"
        },
        "id": "YO7JipCmupEO",
        "outputId": "f771009b-a7ef-403b-adf1-b549adc9d136"
      },
      "execution_count": 79,
      "outputs": [
        {
          "output_type": "execute_result",
          "data": {
            "text/plain": [
              "0           6\n",
              "1           7\n",
              "2          10\n",
              "3           3\n",
              "4          10\n",
              "           ..\n",
              "4701212    11\n",
              "4701213     3\n",
              "4701214     6\n",
              "4701215    10\n",
              "4701216    10\n",
              "Name: base_date, Length: 4670412, dtype: int64"
            ]
          },
          "metadata": {},
          "execution_count": 79
        }
      ]
    },
    {
      "cell_type": "code",
      "source": [
        "train_df['month'] = train_df.base_date.dt.month\n",
        "test_df['month'] = test_df.base_date.dt.month"
      ],
      "metadata": {
        "id": "-CdHlmHXuhv-"
      },
      "execution_count": 80,
      "outputs": []
    },
    {
      "cell_type": "code",
      "source": [
        "road_type_dic = { key:value for key, value in zip(list(train_df['road_type'].unique()), list(LabelEncoder().fit_transform(train_df['road_type'].unique())))}\n",
        "train_df['road_type'] = train_df.road_type.map(road_type_dic)\n",
        "test_df['road_type'] = test_df.road_type.map(road_type_dic)"
      ],
      "metadata": {
        "id": "qRI9UC9fcoZp"
      },
      "execution_count": 81,
      "outputs": []
    },
    {
      "cell_type": "code",
      "source": [
        "weight_restricted_dic = { key:value for key, value in zip(list(train_df['weight_restricted'].unique()), list(LabelEncoder().fit_transform(train_df['weight_restricted'].unique())))}\n",
        "train_df['weight_restricted'] = train_df.weight_restricted.map(weight_restricted_dic)\n",
        "test_df['weight_restricted'] = test_df.weight_restricted.map(weight_restricted_dic)"
      ],
      "metadata": {
        "id": "jtAE926Ucf90"
      },
      "execution_count": 82,
      "outputs": []
    },
    {
      "cell_type": "code",
      "source": [
        "maximum_speed_limit_dic = { key:value for key, value in zip(list(train_df['maximum_speed_limit'].unique()), list(LabelEncoder().fit_transform(train_df['maximum_speed_limit'].unique())))}\n",
        "train_df['maximum_speed_limit'] = train_df.maximum_speed_limit.map(maximum_speed_limit_dic)\n",
        "test_df['maximum_speed_limit'] = test_df.maximum_speed_limit.map(maximum_speed_limit_dic)"
      ],
      "metadata": {
        "id": "gyXPPFQBcUE8"
      },
      "execution_count": 83,
      "outputs": []
    },
    {
      "cell_type": "code",
      "source": [
        "connect_code_dic = { key:value for key, value in zip(list(train_df['connect_code'].unique()), list(LabelEncoder().fit_transform(train_df['connect_code'].unique())))}\n",
        "train_df['connect_code'] = train_df.connect_code.map(connect_code_dic)\n",
        "test_df['connect_code'] = test_df.connect_code.map(connect_code_dic)"
      ],
      "metadata": {
        "id": "UxZ3xXoqbbvw"
      },
      "execution_count": 84,
      "outputs": []
    },
    {
      "cell_type": "code",
      "source": [
        "def road(x):\n",
        "  if x == 103:\n",
        "    return 0\n",
        "  elif x == 106:\n",
        "    return 1\n",
        "  elif x == 107:\n",
        "    return 2\n",
        "\n",
        "train_df['road_rating'] = train_df.road_rating.apply(road)\n",
        "test_df['road_rating'] = test_df.road_rating.apply(road)"
      ],
      "metadata": {
        "id": "7ACwf7nTa_nI"
      },
      "execution_count": 85,
      "outputs": []
    },
    {
      "cell_type": "code",
      "source": [
        "train_df['is_weekend'] = 0\n",
        "test_df['is_weekend'] = 0"
      ],
      "metadata": {
        "id": "FYj4pp_5oJzH"
      },
      "execution_count": 86,
      "outputs": []
    },
    {
      "cell_type": "code",
      "source": [
        "def is_weekend(x):\n",
        "  if x > 4:\n",
        "    return 1\n",
        "  else:\n",
        "    return 0"
      ],
      "metadata": {
        "id": "Wyqh01T0ohyd"
      },
      "execution_count": 87,
      "outputs": []
    },
    {
      "cell_type": "code",
      "source": [
        "train_df['is_weekend'] = train_df.day_of_week.apply(is_weekend)\n",
        "test_df['is_weekend'] = test_df.day_of_week.apply(is_weekend)"
      ],
      "metadata": {
        "id": "v68IbJy3oTaW"
      },
      "execution_count": 88,
      "outputs": []
    },
    {
      "cell_type": "code",
      "source": [
        "# from sklearn.cluster import KMeans\n",
        "# kmeans = KMeans(n_clusters=4,random_state=42).fit(train_df[['lane_count','maximum_speed_limit']])\n",
        "# labels = kmeans.labels_\n",
        "# centers = kmeans.cluster_centers_\n",
        "\n",
        "# train_df['clustering'] = labels"
      ],
      "metadata": {
        "id": "bvUj2Iwp-kV5"
      },
      "execution_count": 89,
      "outputs": []
    },
    {
      "cell_type": "code",
      "source": [
        "# test_df['clustering'] = kmeans.predict(test_df[['lane_count','maximum_speed_limit']])"
      ],
      "metadata": {
        "id": "dRFxg73QP32B"
      },
      "execution_count": 90,
      "outputs": []
    },
    {
      "cell_type": "code",
      "source": [
        "train_df = train_df.drop(columns=['base_date'])\n",
        "test_df = test_df.drop(columns=['base_date'])\n",
        "train_df.drop(['vehicle_restricted', 'id', 'height_restricted'], axis = 1, inplace = True)\n",
        "test_df.drop(['vehicle_restricted', 'id', 'height_restricted'], axis = 1, inplace = True)"
      ],
      "metadata": {
        "id": "Uy-cWmIfRoSL"
      },
      "execution_count": 91,
      "outputs": []
    },
    {
      "cell_type": "code",
      "source": [
        "# 첫번째 테스트용으로 사용하고, 실제 학습시에는 K-Fold CV를 사용합니다.\n",
        "# train : test = 8 : 2\n",
        "from sklearn.model_selection import train_test_split\n",
        "\n",
        "X = train_df.drop(columns=['target'])\n",
        "y = train_df[['target']]\n",
        "\n",
        "X_train, X_test, y_train, y_test = train_test_split(X, y, test_size=0.2, random_state=42)"
      ],
      "metadata": {
        "id": "YXhF-MA71ZOg"
      },
      "execution_count": 105,
      "outputs": []
    },
    {
      "cell_type": "code",
      "source": [
        "print(X_train.shape, y_train.shape, X_test.shape, y_test.shape)"
      ],
      "metadata": {
        "colab": {
          "base_uri": "https://localhost:8080/"
        },
        "id": "5YHF7mN71ZvG",
        "outputId": "7980f00f-d75d-452b-b5b3-d88eaed33846"
      },
      "execution_count": 106,
      "outputs": [
        {
          "output_type": "stream",
          "name": "stdout",
          "text": [
            "(3736329, 30) (3736329, 1) (934083, 30) (934083, 1)\n"
          ]
        }
      ]
    },
    {
      "cell_type": "code",
      "source": [
        "# 간단하게 LightGBM 테스트\n",
        "# 적당한 hyper-parameter 조합을 두었습니다. (항상 best는 아닙니다. 예시입니다.)\n",
        "\n",
        "param_grid = {\n",
        "    \"max_bin\" : 20,\n",
        "    \"learning_rate\" : 0.0025,\n",
        "    \"objective\" : \"regression\",\n",
        "    \"boosting_type\" : \"gbdt\",\n",
        "    \"metric\" : \"mae\",\n",
        "    \"sub_feature\" : 0.345,\n",
        "    \"bagging_fraction\" : 0.85,\n",
        "    \"bagging_freq\" : 40,\n",
        "    \"num_leaves\" : 512,\n",
        "    \"min_data\" : 500,\n",
        "    \"min_hessian\" : 0.05,\n",
        "    \"verbose\" : 2,\n",
        "    \"feature_fraction_seed\" : 2,\n",
        "    \"bagging_seed\" : 3\n",
        "}\n",
        "\n",
        "model = LGBMRegressor(**param_grid)\n",
        "\n",
        "print(\"\\nFitting LightGBM...\")\n",
        "model.fit(X_train, y_train)\n",
        "\n",
        "evaluation_metric = mean_absolute_error\n",
        "\n",
        "print(\"Prediction\")\n",
        "pred_train = model.predict(X_train)\n",
        "pred_test = model.predict(X_test)\n",
        "\n",
        "\n",
        "train_score = evaluation_metric(y_train, pred_train)\n",
        "test_score = evaluation_metric(y_test, pred_test)\n",
        "\n",
        "print(\"Train Score : %.4f\" % train_score)\n",
        "print(\"Test Score : %.4f\" % test_score)"
      ],
      "metadata": {
        "colab": {
          "base_uri": "https://localhost:8080/"
        },
        "id": "-AzFk1EU1bQV",
        "outputId": "57545898-c150-4087-e357-896a18cf7603"
      },
      "execution_count": null,
      "outputs": [
        {
          "output_type": "stream",
          "name": "stdout",
          "text": [
            "\n",
            "Fitting LightGBM...\n",
            "Prediction\n"
          ]
        }
      ]
    },
    {
      "cell_type": "code",
      "source": [
        "from sklearn.model_selection import GridSearchCV\n",
        "\n",
        "param_grid = {\n",
        "    \"max_depth\" : [8, 16, None],\n",
        "    \"n_estimators\" : [100, 300, 500],\n",
        "    \"max_bin\" : [20],\n",
        "    \"learning_rate\" : [0.001, 0.0025, 0.003],\n",
        "    \"objective\" : [\"regression\"],\n",
        "    \"boosting_type\" : [\"gbdt\"],\n",
        "    \"metric\" : [\"mae\"],\n",
        "    \"sub_feature\" : [0.345],\n",
        "    \"bagging_fraction\" : [0.7, 0.75, 0.85],\n",
        "    \"bagging_freq\" : [40],\n",
        "    \"num_leaves\" : [256, 512],\n",
        "    \"min_data\" : [500],\n",
        "    \"verbose\" : [-1], # 필수\n",
        "    \"min_hessian\" : [0.05],\n",
        "    \"feature_fraction_seed\" : [2],\n",
        "    \"bagging_seed\" : [3]\n",
        "}\n",
        "\n",
        "\n",
        "gcv = GridSearchCV(estimator=model, param_grid=param_grid, cv=5,\n",
        "                  n_jobs=-1, verbose=1)\n",
        "\n",
        "gcv.fit(X_train, y_train)\n",
        "print(\"Best Estimator : \", gcv.best_estimator_)\n",
        "\n",
        "print(\"Prediction with Best Estimator\")\n",
        "gcv_pred_train = gcv.predict(X_train)\n",
        "gcv_pred_test = gcv.predict(X_test)\n",
        "\n",
        "gcv_train_score = evaluation_metric(y_train, gcv_pred_train)\n",
        "gcv_test_score = evaluation_metric(y_test, gcv_pred_test)\n",
        "\n",
        "print(\"Train MAE Score : %.4f\" % gcv_train_score)\n",
        "print(\"Test MAE Score : %.4f\" % gcv_test_score)\n",
        "\n",
        "print(\"Performance Gain\") # 이걸로 성능 향상 확인.\n",
        "print(\"in train : \", (train_score - gcv_train_score))\n",
        "print(\"in test : \", (test_score - gcv_test_score))"
      ],
      "metadata": {
        "id": "ZafttHiv2afJ"
      },
      "execution_count": null,
      "outputs": []
    },
    {
      "cell_type": "code",
      "source": [
        "# # 첫번째 테스트용으로 사용하고, 실제 학습시에는 K-Fold CV를 사용합니다.\n",
        "# # train : test = 8 : 2\n",
        "# from sklearn.model_selection import train_test_split\n",
        "\n",
        "# param_list = []\n",
        "\n",
        "# def start(input_data):\n",
        "#     X = input_data.drop(columns=['target'])\n",
        "#     y = input_data[['target']]\n",
        "\n",
        "#     X_train, X_test, y_train, y_test = train_test_split(X, y, random_state=42, test_size=0.2)\n",
        "#     evaluation_metric = mean_absolute_error\n",
        "\n",
        "#     from sklearn.preprocessing import StandardScaler\n",
        "#     scaler = StandardScaler()\n",
        "\n",
        "#     scaler.fit(X_train)\n",
        "#     X_train.loc[:, :] = scaler.transform(X_train)\n",
        "#     X_test.loc[:, :] = scaler.transform(X_test)\n",
        "\n",
        "#     K = 3\n",
        "#     opt_func = partial(optimizer, X=X_train, y=y_train, K=K)\n",
        "\n",
        "#     study = optuna.create_study(direction=\"minimize\") # 최소/최대 어느 방향의 최적값을 구할 건지.\n",
        "#     study.optimize(opt_func, n_trials=5)\n",
        "\n",
        "#     print(\"Best Score: %.4f\" % study.best_value) # best score 출력\n",
        "#     param_list.append(study.best_trial.params) # best score일 때의 하이퍼파라미터들\n",
        "\n",
        "# def optimizer(trial, X, y, K):\n",
        "#     # 조절할 hyper-parameter 조합을 적어줍니다.\n",
        "#     param = {\n",
        "#         'objective' : 'regression',\n",
        "#         'verbose': -1,\n",
        "#         'metric': 'mae', \n",
        "#         'random_state' : 42,\n",
        "#         'max_depth': trial.suggest_int('max_depth',5, 30),\n",
        "#         'num_leaves': trial.suggest_int('num_leaves', 64, 1000),\n",
        "#         'min_data_in_leaf': trial.suggest_int('min_data_in_leaf', 100, 1000),\n",
        "#         'learning_rate': trial.suggest_loguniform(\"learning_rate\", 1e-8, 1e-2),\n",
        "#         'n_estimators': trial.suggest_int('n_estimators', 100, 3000),\n",
        "#         'min_child_samples': trial.suggest_int('min_child_samples', 5, 100),\n",
        "#         'subsample': trial.suggest_loguniform('subsample', 0.4, 1),\n",
        "#     } \n",
        "    \n",
        "#     # 원하는 모델을 지정합니다, optuna는 시간이 오래걸리기 때문에 저는 보통 RF로 일단 테스트를 해본 뒤에 LGBM을 사용합니다.\n",
        "#     model = LGBMRegressor(**param)\n",
        "    \n",
        "#     # K-Fold Cross validation을 구현합니다.\n",
        "#     folds = KFold(n_splits=K)\n",
        "#     losses = []\n",
        "    \n",
        "#     for train_idx, val_idx in folds.split(X, y):\n",
        "#         X_train = X.iloc[train_idx, :]\n",
        "#         y_train = y.iloc[train_idx]\n",
        "        \n",
        "#         X_val = X.iloc[val_idx, :]\n",
        "#         y_val = y.iloc[val_idx]\n",
        "        \n",
        "#         model.fit(X_train, y_train)\n",
        "#         preds = model.predict(X_val)\n",
        "#         loss = mean_absolute_error(y_val, preds)\n",
        "#         losses.append(loss)\n",
        "    \n",
        "    \n",
        "#     # K-Fold의 평균 loss값을 돌려줍니다.\n",
        "#     return np.mean(losses)\n",
        "\n",
        "# start(train_df)"
      ],
      "metadata": {
        "id": "sxuLAyb-cyVS"
      },
      "execution_count": 92,
      "outputs": []
    },
    {
      "cell_type": "code",
      "source": [
        "# print(param_list)\n",
        "# print(len(param_list))"
      ],
      "metadata": {
        "id": "BgKRp9ukypYA"
      },
      "execution_count": 93,
      "outputs": []
    },
    {
      "cell_type": "code",
      "source": [
        "# # 실험 기록 시각화\n",
        "# optuna.visualization.plot_optimization_history(study)"
      ],
      "metadata": {
        "id": "HoKu8LVmYbRz"
      },
      "execution_count": 94,
      "outputs": []
    },
    {
      "cell_type": "code",
      "source": [
        "# # hyper-parameter들의 중요도\n",
        "# optuna.visualization.plot_param_importances(study)"
      ],
      "metadata": {
        "id": "DcuEC5fzYgZp"
      },
      "execution_count": 95,
      "outputs": []
    },
    {
      "cell_type": "code",
      "source": [
        "# test_df['submission'] = 0"
      ],
      "metadata": {
        "id": "WodQUzL5tUW3"
      },
      "execution_count": 96,
      "outputs": []
    },
    {
      "cell_type": "code",
      "source": [
        "# X_train = train_df.drop(columns=['target'])\n",
        "# y_train = train_df['target']\n",
        "        \n",
        "# model = LGBMRegressor(**param_list[0])\n",
        "\n",
        "# print(\"\\nFitting LightGBM...\")\n",
        "# model.fit(X_train, y_train)\n",
        "# print(\"Prediction\")\n",
        "# test_df['submission'] = model.predict(test_df.drop(columns=['submission']))"
      ],
      "metadata": {
        "id": "Zly5I_o5mmWq"
      },
      "execution_count": 97,
      "outputs": []
    },
    {
      "cell_type": "code",
      "source": [
        "# submission = pd.read_csv('/content/drive/MyDrive/Colab Notebooks/data/open/sample_submission.csv') # submission을 생성합니다.\n",
        "# submission"
      ],
      "metadata": {
        "id": "TvJ2uIVmmyPG"
      },
      "execution_count": 98,
      "outputs": []
    },
    {
      "cell_type": "code",
      "source": [
        "# test_df"
      ],
      "metadata": {
        "id": "4ATZ9mKX7eM3"
      },
      "execution_count": 99,
      "outputs": []
    },
    {
      "cell_type": "code",
      "source": [
        "# submission['target'] = test_df.submission"
      ],
      "metadata": {
        "id": "d9HWPqUO2x0I"
      },
      "execution_count": 100,
      "outputs": []
    },
    {
      "cell_type": "code",
      "source": [
        "# submission"
      ],
      "metadata": {
        "id": "py21dzzk7nGG"
      },
      "execution_count": 101,
      "outputs": []
    },
    {
      "cell_type": "code",
      "source": [
        "# submission.reset_index(drop=True).to_csv(\"submission.csv\", index=False)"
      ],
      "metadata": {
        "id": "to_nTaNnr2Sg"
      },
      "execution_count": 102,
      "outputs": []
    },
    {
      "cell_type": "code",
      "source": [],
      "metadata": {
        "id": "z7D2cTVWumXU"
      },
      "execution_count": 102,
      "outputs": []
    }
  ]
}