{
 "cells": [
  {
   "cell_type": "code",
   "execution_count": 3,
   "metadata": {},
   "outputs": [],
   "source": [
    "import matplotlib.pyplot as plt\n",
    "import numpy as np\n",
    "import pandas as pd\n",
    "import sklearn.linear_model \n",
    "\n",
    "# 데이터 적재\n",
    "oecd_bli = pd.read_csv(\"oecd_bli_2015.csv\", thousands=',')\n",
    "gdp_per_capita = pd.read_csv(\"gdp_per_capita.csv\", thousands=',', delimiter='\\t', encoding='latin1', na_values=\"n/a\")\n",
    "\n",
    "country_stats = prepare_country_stats(oecd_bli, gdp_per_capita)\n",
    "X = np.c_[country_stats[\"GDP per capita\"]]\n",
    "y = np.c_[country_stats[\"Life satisfaction\"]]\n",
    "\n",
    "country_stats.plot(kind=\"scatter\", x='GDP per capita', y='Life satisfaction')\n",
    "plt.show()\n",
    "\n",
    "model = sklearn.linear_model.LinearRegression()\n",
    "\n",
    "model.fit(X, y)\n",
    "\n",
    "X_new = [[22587]]\n",
    "print(model.predict(X_new))"
   ]
  },
  {
   "attachments": {},
   "cell_type": "markdown",
   "metadata": {},
   "source": [
    "데이터 분석 -> 모델 선택 -> 훈련 데이터로 모델 학습 -> 추론을 통한 확인"
   ]
  },
  {
   "attachments": {},
   "cell_type": "markdown",
   "metadata": {},
   "source": [
    "## 머신러닝에서 문제가 될 수 있는 부분들\n",
    "- 충분하지 않은 양의 훈련 데이터 \n",
    "- 대표성 없는 훈련 데이터\n",
    "    - sampling bias에 주의\n",
    "- 낮은 품질의 데이터 \n",
    "- 관련 없는 특성\n",
    "    - feature selection과 feature extraction을 사용해 해결 \n",
    "- 훈련 데이터 과대적합\n",
    "- 훈련 데이터 과소적합 "
   ]
  },
  {
   "attachments": {},
   "cell_type": "markdown",
   "metadata": {},
   "source": [
    "## 테스트와 검증"
   ]
  },
  {
   "attachments": {},
   "cell_type": "markdown",
   "metadata": {},
   "source": [
    "- train set과 test set을 이용\n",
    "    - 훈련 오차와 일반화 오차를 이용하여 수정\n",
    "- validation set을 이용하여 최적의 하이퍼 파라미터를 찾기 -> train set과 validation set을 합쳐 다시 훈련시킨 후 일반화 오차 계산\n",
    "- cross-validation"
   ]
  },
  {
   "cell_type": "markdown",
   "metadata": {},
   "source": []
  }
 ],
 "metadata": {
  "kernelspec": {
   "display_name": "pill2",
   "language": "python",
   "name": "python3"
  },
  "language_info": {
   "codemirror_mode": {
    "name": "ipython",
    "version": 3
   },
   "file_extension": ".py",
   "mimetype": "text/x-python",
   "name": "python",
   "nbconvert_exporter": "python",
   "pygments_lexer": "ipython3",
   "version": "3.8.16"
  },
  "orig_nbformat": 4
 },
 "nbformat": 4,
 "nbformat_minor": 2
}
