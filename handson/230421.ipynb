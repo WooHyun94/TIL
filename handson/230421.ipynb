{
 "cells": [
  {
   "attachments": {},
   "cell_type": "markdown",
   "metadata": {},
   "source": [
    "## 머신러닝\n",
    "- 머신러닝이란 어떤 작업 T에 대한 컴퓨터 프로그램의 성능을 P로 측정했을 때 경험 E로 인해 성능이 향상됐다면, 이 컴퓨터 프로그램은 작업 T와 성능 측정 P에 대해 경험 E로 학습한 것이다."
   ]
  },
  {
   "attachments": {},
   "cell_type": "markdown",
   "metadata": {},
   "source": [
    "- 구분 \n",
    "    - 사람의 감독하에 훈련하는지 (지도, 비지도, 준지도, 강화 학습)\n",
    "    - 실시간으로 점진적인 학습을 하는지 (온라인 학습, 배치 학습)\n",
    "    - 알고 있는 데이터 포인트와 새 데이터 포인트를 비교하는지 아니면 패턴을 발견하여 예측 모델을 만드는지 (사례 기반 학습, 모델 기반 학습)"
   ]
  },
  {
   "attachments": {},
   "cell_type": "markdown",
   "metadata": {},
   "source": [
    "### 지도 학습"
   ]
  },
  {
   "attachments": {},
   "cell_type": "markdown",
   "metadata": {},
   "source": [
    "- label을 이용하여 학습시키는 방법\n",
    "- 대표적인 알고리즘\n",
    "    - k-nearest neighbors\n",
    "    - linear regression\n",
    "    - logistic regression\n",
    "    - SVM\n",
    "    - decision tree & random forest\n",
    "    - neural networks"
   ]
  },
  {
   "attachments": {},
   "cell_type": "markdown",
   "metadata": {},
   "source": [
    "### 비지도 학습\n",
    "- label을 이용하지 않고 학습시키는 방법\n",
    "- 대표적인 알고리즘\n",
    "    - 군집\n",
    "    - 이상치 탐지와 특이치 탐지\n",
    "    - 시각화와 차원 축소\n",
    "    - 연관 규칙 학습"
   ]
  },
  {
   "cell_type": "markdown",
   "metadata": {},
   "source": []
  }
 ],
 "metadata": {
  "language_info": {
   "name": "python"
  },
  "orig_nbformat": 4
 },
 "nbformat": 4,
 "nbformat_minor": 2
}
