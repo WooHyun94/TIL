{
 "cells": [
  {
   "attachments": {},
   "cell_type": "markdown",
   "metadata": {},
   "source": [
    "## UMASK\n",
    "- 파일 및 디렉터리의 허가 권한 관리"
   ]
  },
  {
   "attachments": {},
   "cell_type": "markdown",
   "metadata": {},
   "source": [
    "- 3개의 필드로 구성되어 있음\n",
    "    - 소유자, 그룹, 기타 사용자로 나뉘어짐"
   ]
  },
  {
   "attachments": {},
   "cell_type": "markdown",
   "metadata": {},
   "source": [
    "- 파일 666, 디렉터리 777\n",
    "- umask 기본 022\n",
    "- 계산방법 \n",
    "    - umask 022\n",
    "    - umask 보수 111 101 101\n",
    "    - 파일 110 110 110\n",
    "    - AND 연산 진행 \n",
    "    - 110 100 100\n",
    "    - 644 (rw-r--r--)"
   ]
  },
  {
   "attachments": {},
   "cell_type": "markdown",
   "metadata": {},
   "source": [
    "- sudo chown : 소유권 변경 명령어\n",
    "    - sudo chown guest:guest filename"
   ]
  },
  {
   "attachments": {},
   "cell_type": "markdown",
   "metadata": {},
   "source": [
    "- chmod : 파일 허가권 변경\n",
    "    - chmod 777 filename\n",
    "    - chmode u-rwx g-rwx o-rwx filename"
   ]
  },
  {
   "attachments": {},
   "cell_type": "markdown",
   "metadata": {},
   "source": [
    "- setuid, setgit, sticky-bit\n",
    "    - setuid : 일시적으로 소유자 권한 실행 (4000)\n",
    "    - setgit : 일시적으로 그룹 권한 실행 (2000)\n",
    "    - sticky-bit : 본인 및 관리자만 삭제 가능 (1000)\n",
    "    - chmod 4777 filename"
   ]
  },
  {
   "cell_type": "markdown",
   "metadata": {},
   "source": []
  }
 ],
 "metadata": {
  "language_info": {
   "name": "python"
  },
  "orig_nbformat": 4
 },
 "nbformat": 4,
 "nbformat_minor": 2
}
