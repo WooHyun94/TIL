{
 "cells": [
  {
   "attachments": {},
   "cell_type": "markdown",
   "metadata": {},
   "source": [
    "## 리눅스의 파일 시스템 \n",
    "- EXT4\n",
    "    - 일반 파일, 디렉터리, 장치 등 모두 파일로 관리\n",
    "    - 계층적 디렉터리 : 트리 구조\n",
    "    - 파일 정보 저장 방식 : INODE\n",
    "    - 권한 부여 방식 : 사용자/그룹 접근\n",
    "    - 파일 확장자 : 메타데이터 "
   ]
  },
  {
   "attachments": {},
   "cell_type": "markdown",
   "metadata": {},
   "source": [
    "- 파일 시스템의 발전 방향성 \n",
    "    - 리눅스 : 유연성 / 확장성 강조"
   ]
  },
  {
   "attachments": {},
   "cell_type": "markdown",
   "metadata": {},
   "source": [
    "- 주요 특징 5개 \n",
    "    - 대형 파일 시스템 \n",
    "        - EXT4 기준 최대 1엑사 바이트, 16테라 바이트 파일 지원 등 \n",
    "    - 저널링\n",
    "        - EXT3 이후 저널링 데이터 백업 체계 도입 \n",
    "    - 지연 할당\n",
    "        - 디스크 쓰기 직전까지 블록 할당 지연, 디스크 이동 최소화\n",
    "    - 블록 매핑\n",
    "        - 기존 1블록 엔트리 처리 \n",
    "    - 다중 블록 할당 \n",
    "    "
   ]
  },
  {
   "attachments": {},
   "cell_type": "markdown",
   "metadata": {},
   "source": [
    "- man hier : 리눅스 전체 디렉터리 구조와 의미 \n",
    "    - / : 최상위 \n",
    "    - /bin : 주요 실행 프로그램\n",
    "    - /boot : 부트 로더 \n",
    "    - /dev : 장치 파일\n",
    "    - /etc : 설정 파일 \n",
    "    - /home : 홈 디렉터리 \n",
    "    - /lib : 공유 라이브러리 \n",
    "    - /media : 외부 저장소\n",
    "    - /mnt : 임시 파일시스템\n",
    "    - /root : 관리자 홈 "
   ]
  },
  {
   "attachments": {},
   "cell_type": "markdown",
   "metadata": {},
   "source": [
    "- which 명령어 : 명령어들의 경로를 확인할 때 사용"
   ]
  },
  {
   "attachments": {},
   "cell_type": "markdown",
   "metadata": {},
   "source": [
    "- su 명령어 : 사용자 전환시 사용되는 명령어 "
   ]
  },
  {
   "attachments": {},
   "cell_type": "markdown",
   "metadata": {},
   "source": [
    "- 리눅스 파일의 종류 구분 \n",
    "    - \\- : 일반\n",
    "    - d : 디렉터리\n",
    "    - i : 심볼릭\n",
    "    - b : 블록 장치 \n",
    "    - c : 문자형\n",
    "    - p : 파이프\n",
    "    - s : 소켓 \n",
    "    - l : 링크"
   ]
  },
  {
   "attachments": {},
   "cell_type": "markdown",
   "metadata": {},
   "source": [
    "- du -h '' : 용량 확인 "
   ]
  },
  {
   "attachments": {},
   "cell_type": "markdown",
   "metadata": {},
   "source": [
    "- touch : 단순하게 빈 파일을 만들 때 사용되는 명령어 \n",
    "- echo \n",
    "    - C언어의 printf와 같이 문자열 출력용으로 사용됨\n",
    "    - \\>(리다이렉션)과 함께 사용하여 파일을 만들 때에도 사용\n",
    "- cat\n",
    "    - 정보를 확인할 때 사용하는 명령어 \n",
    "    - \\>(리다이렉션)과 함께 사용하여 파일 생성 가능"
   ]
  },
  {
   "attachments": {},
   "cell_type": "markdown",
   "metadata": {},
   "source": [
    "- mv A B : A를 B로 변경할 때 사용, 기본적으로 이동을 뜻하지만 파일명 변경도 지원\n",
    "- rename : 설치 필요, mv와 같이 파일명 변경시 사용됨"
   ]
  },
  {
   "attachments": {},
   "cell_type": "markdown",
   "metadata": {},
   "source": [
    "- mkdir : 디렉터리 생성 명령어"
   ]
  },
  {
   "attachments": {},
   "cell_type": "markdown",
   "metadata": {},
   "source": [
    "- cp : 기본적인 복사 명령어 "
   ]
  },
  {
   "attachments": {},
   "cell_type": "markdown",
   "metadata": {},
   "source": [
    "### 하드/심볼릭 링크 \n",
    "- cp로 단순하게 복사하면 파일의 용량이 두 배가 되는 것 \n",
    "- 단축 링크를 사용하면 효율적 \n",
    "- INODE 정보를 이용"
   ]
  },
  {
   "attachments": {},
   "cell_type": "markdown",
   "metadata": {},
   "source": [
    "- stat : 링크 상세 정보 명령어"
   ]
  },
  {
   "attachments": {},
   "cell_type": "markdown",
   "metadata": {},
   "source": [
    "- ln : 하드 링크 파일 생성 명령어\n",
    "    - 원본 고유 번호와 다른 INODE 번호 사용 \n",
    "    - 디렉터리와 파일 모두 지원"
   ]
  },
  {
   "attachments": {},
   "cell_type": "markdown",
   "metadata": {},
   "source": [
    "- ln -s A B\n",
    "    - 심볼링 링크 생성\n",
    "    - 원본 파일이 지워지면 사용 불가능"
   ]
  },
  {
   "attachments": {},
   "cell_type": "markdown",
   "metadata": {},
   "source": [
    "- rm : 파일 삭제 명령어"
   ]
  },
  {
   "attachments": {},
   "cell_type": "markdown",
   "metadata": {},
   "source": [
    "- find : 파일 검색 명령어 \n",
    "    - find 탐색위치 -name 이름형식 -type 파일형식\n",
    "    - name, type, mtime, ctime, atime, delete 등 옵션 제공"
   ]
  },
  {
   "attachments": {},
   "cell_type": "markdown",
   "metadata": {},
   "source": [
    "- grep : 파일 내 특정 내용을 검색할 떄 사용"
   ]
  },
  {
   "attachments": {},
   "cell_type": "markdown",
   "metadata": {},
   "source": [
    "- adduser : 사용자 추가 \n",
    "    - 관리자 권한 필요 "
   ]
  },
  {
   "attachments": {},
   "cell_type": "markdown",
   "metadata": {},
   "source": [
    "- deluser -rf '' : 사용자 계정 삭제"
   ]
  },
  {
   "attachments": {},
   "cell_type": "markdown",
   "metadata": {},
   "source": [
    "- usermode\n",
    "    - \\-d : 홈 디렉터리 변경\n",
    "    - \\-L or \\-U : 잠금 또는 해제\n",
    "    - \\-g : 그룹 변경"
   ]
  },
  {
   "cell_type": "code",
   "execution_count": null,
   "metadata": {
    "vscode": {
     "languageId": "plaintext"
    }
   },
   "outputs": [],
   "source": []
  },
  {
   "attachments": {},
   "cell_type": "markdown",
   "metadata": {},
   "source": [
    "- change : 계정 정보 변경"
   ]
  },
  {
   "cell_type": "markdown",
   "metadata": {},
   "source": []
  }
 ],
 "metadata": {
  "language_info": {
   "name": "python"
  },
  "orig_nbformat": 4
 },
 "nbformat": 4,
 "nbformat_minor": 2
}
