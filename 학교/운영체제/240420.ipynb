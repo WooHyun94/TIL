{
 "cells": [
  {
   "attachments": {},
   "cell_type": "markdown",
   "metadata": {},
   "source": [
    "## 리눅스의 파일 시스템 \n",
    "- EXT4\n",
    "    - 일반 파일, 디렉터리, 장치 등 모두 파일로 관리\n",
    "    - 계층적 디렉터리 : 트리 구조\n",
    "    - 파일 정보 저장 방식 : INODE\n",
    "    - 권한 부여 방식 : 사용자/그룹 접근\n",
    "    - 파일 확장자 : 메타데이터 "
   ]
  },
  {
   "attachments": {},
   "cell_type": "markdown",
   "metadata": {},
   "source": [
    "- 파일 시스템의 발전 방향성 \n",
    "    - 리눅스 : 유연성 / 확장성 강조"
   ]
  },
  {
   "attachments": {},
   "cell_type": "markdown",
   "metadata": {},
   "source": [
    "- 주요 특징 5개 \n",
    "    - 대형 파일 시스템 \n",
    "        - EXT4 기준 최대 1엑사 바이트, 16테라 바이트 파일 지원 등 \n",
    "    - 저널링\n",
    "        - EXT3 이후 저널링 데이터 백업 체계 도입 \n",
    "    - 지연 할당\n",
    "        - 디스크 쓰기 직전까지 블록 할당 지연, 디스크 이동 최소화\n",
    "    - 블록 매핑\n",
    "        - 기존 1블록 엔트리 처리 \n",
    "    - 다중 블록 할당 \n",
    "    "
   ]
  },
  {
   "attachments": {},
   "cell_type": "markdown",
   "metadata": {},
   "source": [
    "- man hier : 리눅스 전체 디렉터리 구조와 의미 \n",
    "    - / : 최상위 \n",
    "    - /bin : 주요 실행 프로그램\n",
    "    - /boot : 부트 로더 \n",
    "    - /dev : 장치 파일\n",
    "    - /etc : 설정 파일 \n",
    "    - /home : 홈 디렉터리 \n",
    "    - /lib : 공유 라이브러리 \n",
    "    - /media : 외부 저장소\n",
    "    - /mnt : 임시 파일시스템\n",
    "    - /root : 관리자 홈 "
   ]
  },
  {
   "attachments": {},
   "cell_type": "markdown",
   "metadata": {},
   "source": [
    "- which 명령어 : 명령어들의 경로를 확인할 때 사용"
   ]
  },
  {
   "attachments": {},
   "cell_type": "markdown",
   "metadata": {},
   "source": [
    "- su 명령어 : 사용자 전환시 사용되는 명령어 "
   ]
  },
  {
   "attachments": {},
   "cell_type": "markdown",
   "metadata": {},
   "source": [
    "- 리눅스 파일의 종류 구분 \n",
    "    - \\- : 일반\n",
    "    - d : 디렉터리\n",
    "    - i : 심볼릭\n",
    "    - b : 블록 장치 \n",
    "    - c : 문자형\n",
    "    - p : 파이프\n",
    "    - s : 소켓 \n",
    "    - l : 링크"
   ]
  },
  {
   "attachments": {},
   "cell_type": "markdown",
   "metadata": {},
   "source": [
    "- du -h '' : 용량 확인 "
   ]
  },
  {
   "cell_type": "markdown",
   "metadata": {},
   "source": []
  }
 ],
 "metadata": {
  "language_info": {
   "name": "python"
  },
  "orig_nbformat": 4
 },
 "nbformat": 4,
 "nbformat_minor": 2
}
