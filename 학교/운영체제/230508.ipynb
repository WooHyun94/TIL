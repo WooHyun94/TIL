{
 "cells": [
  {
   "attachments": {},
   "cell_type": "markdown",
   "metadata": {},
   "source": [
    "### init 프로세스(0번 프로세스)\n",
    "- 실행 모드에 따라 런레벨 결정\n",
    "    - 0, 1, 6 기본\n",
    "- Server는 기본 3레벨이다.\n",
    "\n",
    "- ps \\-ef | more \n",
    "    - uid : 사용자, pid : id, ppid : 부모"
   ]
  },
  {
   "attachments": {},
   "cell_type": "markdown",
   "metadata": {},
   "source": [
    "- pstree \\-ah | more\n",
    "    - 트리 구조 확인 \n",
    "    - 최상위 systemd (= init 프로세스)"
   ]
  },
  {
   "attachments": {},
   "cell_type": "markdown",
   "metadata": {},
   "source": [
    "- 부팅 시 자동 실행 = 데몬 프로세스"
   ]
  },
  {
   "attachments": {},
   "cell_type": "markdown",
   "metadata": {},
   "source": []
  }
 ],
 "metadata": {
  "language_info": {
   "name": "python"
  },
  "orig_nbformat": 4
 },
 "nbformat": 4,
 "nbformat_minor": 2
}
