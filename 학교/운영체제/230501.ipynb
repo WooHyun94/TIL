{
 "cells": [
  {
   "attachments": {},
   "cell_type": "markdown",
   "metadata": {},
   "source": [
    "## 기본 서버 설정"
   ]
  },
  {
   "attachments": {},
   "cell_type": "markdown",
   "metadata": {},
   "source": [
    "서버 컨설팅\n",
    "- 기본 서비스 \n",
    "    - 다양한 웹, 메일, 클라우드 등 서버 구축/설계\n",
    "- 일반 점검 리스트\n",
    "    - 서버 설정/최적화, 유지보수, 지원 등\n",
    "- 고급 서비스 \n",
    "    - 서버 안정화, 보안, 로드 벨런싱 등"
   ]
  },
  {
   "attachments": {},
   "cell_type": "markdown",
   "metadata": {},
   "source": [
    "- 비교적 수요가 많은 서비스\n",
    "    - 노후화된 서버 이전 및 최신 업데이트\n",
    "    - 해킹 및 보안 취약점 점검"
   ]
  },
  {
   "attachments": {},
   "cell_type": "markdown",
   "metadata": {},
   "source": [
    "### 일반 계정 sudo 권한 추가하기"
   ]
  },
  {
   "attachments": {},
   "cell_type": "markdown",
   "metadata": {},
   "source": [
    "- sudo vi /etc/sudoers"
   ]
  },
  {
   "attachments": {},
   "cell_type": "markdown",
   "metadata": {},
   "source": [
    "- 아이디 ALL=(ALL:ALL) ALL"
   ]
  },
  {
   "attachments": {},
   "cell_type": "markdown",
   "metadata": {},
   "source": [
    "### 원격 서버 - 저장소 주소 변경"
   ]
  },
  {
   "attachments": {},
   "cell_type": "markdown",
   "metadata": {},
   "source": [
    "- /etc/apt/sources.list \n",
    "- sudo vi /etc/apt/sources.list\n",
    "- :%s /kr.archive.ubuntu.com/mirror.kakao.com"
   ]
  },
  {
   "attachments": {},
   "cell_type": "markdown",
   "metadata": {},
   "source": [
    "### root 접속 활성화\n",
    "- 실제 물리적 서버 위치는 접근 X\n",
    "- 일반적으로 모니터링 PC 분리"
   ]
  },
  {
   "attachments": {},
   "cell_type": "markdown",
   "metadata": {},
   "source": [
    "- sudo apt-get openssh-server net-tools\n",
    "- systemctl status ssh"
   ]
  },
  {
   "cell_type": "markdown",
   "metadata": {},
   "source": []
  }
 ],
 "metadata": {
  "language_info": {
   "name": "python"
  },
  "orig_nbformat": 4
 },
 "nbformat": 4,
 "nbformat_minor": 2
}
