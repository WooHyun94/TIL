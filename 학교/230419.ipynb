{
 "cells": [
  {
   "attachments": {},
   "cell_type": "markdown",
   "metadata": {},
   "source": [
    "## 포트폴리오 특강"
   ]
  },
  {
   "attachments": {},
   "cell_type": "markdown",
   "metadata": {},
   "source": [
    "토익 : 830, 학점 : 3.7 -> 54.9% 이상 \n",
    "\n",
    "영어 말하기 30% 이상 \n",
    "\n",
    "10명 중 4명 인턴쉽 경험 \n",
    "\n",
    "자격증 1개 이상 보유 75% 이상 \n",
    "\n",
    "공모전 수상 36% 이상 \n",
    "\n",
    "이공계는 전공의 비중이 높은 편 "
   ]
  },
  {
   "attachments": {},
   "cell_type": "markdown",
   "metadata": {},
   "source": [
    "어떤 능력을 가지고 있는지 증빙하는 것이 중요"
   ]
  },
  {
   "attachments": {},
   "cell_type": "markdown",
   "metadata": {},
   "source": [
    "### 필요성 : 채용 평가 시 전공에 대한 충실성, 인턴 경험, 아르바이트(전공 관련) 경험 등을 보게 됨"
   ]
  },
  {
   "attachments": {},
   "cell_type": "markdown",
   "metadata": {},
   "source": [
    "무엇을 알고 무엇을 할 수 있는지 (실제 경험)\n",
    "\n"
   ]
  },
  {
   "attachments": {},
   "cell_type": "markdown",
   "metadata": {},
   "source": [
    "자기 성찰 중요 \n",
    "\n",
    "진학 / 취업 목표로 하는 곳을 구체적으로 선정 \n",
    "\n",
    "나의 비전과 집단의 비전을 맞추는 작업 "
   ]
  },
  {
   "attachments": {},
   "cell_type": "markdown",
   "metadata": {},
   "source": [
    "수강 과목 (전공 / 교양), 학점, 배운점 등 정리 \n",
    "\n",
    "실습했던 내용, 시기, 달성 여부, 배운점 등 정리 "
   ]
  },
  {
   "attachments": {},
   "cell_type": "markdown",
   "metadata": {},
   "source": [
    "계획적으로 무언가 했다는 것을 보여줄 것"
   ]
  },
  {
   "attachments": {},
   "cell_type": "markdown",
   "metadata": {},
   "source": [
    "과목별, 학기별, 주제별 등 폴더 정리 "
   ]
  },
  {
   "attachments": {},
   "cell_type": "markdown",
   "metadata": {},
   "source": [
    "나마의 목적과 의미 \n",
    "\n",
    "목표 인지 명확 \n",
    "\n",
    "과거부터 이어져 온 나의 방향성 "
   ]
  },
  {
   "attachments": {},
   "cell_type": "markdown",
   "metadata": {},
   "source": [
    "한 눈에 보기 쉽게 표지 및 목차 작성"
   ]
  },
  {
   "attachments": {},
   "cell_type": "markdown",
   "metadata": {},
   "source": [
    "증빙 자료를 통해서 객관적인 자기 평가가 필요 "
   ]
  },
  {
   "attachments": {},
   "cell_type": "markdown",
   "metadata": {},
   "source": [
    "간략한 준비 : 설계 과목, 프로젝트 과목의 결과물을 위주로 정리 "
   ]
  },
  {
   "attachments": {},
   "cell_type": "markdown",
   "metadata": {},
   "source": [
    "양은 중요 X "
   ]
  },
  {
   "attachments": {},
   "cell_type": "markdown",
   "metadata": {},
   "source": [
    "어떤 것을 알고, 할 수 있는지 요약하여 보여주는 것이 중요"
   ]
  },
  {
   "cell_type": "markdown",
   "metadata": {},
   "source": []
  }
 ],
 "metadata": {
  "language_info": {
   "name": "python"
  },
  "orig_nbformat": 4
 },
 "nbformat": 4,
 "nbformat_minor": 2
}
