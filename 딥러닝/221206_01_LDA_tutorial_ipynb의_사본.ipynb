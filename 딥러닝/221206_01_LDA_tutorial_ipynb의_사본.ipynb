{
  "nbformat": 4,
  "nbformat_minor": 0,
  "metadata": {
    "kernelspec": {
      "display_name": "Python 3",
      "language": "python",
      "name": "python3"
    },
    "language_info": {
      "codemirror_mode": {
        "name": "ipython",
        "version": 3
      },
      "file_extension": ".py",
      "mimetype": "text/x-python",
      "name": "python",
      "nbconvert_exporter": "python",
      "pygments_lexer": "ipython3",
      "version": "3.6.12"
    },
    "latex_metadata": {
      "author": "이기황",
      "coursetitle": "텍스트분석기법",
      "courseyear": "2018",
      "date": "2018.04.18",
      "logofile": "figs/ewhauniv-logo.png",
      "logoraise": "-.2",
      "logoscale": ".4",
      "title": "단어 임베딩과 토픽 모델링"
    },
    "colab": {
      "provenance": []
    },
    "accelerator": "GPU",
    "gpuClass": "standard",
    "widgets": {
      "application/vnd.jupyter.widget-state+json": {
        "0d2e736fe79c4603a544f2437c799a39": {
          "model_module": "@jupyter-widgets/controls",
          "model_name": "HBoxModel",
          "model_module_version": "1.5.0",
          "state": {
            "_dom_classes": [],
            "_model_module": "@jupyter-widgets/controls",
            "_model_module_version": "1.5.0",
            "_model_name": "HBoxModel",
            "_view_count": null,
            "_view_module": "@jupyter-widgets/controls",
            "_view_module_version": "1.5.0",
            "_view_name": "HBoxView",
            "box_style": "",
            "children": [
              "IPY_MODEL_779991879e16477697b9845aa758670d",
              "IPY_MODEL_d2738f12109b4ca991cae7d99da1f3ee",
              "IPY_MODEL_fd7dd4aaa5b04ab489dc476601f925a0"
            ],
            "layout": "IPY_MODEL_6323b12f7fa64294a80f7392c2b587ec"
          }
        },
        "779991879e16477697b9845aa758670d": {
          "model_module": "@jupyter-widgets/controls",
          "model_name": "HTMLModel",
          "model_module_version": "1.5.0",
          "state": {
            "_dom_classes": [],
            "_model_module": "@jupyter-widgets/controls",
            "_model_module_version": "1.5.0",
            "_model_name": "HTMLModel",
            "_view_count": null,
            "_view_module": "@jupyter-widgets/controls",
            "_view_module_version": "1.5.0",
            "_view_name": "HTMLView",
            "description": "",
            "description_tooltip": null,
            "layout": "IPY_MODEL_00d14cde136e45219957de9073c75ec7",
            "placeholder": "​",
            "style": "IPY_MODEL_2e7969d9906e4eb39ecb98114b6f1b42",
            "value": "100%"
          }
        },
        "d2738f12109b4ca991cae7d99da1f3ee": {
          "model_module": "@jupyter-widgets/controls",
          "model_name": "FloatProgressModel",
          "model_module_version": "1.5.0",
          "state": {
            "_dom_classes": [],
            "_model_module": "@jupyter-widgets/controls",
            "_model_module_version": "1.5.0",
            "_model_name": "FloatProgressModel",
            "_view_count": null,
            "_view_module": "@jupyter-widgets/controls",
            "_view_module_version": "1.5.0",
            "_view_name": "ProgressView",
            "bar_style": "success",
            "description": "",
            "description_tooltip": null,
            "layout": "IPY_MODEL_e31e82c64e1143e59882063745af8201",
            "max": 5,
            "min": 0,
            "orientation": "horizontal",
            "style": "IPY_MODEL_d97b1de49e8e42b0b4dbc26c534779bf",
            "value": 5
          }
        },
        "fd7dd4aaa5b04ab489dc476601f925a0": {
          "model_module": "@jupyter-widgets/controls",
          "model_name": "HTMLModel",
          "model_module_version": "1.5.0",
          "state": {
            "_dom_classes": [],
            "_model_module": "@jupyter-widgets/controls",
            "_model_module_version": "1.5.0",
            "_model_name": "HTMLModel",
            "_view_count": null,
            "_view_module": "@jupyter-widgets/controls",
            "_view_module_version": "1.5.0",
            "_view_name": "HTMLView",
            "description": "",
            "description_tooltip": null,
            "layout": "IPY_MODEL_ef85db99cb4b4de59760673f56802d34",
            "placeholder": "​",
            "style": "IPY_MODEL_a5485728055e4146a1640618303cd1a7",
            "value": " 5/5 [01:30&lt;00:00, 18.86s/it]"
          }
        },
        "6323b12f7fa64294a80f7392c2b587ec": {
          "model_module": "@jupyter-widgets/base",
          "model_name": "LayoutModel",
          "model_module_version": "1.2.0",
          "state": {
            "_model_module": "@jupyter-widgets/base",
            "_model_module_version": "1.2.0",
            "_model_name": "LayoutModel",
            "_view_count": null,
            "_view_module": "@jupyter-widgets/base",
            "_view_module_version": "1.2.0",
            "_view_name": "LayoutView",
            "align_content": null,
            "align_items": null,
            "align_self": null,
            "border": null,
            "bottom": null,
            "display": null,
            "flex": null,
            "flex_flow": null,
            "grid_area": null,
            "grid_auto_columns": null,
            "grid_auto_flow": null,
            "grid_auto_rows": null,
            "grid_column": null,
            "grid_gap": null,
            "grid_row": null,
            "grid_template_areas": null,
            "grid_template_columns": null,
            "grid_template_rows": null,
            "height": null,
            "justify_content": null,
            "justify_items": null,
            "left": null,
            "margin": null,
            "max_height": null,
            "max_width": null,
            "min_height": null,
            "min_width": null,
            "object_fit": null,
            "object_position": null,
            "order": null,
            "overflow": null,
            "overflow_x": null,
            "overflow_y": null,
            "padding": null,
            "right": null,
            "top": null,
            "visibility": null,
            "width": null
          }
        },
        "00d14cde136e45219957de9073c75ec7": {
          "model_module": "@jupyter-widgets/base",
          "model_name": "LayoutModel",
          "model_module_version": "1.2.0",
          "state": {
            "_model_module": "@jupyter-widgets/base",
            "_model_module_version": "1.2.0",
            "_model_name": "LayoutModel",
            "_view_count": null,
            "_view_module": "@jupyter-widgets/base",
            "_view_module_version": "1.2.0",
            "_view_name": "LayoutView",
            "align_content": null,
            "align_items": null,
            "align_self": null,
            "border": null,
            "bottom": null,
            "display": null,
            "flex": null,
            "flex_flow": null,
            "grid_area": null,
            "grid_auto_columns": null,
            "grid_auto_flow": null,
            "grid_auto_rows": null,
            "grid_column": null,
            "grid_gap": null,
            "grid_row": null,
            "grid_template_areas": null,
            "grid_template_columns": null,
            "grid_template_rows": null,
            "height": null,
            "justify_content": null,
            "justify_items": null,
            "left": null,
            "margin": null,
            "max_height": null,
            "max_width": null,
            "min_height": null,
            "min_width": null,
            "object_fit": null,
            "object_position": null,
            "order": null,
            "overflow": null,
            "overflow_x": null,
            "overflow_y": null,
            "padding": null,
            "right": null,
            "top": null,
            "visibility": null,
            "width": null
          }
        },
        "2e7969d9906e4eb39ecb98114b6f1b42": {
          "model_module": "@jupyter-widgets/controls",
          "model_name": "DescriptionStyleModel",
          "model_module_version": "1.5.0",
          "state": {
            "_model_module": "@jupyter-widgets/controls",
            "_model_module_version": "1.5.0",
            "_model_name": "DescriptionStyleModel",
            "_view_count": null,
            "_view_module": "@jupyter-widgets/base",
            "_view_module_version": "1.2.0",
            "_view_name": "StyleView",
            "description_width": ""
          }
        },
        "e31e82c64e1143e59882063745af8201": {
          "model_module": "@jupyter-widgets/base",
          "model_name": "LayoutModel",
          "model_module_version": "1.2.0",
          "state": {
            "_model_module": "@jupyter-widgets/base",
            "_model_module_version": "1.2.0",
            "_model_name": "LayoutModel",
            "_view_count": null,
            "_view_module": "@jupyter-widgets/base",
            "_view_module_version": "1.2.0",
            "_view_name": "LayoutView",
            "align_content": null,
            "align_items": null,
            "align_self": null,
            "border": null,
            "bottom": null,
            "display": null,
            "flex": null,
            "flex_flow": null,
            "grid_area": null,
            "grid_auto_columns": null,
            "grid_auto_flow": null,
            "grid_auto_rows": null,
            "grid_column": null,
            "grid_gap": null,
            "grid_row": null,
            "grid_template_areas": null,
            "grid_template_columns": null,
            "grid_template_rows": null,
            "height": null,
            "justify_content": null,
            "justify_items": null,
            "left": null,
            "margin": null,
            "max_height": null,
            "max_width": null,
            "min_height": null,
            "min_width": null,
            "object_fit": null,
            "object_position": null,
            "order": null,
            "overflow": null,
            "overflow_x": null,
            "overflow_y": null,
            "padding": null,
            "right": null,
            "top": null,
            "visibility": null,
            "width": null
          }
        },
        "d97b1de49e8e42b0b4dbc26c534779bf": {
          "model_module": "@jupyter-widgets/controls",
          "model_name": "ProgressStyleModel",
          "model_module_version": "1.5.0",
          "state": {
            "_model_module": "@jupyter-widgets/controls",
            "_model_module_version": "1.5.0",
            "_model_name": "ProgressStyleModel",
            "_view_count": null,
            "_view_module": "@jupyter-widgets/base",
            "_view_module_version": "1.2.0",
            "_view_name": "StyleView",
            "bar_color": null,
            "description_width": ""
          }
        },
        "ef85db99cb4b4de59760673f56802d34": {
          "model_module": "@jupyter-widgets/base",
          "model_name": "LayoutModel",
          "model_module_version": "1.2.0",
          "state": {
            "_model_module": "@jupyter-widgets/base",
            "_model_module_version": "1.2.0",
            "_model_name": "LayoutModel",
            "_view_count": null,
            "_view_module": "@jupyter-widgets/base",
            "_view_module_version": "1.2.0",
            "_view_name": "LayoutView",
            "align_content": null,
            "align_items": null,
            "align_self": null,
            "border": null,
            "bottom": null,
            "display": null,
            "flex": null,
            "flex_flow": null,
            "grid_area": null,
            "grid_auto_columns": null,
            "grid_auto_flow": null,
            "grid_auto_rows": null,
            "grid_column": null,
            "grid_gap": null,
            "grid_row": null,
            "grid_template_areas": null,
            "grid_template_columns": null,
            "grid_template_rows": null,
            "height": null,
            "justify_content": null,
            "justify_items": null,
            "left": null,
            "margin": null,
            "max_height": null,
            "max_width": null,
            "min_height": null,
            "min_width": null,
            "object_fit": null,
            "object_position": null,
            "order": null,
            "overflow": null,
            "overflow_x": null,
            "overflow_y": null,
            "padding": null,
            "right": null,
            "top": null,
            "visibility": null,
            "width": null
          }
        },
        "a5485728055e4146a1640618303cd1a7": {
          "model_module": "@jupyter-widgets/controls",
          "model_name": "DescriptionStyleModel",
          "model_module_version": "1.5.0",
          "state": {
            "_model_module": "@jupyter-widgets/controls",
            "_model_module_version": "1.5.0",
            "_model_name": "DescriptionStyleModel",
            "_view_count": null,
            "_view_module": "@jupyter-widgets/base",
            "_view_module_version": "1.2.0",
            "_view_name": "StyleView",
            "description_width": ""
          }
        }
      }
    }
  },
  "cells": [
    {
      "cell_type": "markdown",
      "metadata": {
        "id": "TuOCC1wcBFfY"
      },
      "source": [
        "# 토픽모델링을 통한 키워드 분석"
      ]
    },
    {
      "cell_type": "code",
      "metadata": {
        "id": "IlTxfBOABQfq",
        "colab": {
          "base_uri": "https://localhost:8080/"
        },
        "outputId": "cd710d75-4c9a-41cb-e6dc-688b82bf2792"
      },
      "source": [
        "from google.colab import drive\n",
        "drive.mount('/content/drive')"
      ],
      "execution_count": 1,
      "outputs": [
        {
          "output_type": "stream",
          "name": "stdout",
          "text": [
            "Drive already mounted at /content/drive; to attempt to forcibly remount, call drive.mount(\"/content/drive\", force_remount=True).\n"
          ]
        }
      ]
    },
    {
      "cell_type": "markdown",
      "metadata": {
        "id": "adQquisFBFfo"
      },
      "source": [
        "## 1. 사용할 라이브러리/데이터 불러오기 "
      ]
    },
    {
      "cell_type": "code",
      "source": [
        "!pip install konlpy pecab gensim\n",
        "!curl -s https://raw.githubusercontent.com/konlpy/konlpy/master/scripts/mecab.sh | bash -x"
      ],
      "metadata": {
        "id": "WqOyXPWztph2",
        "colab": {
          "base_uri": "https://localhost:8080/"
        },
        "outputId": "252b9557-75b4-48b5-cdfa-15db1a89907a"
      },
      "execution_count": 2,
      "outputs": [
        {
          "output_type": "stream",
          "name": "stdout",
          "text": [
            "Looking in indexes: https://pypi.org/simple, https://us-python.pkg.dev/colab-wheels/public/simple/\n",
            "Requirement already satisfied: konlpy in /usr/local/lib/python3.8/dist-packages (0.6.0)\n",
            "Requirement already satisfied: pecab in /usr/local/lib/python3.8/dist-packages (1.0.2)\n",
            "Requirement already satisfied: gensim in /usr/local/lib/python3.8/dist-packages (3.6.0)\n",
            "Requirement already satisfied: numpy>=1.6 in /usr/local/lib/python3.8/dist-packages (from konlpy) (1.21.6)\n",
            "Requirement already satisfied: lxml>=4.1.0 in /usr/local/lib/python3.8/dist-packages (from konlpy) (4.9.1)\n",
            "Requirement already satisfied: JPype1>=0.7.0 in /usr/local/lib/python3.8/dist-packages (from konlpy) (1.4.1)\n",
            "Requirement already satisfied: packaging in /usr/local/lib/python3.8/dist-packages (from JPype1>=0.7.0->konlpy) (21.3)\n",
            "Requirement already satisfied: pyarrow in /usr/local/lib/python3.8/dist-packages (from pecab) (9.0.0)\n",
            "Requirement already satisfied: regex in /usr/local/lib/python3.8/dist-packages (from pecab) (2022.6.2)\n",
            "Requirement already satisfied: emoji==1.2.0 in /usr/local/lib/python3.8/dist-packages (from pecab) (1.2.0)\n",
            "Requirement already satisfied: scipy>=0.18.1 in /usr/local/lib/python3.8/dist-packages (from gensim) (1.7.3)\n",
            "Requirement already satisfied: smart-open>=1.2.1 in /usr/local/lib/python3.8/dist-packages (from gensim) (5.2.1)\n",
            "Requirement already satisfied: six>=1.5.0 in /usr/local/lib/python3.8/dist-packages (from gensim) (1.15.0)\n",
            "Requirement already satisfied: pyparsing!=3.0.5,>=2.0.2 in /usr/local/lib/python3.8/dist-packages (from packaging->JPype1>=0.7.0->konlpy) (3.0.9)\n",
            "+ mecab_dicdir=/usr/local/lib/mecab/dic/mecab-ko-dic\n",
            "+ set -e\n",
            "++ uname\n",
            "+ os=Linux\n",
            "+ [[ ! Linux == \\L\\i\\n\\u\\x ]]\n",
            "+ hash sudo\n",
            "+ sudo=sudo\n",
            "+ python=python3\n",
            "+ hash pyenv\n",
            "+ at_user_site=\n",
            "++ check_python_site_location_is_writable\n",
            "++ python3 -\n",
            "+ [[ 1 == \\0 ]]\n",
            "+ hash automake\n",
            "+ hash mecab\n",
            "+ echo 'mecab-ko is already installed'\n",
            "mecab-ko is already installed\n",
            "+ [[ -d /usr/local/lib/mecab/dic/mecab-ko-dic ]]\n",
            "+ echo 'mecab-ko-dic is already installed'\n",
            "mecab-ko-dic is already installed\n",
            "++ python3 -c 'import pkgutil; print(1 if pkgutil.find_loader(\"MeCab\") else 0)'\n",
            "+ [[ 1 == \\1 ]]\n",
            "+ echo 'mecab-python is already installed'\n",
            "mecab-python is already installed\n",
            "+ echo Done.\n",
            "Done.\n"
          ]
        }
      ]
    },
    {
      "cell_type": "code",
      "metadata": {
        "id": "icuWN--BBFfv",
        "colab": {
          "base_uri": "https://localhost:8080/"
        },
        "outputId": "5fb464f2-b080-4761-af64-86da4739edd4"
      },
      "source": [
        "import sys\n",
        "from sklearn.feature_extraction.text import CountVectorizer\n",
        "from tqdm.notebook import tqdm  # progress bar\n",
        "from konlpy.tag import Mecab; mecab = Mecab()\n",
        "from konlpy.tag import Komoran; komoran = Komoran()\n",
        "\n",
        "import numpy as np\n",
        "import pandas as pd\n",
        "import string\n",
        "import re\n",
        "import warnings\n",
        "from gensim import corpora\n",
        "from gensim import models\n",
        "import matplotlib.pyplot as plt\n",
        "import platform\n",
        "from matplotlib import font_manager, rc\n",
        "%matplotlib inline\n",
        "\n",
        "## 운영체제별 글꼴 세팅\n",
        "\n",
        "# 그래프를 이쁘게 그리기 위한 코드입니다. 한글 글꼴을 추가합니다.\n",
        "\n",
        "%matplotlib inline  \n",
        "\n",
        "import matplotlib as mpl  # 기본 설정 만지는 용도\n",
        "import matplotlib.pyplot as plt  # 그래프 그리는 용도\n",
        "import matplotlib.font_manager as fm  # 폰트 관련 용도\n",
        "import seaborn as sns\n",
        "mpl.rcParams['axes.unicode_minus'] = False\n",
        "\n",
        "sys_font=fm.findSystemFonts()\n",
        "print(f\"sys_font number: {len(sys_font)}\")\n",
        "print(sys_font)\n",
        "\n",
        "nanum_font = [f for f in sys_font if 'Nanum' in f]\n",
        "print(f\"nanum_font number: {len(nanum_font)}\")\n",
        "\n",
        "!apt-get update -qq\n",
        "!apt-get install fonts-nanum* -qq\n",
        "\n",
        "path = '/usr/share/fonts/truetype/nanum/NanumBarunGothicBold.ttf'  # 설치된 나눔글꼴중 원하는 녀석의 전체 경로를 가져옵니다.\n",
        "font_name = fm.FontProperties(fname=path, size=10).get_name()\n",
        "print(font_name)\n",
        "plt.rc('font', family=font_name)\n",
        "\n",
        "fm._rebuild()"
      ],
      "execution_count": 3,
      "outputs": [
        {
          "output_type": "stream",
          "name": "stdout",
          "text": [
            "sys_font number: 48\n",
            "['/usr/share/fonts/truetype/liberation/LiberationMono-Regular.ttf', '/usr/share/fonts/truetype/nanum/NanumGothicLight.ttf', '/usr/share/fonts/truetype/nanum/NanumMyeongjoEco.ttf', '/usr/share/fonts/truetype/nanum/NanumBrush.ttf', '/usr/share/fonts/truetype/nanum/NanumSquareEB.ttf', '/usr/share/fonts/truetype/nanum/NanumMyeongjoBold.ttf', '/usr/share/fonts/truetype/nanum/NanumGothicCoding-Bold.ttf', '/usr/share/fonts/truetype/nanum/NanumMyeongjo.ttf', '/usr/share/fonts/truetype/nanum/NanumSquareRoundL.ttf', '/usr/share/fonts/truetype/liberation/LiberationSerif-Bold.ttf', '/usr/share/fonts/truetype/liberation/LiberationSerif-Italic.ttf', '/usr/share/fonts/truetype/nanum/NanumBarunpenR.ttf', '/usr/share/fonts/truetype/nanum/NanumMyeongjoExtraBold.ttf', '/usr/share/fonts/truetype/liberation/LiberationMono-BoldItalic.ttf', '/usr/share/fonts/truetype/nanum/NanumBarunGothicUltraLight.ttf', '/usr/share/fonts/truetype/liberation/LiberationSansNarrow-BoldItalic.ttf', '/usr/share/fonts/truetype/nanum/NanumGothicEcoBold.ttf', '/usr/share/fonts/truetype/nanum/NanumPen.ttf', '/usr/share/fonts/truetype/liberation/LiberationMono-Italic.ttf', '/usr/share/fonts/truetype/humor-sans/Humor-Sans.ttf', '/usr/share/fonts/truetype/liberation/LiberationSerif-Regular.ttf', '/usr/share/fonts/truetype/liberation/LiberationSans-Bold.ttf', '/usr/share/fonts/truetype/liberation/LiberationSans-Regular.ttf', '/usr/share/fonts/truetype/liberation/LiberationSans-BoldItalic.ttf', '/usr/share/fonts/truetype/liberation/LiberationSans-Italic.ttf', '/usr/share/fonts/truetype/liberation/LiberationSansNarrow-Bold.ttf', '/usr/share/fonts/truetype/liberation/LiberationSerif-BoldItalic.ttf', '/usr/share/fonts/truetype/nanum/NanumBarunGothicBold.ttf', '/usr/share/fonts/truetype/nanum/NanumGothicEco.ttf', '/usr/share/fonts/truetype/nanum/NanumGothicExtraBold.ttf', '/usr/share/fonts/truetype/nanum/NanumSquareRoundR.ttf', '/usr/share/fonts/truetype/nanum/NanumSquareB.ttf', '/usr/share/fonts/truetype/nanum/NanumGothicEcoExtraBold.ttf', '/usr/share/fonts/truetype/nanum/NanumGothicBold.ttf', '/usr/share/fonts/truetype/nanum/NanumGothic.ttf', '/usr/share/fonts/truetype/nanum/NanumSquareR.ttf', '/usr/share/fonts/truetype/nanum/NanumGothicCoding.ttf', '/usr/share/fonts/truetype/nanum/NanumBarunpenB.ttf', '/usr/share/fonts/truetype/nanum/NanumSquareRoundEB.ttf', '/usr/share/fonts/truetype/nanum/NanumSquareRoundB.ttf', '/usr/share/fonts/truetype/nanum/NanumMyeongjoEcoExtraBold.ttf', '/usr/share/fonts/truetype/liberation/LiberationSansNarrow-Italic.ttf', '/usr/share/fonts/truetype/liberation/LiberationMono-Bold.ttf', '/usr/share/fonts/truetype/nanum/NanumBarunGothic.ttf', '/usr/share/fonts/truetype/nanum/NanumSquareL.ttf', '/usr/share/fonts/truetype/liberation/LiberationSansNarrow-Regular.ttf', '/usr/share/fonts/truetype/nanum/NanumMyeongjoEcoBold.ttf', '/usr/share/fonts/truetype/nanum/NanumBarunGothicLight.ttf']\n",
            "nanum_font number: 31\n",
            "NanumBarunGothic\n"
          ]
        }
      ]
    },
    {
      "cell_type": "code",
      "metadata": {
        "id": "brEQeLSiBFfw"
      },
      "source": [
        "# Colab Notebooks\n",
        "\n",
        "## 크롤링한 파일이 바뀌면, 경로도 수정되어야 합니다.\n",
        "data_path = '/content/drive/MyDrive/Colab Notebooks/data/topic/갤럭시_(2022.01.01~2022.12.06).xlsx'"
      ],
      "execution_count": 4,
      "outputs": []
    },
    {
      "cell_type": "code",
      "metadata": {
        "id": "OwY3qvYXBFfx",
        "colab": {
          "base_uri": "https://localhost:8080/"
        },
        "outputId": "833ce178-2f4d-4a70-b064-c67a02eab9ff"
      },
      "source": [
        "import pandas as pd\n",
        "\n",
        "documents = pd.read_excel(data_path)['contents'].dropna() # 빈 문서 제거.\n",
        "documents"
      ],
      "execution_count": 6,
      "outputs": [
        {
          "output_type": "execute_result",
          "data": {
            "text/plain": [
              "0       언론인 출신 백수현, 박승희 부사장도 나란히 승진    ▲ 삼성전자 이영희 사장\\t...\n",
              "1       이영희 DX부문 글로벌마케팅실장 사장  삼성전자가 5일 네트워크와 반도체 사업의 성...\n",
              "2       삼성 새 역사 쓴 이영희 사장마케팅 전문가로 2007년 영입유니레버·SC존슨·로레알...\n",
              "3       이영희 삼성전자 DX부문 글로벌마케팅센터장. 연합뉴스삼성에서 오너가 출신이 아닌 첫...\n",
              "4       비오너가 출신 이영희 삼성전자 사장…2012년 부사장 승진 이후 10년 만2007년...\n",
              "                              ...                        \n",
              "2717    이통3사 '갤S22' 공시지원금 5.3만~24만원…전작 대비 절반 수준실구매자는 2...\n",
              "2718    갤럭시 S20·노트10·노트9 15만 원 추가 보상    전국 대형마트 및 통신사 ...\n",
              "2719    [이데일리 전재욱 기자] 온라인 장보기 업체 마켓컬리는 삼성전자 신작 스마트폰 ‘갤...\n",
              "2720    이통3사 '갤S22' 공시지원금 5.3만~24만원…전작 대비 절반 수준실구매자는 2...\n",
              "2721    갤럭시 S20·노트10·노트9 15만 원 추가 보상    전국 대형마트 및 통신사 ...\n",
              "Name: contents, Length: 2722, dtype: object"
            ]
          },
          "metadata": {},
          "execution_count": 6
        }
      ]
    },
    {
      "cell_type": "markdown",
      "metadata": {
        "id": "OTjrMnLeBFfy"
      },
      "source": [
        "## 2. 전처리 함수 정의하기 "
      ]
    },
    {
      "cell_type": "code",
      "metadata": {
        "id": "GLX7qkcaBFfy"
      },
      "source": [
        "def text_cleaning(doc):\n",
        "    # 한국어를 제외한 글자를 제거하는 패턴.\n",
        "    #doc = re.sub(\"[^ㄱ-ㅎㅏ-ㅣ가-힣 ]\", \"\", doc)\n",
        "    \n",
        "    # 특수문자를 제거하는 패턴.\n",
        "    doc = re.sub(\"[\\{\\}\\[\\]\\/?.,;:|\\)*~`!^\\-_+<>@\\#$%&\\\\\\=\\(\\'\\\"]\", \" \", doc)\n",
        "    \n",
        "    # 영문 빼고 모두 제거하는 패턴.\n",
        "    #doc = doc.replace(\"\\n\", \" \")\n",
        "    #doc = re.sub(\"[^A-Za-z ]\", \"\", doc)\n",
        "    \n",
        "    return doc\n",
        "\n",
        "def define_stopwords(path):\n",
        "    \n",
        "    SW = set()\n",
        "    # 불용어를 추가하는 방법 1.\n",
        "    # SW.add(\"있다\")\n",
        "    SW.add(\"있어요\")\n",
        "    \n",
        "    # 불용어를 추가하는 방법 2.\n",
        "    # stopwords-ko.txt에 직접 추가\n",
        "    \n",
        "    with open(path, encoding=\"utf-8\") as f:\n",
        "        for word in f:\n",
        "            SW.add(word.strip())\n",
        "            \n",
        "    return SW\n",
        "\n",
        "def text_tokenizing(doc, tokenizer):\n",
        "    \"\"\"\n",
        "    Input Parameter :\n",
        "    \n",
        "    doc - tokenizing 하는 실제 데이터.\n",
        "    tokenizer - token의 단위.\n",
        "    \"\"\"\n",
        "    # 불용어(SW)에 포함되어 있지 않고, 두 글자 이상인 token(형태소)만 사용하겠다.\n",
        "    \n",
        "    if tokenizer == \"words\":\n",
        "        return [token for token in doc.split() if (token not in SW) and (len(token) >= 2)]\n",
        "    \n",
        "    elif tokenizer == \"nouns\":\n",
        "        return [token for token in mecab.nouns(doc) if (token not in SW) and (len(token) >= 2)] # 주어진 텍스트에서 명사만 뽑아서 리스트로 반환.\n",
        "        \n",
        "    elif tokenizer == \"morphs\":\n",
        "        return [token for token in mecab.morphs(doc) if (token not in SW) and (len(token) >= 2)] # 주어진 텍스트에서 형태소 단위로 잘라서 리스트로 반환."
      ],
      "execution_count": 7,
      "outputs": []
    },
    {
      "cell_type": "code",
      "metadata": {
        "id": "UbaN1xzxBFfz"
      },
      "source": [
        "tokenizer = 'nouns'\n",
        "SW = define_stopwords('/content/drive/MyDrive/Colab Notebooks/data/topic/stopwords-ko.txt')\n",
        "tokenized_documents = [text_tokenizing(text_cleaning(doc), tokenizer=tokenizer) for doc in documents]"
      ],
      "execution_count": 8,
      "outputs": []
    },
    {
      "cell_type": "code",
      "metadata": {
        "id": "4mOJFy_oBFf1",
        "colab": {
          "base_uri": "https://localhost:8080/"
        },
        "outputId": "dae2d004-fde7-4a76-d369-983bc2ba2e84"
      },
      "source": [
        "print(len(tokenized_documents))\n",
        "print(tokenized_documents[0])"
      ],
      "execution_count": 9,
      "outputs": [
        {
          "output_type": "stream",
          "name": "stdout",
          "text": [
            "2722\n",
            "['언론인', '출신', '백수현', '박승희', '부사장', '승진', '삼성전자', '이영희', '사장', '삼성전자', '이영희', '부사장', '사장', '승진', '사장', '승진', '인사', '단행', '삼성', '오너', '일가', '여성', '사장', '처음', '이영희', '사장', '그동안', '삼성전자', '최초', '여성', '사장', '후보', '거론', '유니레버', '로레알', '출신', '마케팅', '전문가', '삼성전자', '마케팅', '담당', '임원', '발탁', '부사장', '승진', '부사', '장직', '유지', '신임', '사장', '갤럭시', '시리즈', '마케팅', '성공', '삼성전자', '글로벌', '브랜드', '인지도', '기여', '평가', '삼성', '역량', '성과', '여성', '부사장', '사장', '승진', '여성', '인재', '성장', '비전', '제시', '도전', '계기', '마련', '이재용', '삼성전자', '회장', '평소', '성별', '국적', '불문', '세상', '인재', '양성', '강조', '회장', '취임', '현실', '시장', '대응', '기회', '준비', '실력', '창업', '중시', '가치', '인재', '기술', '성별', '국적', '불문', '세상', '인재', '양성', '세상', '기술', '투자', '사장', '승진', '명단', '삼성전자', '부문', '네트워크', '사업', '전략', '마케팅', '팀장', '김우준', '부사장', '삼성전자', '부문', '네트워크', '사업', '부장', '사장', '삼성전자', '부문', '글로벌', '마케팅', '센터', '이영희', '부사장', '삼성전자', '부문', '글로벌', '마케팅', '실장', '사장', '삼성전자', '부문', '글로벌', '제조', '인프라', '총괄', '남석우', '부사장', '삼성전자', '글로벌', '제조', '인프라', '총괄', '제조', '담당', '사장', '삼성전자', '부문', '반도체', '연구', '소장', '송재혁', '부사장', '삼성전자', '부문', '반도체', '연구', '소장', '사장', '삼성전자', '부문', '커뮤니케이션', '팀장', '백수현', '부사장', '삼성전자', '부문', '커뮤니케이션', '팀장', '사장', '삼성물산', '건설', '부문', '커뮤니케이션', '팀장', '박승희', '부사장', '삼성전자', '담당', '사장', '삼성전자', '중국', '전략', '협력', '부실', '양걸', '부사장', '삼성전자', '중국', '전략', '협력', '실장', '사장', '위촉', '업무', '변경', '삼성전자', '부문', '네트워크', '사업', '부장', '전경훈', '사장', '삼성전자', '부문', '사장', '삼성전자', '부문', '승현준', '사장', '삼성전자', '부문', '글로벌', '협력', '담당', '사장']\n"
          ]
        }
      ]
    },
    {
      "cell_type": "markdown",
      "metadata": {
        "id": "SEWywlm6BFf2"
      },
      "source": [
        "### gensim LDA model을 사용하기 위한 자료구조 생성. "
      ]
    },
    {
      "cell_type": "code",
      "metadata": {
        "id": "jhcOnwKEBFf2"
      },
      "source": [
        "# 문서-단어 행렬 만들기\n",
        "# 어휘(vocabulary) 학습\n",
        "dictionary = corpora.Dictionary(tokenized_documents)\n",
        "# 문서-단어 행렬 생성\n",
        "corpus = [dictionary.doc2bow(document) for document in tokenized_documents]"
      ],
      "execution_count": 10,
      "outputs": []
    },
    {
      "cell_type": "code",
      "metadata": {
        "id": "Q6PVEzU0BFf3",
        "colab": {
          "base_uri": "https://localhost:8080/"
        },
        "outputId": "637dad84-af20-49da-ce8f-9f1ede318d59"
      },
      "source": [
        "NUM_TOTAL_WORDS = len(dictionary)\n",
        "print(dictionary)\n",
        "print(NUM_TOTAL_WORDS)"
      ],
      "execution_count": 11,
      "outputs": [
        {
          "output_type": "stream",
          "name": "stdout",
          "text": [
            "Dictionary(7473 unique tokens: ['가치', '강조', '갤럭시', '거론', '건설']...)\n",
            "7473\n"
          ]
        }
      ]
    },
    {
      "cell_type": "markdown",
      "metadata": {
        "id": "-vpK1EQjBFgB"
      },
      "source": [
        "## 3. 토픽 모델링(LDA Model)\n",
        "\n",
        "\n",
        "- LDA(Latent Dirichlet Allocation) : 단어들의 조합(토픽)이 하나의 토픽을 구성하고, 각 단어가 그 토픽에 할당될 확률을 계산합니다.\n",
        "\n",
        "- LDA는 사람이 글을 쓰는 과정을 다음과 같이 가정합니다.\n",
        "\n",
        "1) 여러 개의 토픽을 정한다.\n",
        "\n",
        "2) 토픽 하나를 고릅니다.\n",
        "\n",
        "3) 토픽 내에 속하는 단어 하나를 고릅니다.\n",
        "\n",
        "4) 해당 단어를 글에 적습니다.\n",
        "\n",
        "5) 2번 과정부터 반복하면서 글을 적습니다.\n",
        "\n",
        "\n",
        "-> LDA는 사람이 글을 쓰는 과정을 따라하면서 글을 생성하는 과정을 학습합니다. (Generative Model)\n",
        "\n",
        "-> LDA는 생성을 통해서, 저자가 생각한 토픽의 분포(단어들의 확률 분포)를 찾습니다."
      ]
    },
    {
      "cell_type": "code",
      "metadata": {
        "id": "oeuCGpTDBFgB"
      },
      "source": [
        "# ldamodel 선언\n",
        "from gensim.models.ldamodel import LdaModel\n",
        "\n",
        "# Coherence model 선언 (LDA의 정량 평가 지표.)\n",
        "from gensim.models.coherencemodel import CoherenceModel"
      ],
      "execution_count": 12,
      "outputs": []
    },
    {
      "cell_type": "code",
      "metadata": {
        "scrolled": false,
        "id": "cqy2CfaTBFgG"
      },
      "source": [
        "# 토픽 개수와 토픽 별 상위 추출 단어 개수 지정.\n",
        "\n",
        "def build_doc_term_mat(documents):\n",
        "    \"\"\"주어진 문서 집합으로 문서-어휘 행렬을 만들어 돌려준다.\"\"\"\n",
        "    \n",
        "    print_log_msg(\"Building document-term matrix.\")\n",
        "    dictionary = corpora.Dictionary(documents)\n",
        "    corpus = [dictionary.doc2bow(document) for document in documents]\n",
        "\n",
        "    return corpus, dictionary\n",
        "\n",
        "\n",
        "def print_topic_words(model):\n",
        "    \"\"\"토픽별 토픽 단어들을 화면에 인쇄한다.\"\"\"\n",
        "    \n",
        "    print_log_msg(\"Printing topic words.\")\n",
        "    \n",
        "    for topic_id in range(model.num_topics):\n",
        "        topic_word_probs = model.show_topic(topic_id, 30)\n",
        "        print(\"Topic ID: {}\".format(topic_id))\n",
        "\n",
        "        for topic_word, prob in topic_word_probs:\n",
        "            print(\"\\t{}\\t{}\".format(topic_word, prob))\n",
        "\n",
        "        print(\"\\n\")\n",
        "\n",
        "\n",
        "def print_log_msg(msg):\n",
        "    \"\"\"로그 메시지를 출력한다.\"\"\"\n",
        "    \n",
        "    print(msg, flush=True)"
      ],
      "execution_count": 13,
      "outputs": []
    },
    {
      "cell_type": "code",
      "metadata": {
        "id": "f62R2rVNBFgH"
      },
      "source": [
        "def compute_coherence(dictionary, corpus, texts, start, end, step):\n",
        "    '''\n",
        "    start, end+1, step에 해당하는 토픽 개수를 입력받아서 LdaModel을 수행하고, 그 때의 Coherence Score를 함께 돌려주는 함수.\n",
        "    '''\n",
        "    coherence_score_list = []\n",
        "    model_list = []\n",
        "    for num_topics in tqdm(range(start, end+1, step)):\n",
        "        model = LdaModel(corpus=corpus,\n",
        "                         id2word=dictionary,\n",
        "                         num_topics=num_topics, # 몇개의 토픽을 찾을건지\n",
        "                         passes=10, # 학습 반복 횟수 (100 ~ 300)\n",
        "                         random_state=42)\n",
        "        \n",
        "        model_list.append(model)\n",
        "        coherence_model = CoherenceModel(model=model, texts=tokenized_documents, dictionary=dictionary, coherence='c_v')\n",
        "        coherence_score_list.append(coherence_model.get_coherence())\n",
        "        \n",
        "    return model_list, coherence_score_list"
      ],
      "execution_count": 14,
      "outputs": []
    },
    {
      "cell_type": "code",
      "metadata": {
        "id": "tXqQnYyEBFgI",
        "colab": {
          "base_uri": "https://localhost:8080/"
        },
        "outputId": "44ba1795-7541-441d-b3f8-6c04276f8d3c"
      },
      "source": [
        "# LDA에서 가장 중요한 파라미터 = K(토픽 개수)\n",
        "start, end, step = [int(x) for x in input(\"원하는 토픽 갯수들을 입력하세요(e.g. 2,5,1)\").split(\",\")]\n",
        "start, end, step"
      ],
      "execution_count": 15,
      "outputs": [
        {
          "name": "stdout",
          "output_type": "stream",
          "text": [
            "원하는 토픽 갯수들을 입력하세요(e.g. 2,5,1)2,6,1\n"
          ]
        },
        {
          "output_type": "execute_result",
          "data": {
            "text/plain": [
              "(2, 6, 1)"
            ]
          },
          "metadata": {},
          "execution_count": 15
        }
      ]
    },
    {
      "cell_type": "code",
      "metadata": {
        "scrolled": false,
        "id": "3LVB_9ZJBFgJ",
        "colab": {
          "base_uri": "https://localhost:8080/",
          "height": 86,
          "referenced_widgets": [
            "0d2e736fe79c4603a544f2437c799a39",
            "779991879e16477697b9845aa758670d",
            "d2738f12109b4ca991cae7d99da1f3ee",
            "fd7dd4aaa5b04ab489dc476601f925a0",
            "6323b12f7fa64294a80f7392c2b587ec",
            "00d14cde136e45219957de9073c75ec7",
            "2e7969d9906e4eb39ecb98114b6f1b42",
            "e31e82c64e1143e59882063745af8201",
            "d97b1de49e8e42b0b4dbc26c534779bf",
            "ef85db99cb4b4de59760673f56802d34",
            "a5485728055e4146a1640618303cd1a7"
          ]
        },
        "outputId": "69adc966-c6b8-4afd-a83a-01f6855bca1f"
      },
      "source": [
        "corpus, dictionary = build_doc_term_mat(tokenized_documents)\n",
        "print(len(corpus), len(dictionary))\n",
        "\n",
        "\n",
        "model_list, coherence_scores = compute_coherence(dictionary=dictionary, corpus=corpus, \n",
        "                                                texts=tokenized_documents, start=start, end=end, step=step)"
      ],
      "execution_count": 16,
      "outputs": [
        {
          "output_type": "stream",
          "name": "stdout",
          "text": [
            "Building document-term matrix.\n",
            "2722 7473\n"
          ]
        },
        {
          "output_type": "display_data",
          "data": {
            "text/plain": [
              "  0%|          | 0/5 [00:00<?, ?it/s]"
            ],
            "application/vnd.jupyter.widget-view+json": {
              "version_major": 2,
              "version_minor": 0,
              "model_id": "0d2e736fe79c4603a544f2437c799a39"
            }
          },
          "metadata": {}
        }
      ]
    },
    {
      "cell_type": "code",
      "metadata": {
        "id": "Tn-6rwwJBFgK",
        "colab": {
          "base_uri": "https://localhost:8080/",
          "height": 695
        },
        "outputId": "c9bf4072-e6c8-459b-e2b5-191b150e3164"
      },
      "source": [
        "coherence_list = coherence_scores\n",
        "label = \"Coherenece Score(C_V)\"\n",
        "\n",
        "x = range(start, end+1, step)\n",
        "plt.figure(figsize=(16, 12))\n",
        "plt.xticks(x)\n",
        "plt.plot(x, coherence_list, label=label)\n",
        "plt.scatter(x, coherence_list)\n",
        "plt.title(f\"Coherence Scores for LDA with\")\n",
        "plt.xlabel(\"Num Topics\")\n",
        "plt.ylabel(\"Coherence Score\")\n",
        "plt.legend(loc='best')\n",
        "plt.show()"
      ],
      "execution_count": 17,
      "outputs": [
        {
          "output_type": "display_data",
          "data": {
            "text/plain": [
              "<Figure size 1152x864 with 1 Axes>"
            ],
            "image/png": "[encoded data removed]"
          },
          "metadata": {
            "needs_background": "light"
          }
        }
      ]
    },
    {
      "cell_type": "code",
      "metadata": {
        "id": "NY_UweJHBFgL",
        "colab": {
          "base_uri": "https://localhost:8080/"
        },
        "outputId": "08cc94be-1c9b-4cf3-952f-e6c14613ed52"
      },
      "source": [
        "selected_model = model_list[np.argmax(coherence_list)] # coherence score가 가장 높은 LDA model을 selected_model로 할당.\n",
        "selected_model.num_topics"
      ],
      "execution_count": 18,
      "outputs": [
        {
          "output_type": "execute_result",
          "data": {
            "text/plain": [
              "2"
            ]
          },
          "metadata": {},
          "execution_count": 18
        }
      ]
    },
    {
      "cell_type": "markdown",
      "metadata": {
        "id": "NQdp_zc9BFgO"
      },
      "source": [
        "### 4. pyLDAvis를 이용한 시각화 "
      ]
    },
    {
      "cell_type": "code",
      "source": [
        "!pip install pyldavis==3.2.1"
      ],
      "metadata": {
        "id": "5oVA5yjYod86",
        "colab": {
          "base_uri": "https://localhost:8080/"
        },
        "outputId": "006296ff-93ca-4b1e-f730-434143822607"
      },
      "execution_count": 19,
      "outputs": [
        {
          "output_type": "stream",
          "name": "stdout",
          "text": [
            "Looking in indexes: https://pypi.org/simple, https://us-python.pkg.dev/colab-wheels/public/simple/\n",
            "Collecting pyldavis==3.2.1\n",
            "  Downloading pyLDAvis-3.2.1.tar.gz (1.7 MB)\n",
            "\u001b[K     |████████████████████████████████| 1.7 MB 32.1 MB/s \n",
            "\u001b[?25hRequirement already satisfied: wheel>=0.23.0 in /usr/local/lib/python3.8/dist-packages (from pyldavis==3.2.1) (0.38.4)\n",
            "Requirement already satisfied: numpy>=1.9.2 in /usr/local/lib/python3.8/dist-packages (from pyldavis==3.2.1) (1.21.6)\n",
            "Requirement already satisfied: scipy>=0.18.0 in /usr/local/lib/python3.8/dist-packages (from pyldavis==3.2.1) (1.7.3)\n",
            "Requirement already satisfied: joblib>=0.8.4 in /usr/local/lib/python3.8/dist-packages (from pyldavis==3.2.1) (1.2.0)\n",
            "Requirement already satisfied: jinja2>=2.7.2 in /usr/local/lib/python3.8/dist-packages (from pyldavis==3.2.1) (2.11.3)\n",
            "Requirement already satisfied: numexpr in /usr/local/lib/python3.8/dist-packages (from pyldavis==3.2.1) (2.8.4)\n",
            "Requirement already satisfied: future in /usr/local/lib/python3.8/dist-packages (from pyldavis==3.2.1) (0.16.0)\n",
            "Collecting funcy\n",
            "  Downloading funcy-1.17-py2.py3-none-any.whl (33 kB)\n",
            "Requirement already satisfied: pandas>=0.17.0 in /usr/local/lib/python3.8/dist-packages (from pyldavis==3.2.1) (1.3.5)\n",
            "Requirement already satisfied: MarkupSafe>=0.23 in /usr/local/lib/python3.8/dist-packages (from jinja2>=2.7.2->pyldavis==3.2.1) (2.0.1)\n",
            "Requirement already satisfied: python-dateutil>=2.7.3 in /usr/local/lib/python3.8/dist-packages (from pandas>=0.17.0->pyldavis==3.2.1) (2.8.2)\n",
            "Requirement already satisfied: pytz>=2017.3 in /usr/local/lib/python3.8/dist-packages (from pandas>=0.17.0->pyldavis==3.2.1) (2022.6)\n",
            "Requirement already satisfied: six>=1.5 in /usr/local/lib/python3.8/dist-packages (from python-dateutil>=2.7.3->pandas>=0.17.0->pyldavis==3.2.1) (1.15.0)\n",
            "Building wheels for collected packages: pyldavis\n",
            "  Building wheel for pyldavis (setup.py) ... \u001b[?25l\u001b[?25hdone\n",
            "  Created wheel for pyldavis: filename=pyLDAvis-3.2.1-py2.py3-none-any.whl size=136188 sha256=74b82e3d995d6ed43a3b728c38ba16ecb915a97283c9abd8d9ff1d4c4f5eec06\n",
            "  Stored in directory: /root/.cache/pip/wheels/ae/5f/79/278ffb79ffde795f9686b558a8e313971ee0d3a914105d57dd\n",
            "Successfully built pyldavis\n",
            "Installing collected packages: funcy, pyldavis\n",
            "Successfully installed funcy-1.17 pyldavis-3.2.1\n"
          ]
        }
      ]
    },
    {
      "cell_type": "code",
      "metadata": {
        "scrolled": false,
        "id": "rC3B54nNBFgP",
        "colab": {
          "base_uri": "https://localhost:8080/",
          "height": 954
        },
        "outputId": "35d7df53-5d1d-4fec-ea36-01f4a1d39373"
      },
      "source": [
        "# pyLDAvis 불러오기\n",
        "import pyLDAvis\n",
        "import pyLDAvis.gensim\n",
        "\n",
        "# pyLDAvis를 jupyter notebook에서 실행할 수 있게 활성화.\n",
        "pyLDAvis.enable_notebook()\n",
        "\n",
        "# pyLDAvis 실행.\n",
        "data = pyLDAvis.gensim.prepare(selected_model, corpus, dictionary)\n",
        "data"
      ],
      "execution_count": 20,
      "outputs": [
        {
          "output_type": "stream",
          "name": "stderr",
          "text": [
            "/usr/local/lib/python3.8/dist-packages/past/types/oldstr.py:5: DeprecationWarning: Using or importing the ABCs from 'collections' instead of from 'collections.abc' is deprecated since Python 3.3, and in 3.10 it will stop working\n",
            "  from collections import Iterable\n",
            "/usr/local/lib/python3.8/dist-packages/pyLDAvis/_prepare.py:247: FutureWarning: In a future version of pandas all arguments of DataFrame.drop except for the argument 'labels' will be keyword-only\n",
            "  default_term_info = default_term_info.sort_values(\n"
          ]
        },
        {
          "output_type": "execute_result",
          "data": {
            "text/plain": [
              "PreparedData(topic_coordinates=              x    y  topics  cluster       Freq\n",
              "topic                                           \n",
              "1      0.211735  0.0       1        1  55.015994\n",
              "0     -0.211735  0.0       2        1  44.984006, topic_info=     Term          Freq         Total Category  logprob  loglift\n",
              "673    마켓   5922.000000   5922.000000  Default  30.0000  30.0000\n",
              "7247   컬리   5900.000000   5900.000000  Default  29.0000  29.0000\n",
              "2145   보상   7044.000000   7044.000000  Default  28.0000  28.0000\n",
              "2     갤럭시  26915.000000  26915.000000  Default  27.0000  27.0000\n",
              "418    노트   5286.000000   5286.000000  Default  26.0000  26.0000\n",
              "...   ...           ...           ...      ...      ...      ...\n",
              "51    시리즈   2220.802120   3715.123378   Topic2  -4.5281   0.2843\n",
              "782    혜택   1675.723415   2695.132231   Topic2  -4.8098   0.3237\n",
              "665    구매   1845.522904   6006.699776   Topic2  -4.7132  -0.3812\n",
              "143    고객   1806.739895  10146.233260   Topic2  -4.7345  -0.9267\n",
              "193    제공   1595.694502   5210.547780   Topic2  -4.8587  -0.3845\n",
              "\n",
              "[148 rows x 6 columns], token_table=      Topic      Freq Term\n",
              "term                      \n",
              "662       1  0.000688   가격\n",
              "662       2  0.999593   가격\n",
              "335       1  0.983103   가능\n",
              "335       2  0.016950   가능\n",
              "704       1  0.999904   가입\n",
              "...     ...       ...  ...\n",
              "1275      2  0.002342   확대\n",
              "522       1  0.999846   확인\n",
              "522       2  0.000464   확인\n",
              "2358      1  0.999026  휴대폰\n",
              "2358      2  0.000904  휴대폰\n",
              "\n",
              "[226 rows x 3 columns], R=30, lambda_step=0.01, plot_opts={'xlab': 'PC1', 'ylab': 'PC2'}, topic_order=[2, 1])"
            ],
            "text/html": [
              "\n",
              "<link rel=\"stylesheet\" type=\"text/css\" href=\"https://cdn.jsdelivr.net/gh/bmabey/pyLDAvis/pyLDAvis/js/ldavis.v1.0.0.css\">\n",
              "\n",
              "\n",
              "<div id=\"ldavis_el77641404147260864327308464584\"></div>\n",
              "<script type=\"text/javascript\">\n",
              "\n",
              "var ldavis_el77641404147260864327308464584_data = {\"mdsDat\": {\"x\": [0.21173463932606928, -0.21173463932606928], \"y\": [0.0, 0.0], \"topics\": [1, 2], \"cluster\": [1, 1], \"Freq\": [55.015993543299246, 44.984006456700754]}, \"tinfo\": {\"Term\": [\"\\ub9c8\\ucf13\", \"\\uceec\\ub9ac\", \"\\ubcf4\\uc0c1\", \"\\uac24\\ub7ed\\uc2dc\", \"\\ub178\\ud2b8\", \"\\ud310\\ub9e4\", \"\\uacf5\\uac1c\", \"\\uc9c0\\uc6d0\\uae08\", \"\\ubc30\\uc1a1\", \"\\uacf5\\uc2dc\", \"\\uc2a4\\ub9c8\\ud2b8\\ud3f0\", \"\\ub514\\uc9c0\\ud138\", \"\\ud504\\ub85c\\uadf8\\ub7a8\", \"\\uc124\\uce58\", \"\\ud504\\ub77c\\uc790\", \"\\uc6b8\\ud2b8\\ub77c\", \"\\uc0ac\\uc804\", \"\\ud50c\\ub7ec\\uc2a4\", \"\\uce74\\ub4dc\", \"\\ud1b5\\uc2e0\\uc0ac\", \"\\uae30\\uae30\", \"\\ud589\\uc0ac\", \"\\uc8fc\\ubb38\", \"\\uc0ac\\uc9c4\", \"\\uc608\\uc57d\", \"\\uc624\\uc804\", \"\\uace0\\uac1d\", \"\\ud655\\uc778\", \"\\uc0db\\ubcc4\", \"\\uce74\\uba54\\ub77c\", \"\\ubcf4\\uc0c1\", \"\\uc124\\uce58\", \"\\ud504\\ub85c\\uadf8\\ub7a8\", \"\\ud504\\ub77c\\uc790\", \"\\ub514\\uc9c0\\ud138\", \"\\ub178\\ud2b8\", \"\\ubcf8\\uc810\", \"\\uc2a4\\ud398\\uc15c\", \"\\uc774\\ub9c8\\ud2b8\", \"\\ud64d\\ub300\", \"\\uc6b4\\uc601\", \"\\ub9e4\\uc7a5\", \"\\uc2e0\\uaddc\", \"\\ud655\\uc778\", \"\\uae30\\uc5c5\", \"\\ucc38\\uc5ec\", \"\\uae30\\ud68d\", \"\\uc2a4\\ud0c0\", \"\\ubc85\\uc2a4\", \"\\ud2b9\\ubcc4\", \"\\ubc18\\ub0a9\", \"\\uacbd\\uc81c\", \"\\uc2dc\\uc138\", \"\\uacc4\\uc88c\", \"\\ud1a0\\uc2a4\", \"\\uae30\\ud504\", \"\\uc804\\uad6d\", \"\\uc0ac\\uc774\\ud074\", \"\\uae30\\ubcc0\", \"\\ub86f\\ub370\\ub9c8\\ud2b8\", \"\\uae30\\uae30\", \"\\uc0ac\\uc7a5\", \"\\ubc84\\uc988\", \"\\uc900\\ube44\", \"\\ud648\\ud398\\uc774\\uc9c0\", \"\\ud655\\ub300\", \"\\uac00\\uc785\", \"\\uc774\\ub2ec\", \"\\uc0ac\\uc6a9\", \"\\uad00\\ub828\", \"\\uc704\\uce58\", \"\\ubd80\\ubb38\", \"\\uacc4\\ud68d\", \"\\uc0ac\\uc9c4\", \"\\ud734\\ub300\\ud3f0\", \"\\uac1c\\ud1b5\", \"\\uac00\\ub2a5\", \"\\ud1b5\\uc2e0\\uc0ac\", \"\\ucd94\\uac00\", \"\\uace0\\uac1d\", \"\\uae30\\uc874\", \"\\uc790\\uae09\", \"\\uc774\\ubca4\\ud2b8\", \"\\uc0bc\\uc131\", \"\\uad6c\\ub9e4\", \"\\uc81c\\uacf5\", \"\\uac24\\ub7ed\\uc2dc\", \"\\uc774\\uc6a9\", \"\\uc9c4\\ud589\", \"\\uc0bc\\uc131\\uc804\\uc790\", \"\\uceec\\ub9ac\", \"\\ub9c8\\ucf13\", \"\\uc9c0\\uc6d0\\uae08\", \"\\uacf5\\uc2dc\", \"\\ubc30\\uc1a1\", \"\\uc8fc\\ubb38\", \"\\uc0db\\ubcc4\", \"\\uc624\\uc804\", \"\\ud560\\uc778\", \"\\uce74\\ub4dc\", \"\\uc804\\uc791\", \"\\uc808\\ubc18\", \"\\uac00\\uaca9\", \"\\uc6a9\\ub7c9\", \"\\uc778\\uce58\", \"\\uc2e0\\uc791\", \"\\uc694\\uae08\\uc81c\", \"\\uae30\\uac04\", \"\\uc0c8\\ubcbd\", \"\\uc801\\ub9bd\\uae08\", \"\\uc218\\ub7c9\", \"\\uc2e0\\ud55c\", \"\\uad6c\\ub9e4\\uc790\", \"\\uc81c\\ud734\", \"\\uc815\\uc0c1\", \"\\uc548\\ub0b4\", \"\\uc2e0\\uc81c\\ud488\", \"\\uad6d\\ubbfc\", \"\\uae30\\ubcf8\", \"\\uacf5\\uac1c\", \"\\ud310\\ub9e4\", \"\\uc6b8\\ud2b8\\ub77c\", \"\\ud50c\\ub7ec\\uc2a4\", \"\\ud589\\uc0ac\", \"\\uce74\\uba54\\ub77c\", \"\\uc218\\uc900\", \"\\uc0c9\\uc0c1\", \"\\uacb0\\uc81c\", \"\\ucd94\\ucca8\", \"\\ud55c\\uc815\", \"\\uc21c\\ucc28\", \"\\ucd5c\\ub300\", \"\\uc9c0\\uc5ed\", \"\\uc628\\ub77c\\uc778\", \"\\uc2a4\\ub9c8\\ud2b8\\ud3f0\", \"\\uc131\\ub2a5\", \"\\ucd9c\\uc2dc\", \"\\uc0ac\\uc804\", \"\\uac24\\ub7ed\\uc2dc\", \"\\uc81c\\ud488\", \"\\uc608\\uc57d\", \"\\ubaa8\\ub378\", \"\\uc0bc\\uc131\\uc804\\uc790\", \"\\uc2dc\\ub9ac\\uc988\", \"\\ud61c\\ud0dd\", \"\\uad6c\\ub9e4\", \"\\uace0\\uac1d\", \"\\uc81c\\uacf5\"], \"Freq\": [5922.0, 5900.0, 7044.0, 26915.0, 5286.0, 3635.0, 3390.0, 3052.0, 2504.0, 2484.0, 3099.0, 3153.0, 3127.0, 3043.0, 3005.0, 2245.0, 5472.0, 2036.0, 1871.0, 4331.0, 2405.0, 1750.0, 1727.0, 3030.0, 4690.0, 1660.0, 10146.0, 2155.0, 1601.0, 1643.0, 7044.3876647052675, 3042.518835126903, 3126.481767025183, 3004.7542399858958, 3152.503622318934, 5285.275116991771, 2008.3626228287783, 2001.2043291823604, 1997.2925026233513, 1992.0843843799669, 2107.930939335001, 2037.6271980253036, 2111.113704283629, 2154.6056369388893, 1279.4503143354261, 1118.7205673301853, 1064.6907317870662, 1047.760600311433, 1025.6331237482389, 1034.7401876034526, 1037.9889966812575, 1074.4241609737815, 1012.6072073628269, 1000.8937423955248, 1001.5429421333906, 998.941107902575, 1018.4614807565619, 996.9862485187488, 993.0803940352502, 993.0802769357304, 2403.0947993744, 1900.6502689183178, 1186.3234082153015, 1165.8436389954534, 1116.4767063314505, 1278.015962317187, 1068.519768985565, 1081.9159540526384, 1971.3875126503779, 1182.646717492085, 1044.45300727468, 1169.4890641468787, 1149.3826081962075, 2941.225174295696, 1104.6189747557337, 1154.7252737878616, 1565.6033663249011, 4038.1628889495087, 3162.8273501850467, 8339.493365143599, 1300.1806765276829, 3027.9530600558965, 3122.779782805686, 3975.0743516528605, 4161.176871313506, 3614.8532771896485, 9315.010119301005, 2099.2084303028664, 2249.8635201206453, 3822.4550344896697, 5900.276926958989, 5921.640719861663, 3052.347027882387, 2483.915486433323, 2504.160382183417, 1727.2298341766652, 1600.5791213728487, 1660.1605383678839, 1491.6104496140874, 1870.3686253785527, 1502.2394938295672, 1079.4216069744718, 1452.7486410238173, 980.5502016812826, 932.7193112180163, 897.8967730518303, 879.8660221462844, 991.7755569926258, 872.594052375758, 861.9079430650416, 875.400582697202, 867.5282804650403, 878.2106556503973, 873.7127580347288, 869.7735430209171, 872.0217737277206, 883.825726976171, 864.1489927615386, 1004.6754281606737, 3388.4977800806373, 3632.27220718785, 2242.3694704444674, 2035.0075529321352, 1748.6235000822137, 1636.583845329116, 1474.8675889703368, 1099.795282176065, 973.7685512944937, 897.8526337751455, 897.2831317844267, 891.1165588671029, 1329.6932207135264, 966.0621782738175, 1034.8759808530924, 2941.341821600662, 1457.1249401982934, 1709.792426216056, 4426.157216275388, 17600.44255471341, 2637.286547094547, 3682.612812879886, 2839.146278763126, 5260.278479325888, 2220.802119836302, 1675.723415398047, 1845.522904198395, 1806.7398952278897, 1595.6945024154666], \"Total\": [5922.0, 5900.0, 7044.0, 26915.0, 5286.0, 3635.0, 3390.0, 3052.0, 2504.0, 2484.0, 3099.0, 3153.0, 3127.0, 3043.0, 3005.0, 2245.0, 5472.0, 2036.0, 1871.0, 4331.0, 2405.0, 1750.0, 1727.0, 3030.0, 4690.0, 1660.0, 10146.0, 2155.0, 1601.0, 1643.0, 7044.928530921345, 3043.0390693559916, 3127.0267448371746, 3005.2791839011647, 3153.064969842337, 5286.410102880032, 2008.8754606640025, 2001.7176152697123, 1997.8070228533468, 1992.5984130660668, 2108.482734945912, 2038.1702382267993, 2111.7276116130747, 2155.3318546150117, 1280.0459849842832, 1119.2430789119696, 1065.2064898998149, 1048.2804371071322, 1026.1448494151414, 1035.2579879562613, 1038.5120143466131, 1074.967939566402, 1013.1216100598804, 1001.404447713795, 1002.0543809338919, 999.4512714192277, 1018.9818636550044, 997.4970435528963, 993.5895198117611, 993.5899949118348, 2405.1376889044795, 1902.6331749456908, 1186.938375211281, 1166.7182905389338, 1117.252873076906, 1280.9792563376907, 1069.1030989560068, 1082.7378984765119, 1985.0430998787026, 1184.7514499203264, 1045.0147246481645, 1171.481227319361, 1151.5436595678336, 3030.1503776434643, 1106.0768961941467, 1158.4543701960351, 1592.915453368277, 4331.708515504843, 3451.3425593370725, 10146.233260371488, 1320.5564686312725, 3595.428138805518, 3902.319287603645, 5323.14693738562, 6006.699775511901, 5210.547779605115, 26915.452674014414, 2890.966950745, 3401.836023184773, 9082.733513815558, 5900.906651811675, 5922.275971605845, 3052.9390235328046, 2484.506166543823, 2504.771623265707, 1727.8479972242721, 1601.1770800075547, 1660.8061969316477, 1492.2506686535748, 1871.333826632915, 1503.044031741043, 1080.0218095973391, 1453.5915656788106, 981.192051022825, 933.3370396594463, 898.5026694673163, 880.4599515969267, 992.4476878811859, 873.1889239400663, 862.5013811894271, 876.003330004703, 868.1265892547557, 878.8166114733057, 874.3157020328294, 870.3764071420504, 872.6290844858445, 884.442215008918, 864.7522119549462, 1005.3892106279962, 3390.9226295940393, 3635.6153829263476, 2245.1583331923307, 2036.7676489410808, 1750.9172182599007, 1643.5460393624803, 1479.8657226165892, 1101.0914590480202, 975.1017134322661, 898.5094109040095, 897.9488078478444, 891.7567095223004, 1340.753427712729, 967.8492681235358, 1040.9995186461867, 3099.312557544613, 1493.4068541536167, 1792.9247419453934, 5472.803263357202, 26915.452674014414, 3103.4935186977964, 4690.395637125769, 3959.6063594601937, 9082.733513815558, 3715.1233783634343, 2695.132231269929, 6006.699775511901, 10146.233260371488, 5210.547779605115], \"Category\": [\"Default\", \"Default\", \"Default\", \"Default\", \"Default\", \"Default\", \"Default\", \"Default\", \"Default\", \"Default\", \"Default\", \"Default\", \"Default\", \"Default\", \"Default\", \"Default\", \"Default\", \"Default\", \"Default\", \"Default\", \"Default\", \"Default\", \"Default\", \"Default\", \"Default\", \"Default\", \"Default\", \"Default\", \"Default\", \"Default\", \"Topic1\", \"Topic1\", \"Topic1\", \"Topic1\", \"Topic1\", \"Topic1\", \"Topic1\", \"Topic1\", \"Topic1\", \"Topic1\", \"Topic1\", \"Topic1\", \"Topic1\", \"Topic1\", \"Topic1\", \"Topic1\", \"Topic1\", \"Topic1\", \"Topic1\", \"Topic1\", \"Topic1\", \"Topic1\", \"Topic1\", \"Topic1\", \"Topic1\", \"Topic1\", \"Topic1\", \"Topic1\", \"Topic1\", \"Topic1\", \"Topic1\", \"Topic1\", \"Topic1\", \"Topic1\", \"Topic1\", \"Topic1\", \"Topic1\", \"Topic1\", \"Topic1\", \"Topic1\", \"Topic1\", \"Topic1\", \"Topic1\", \"Topic1\", \"Topic1\", \"Topic1\", \"Topic1\", \"Topic1\", \"Topic1\", \"Topic1\", \"Topic1\", \"Topic1\", \"Topic1\", \"Topic1\", \"Topic1\", \"Topic1\", \"Topic1\", \"Topic1\", \"Topic1\", \"Topic1\", \"Topic2\", \"Topic2\", \"Topic2\", \"Topic2\", \"Topic2\", \"Topic2\", \"Topic2\", \"Topic2\", \"Topic2\", \"Topic2\", \"Topic2\", \"Topic2\", \"Topic2\", \"Topic2\", \"Topic2\", \"Topic2\", \"Topic2\", \"Topic2\", \"Topic2\", \"Topic2\", \"Topic2\", \"Topic2\", \"Topic2\", \"Topic2\", \"Topic2\", \"Topic2\", \"Topic2\", \"Topic2\", \"Topic2\", \"Topic2\", \"Topic2\", \"Topic2\", \"Topic2\", \"Topic2\", \"Topic2\", \"Topic2\", \"Topic2\", \"Topic2\", \"Topic2\", \"Topic2\", \"Topic2\", \"Topic2\", \"Topic2\", \"Topic2\", \"Topic2\", \"Topic2\", \"Topic2\", \"Topic2\", \"Topic2\", \"Topic2\", \"Topic2\", \"Topic2\", \"Topic2\", \"Topic2\", \"Topic2\", \"Topic2\", \"Topic2\", \"Topic2\"], \"logprob\": [30.0, 29.0, 28.0, 27.0, 26.0, 25.0, 24.0, 23.0, 22.0, 21.0, 20.0, 19.0, 18.0, 17.0, 16.0, 15.0, 14.0, 13.0, 12.0, 11.0, 10.0, 9.0, 8.0, 7.0, 6.0, 5.0, 4.0, 3.0, 2.0, 1.0, -3.5751, -4.4146, -4.3874, -4.4271, -4.3791, -3.8624, -4.83, -4.8336, -4.8355, -4.8381, -4.7816, -4.8155, -4.7801, -4.7597, -5.2809, -5.4151, -5.4646, -5.4807, -5.502, -5.4932, -5.49, -5.4555, -5.5148, -5.5264, -5.5258, -5.5284, -5.509, -5.5303, -5.5343, -5.5343, -4.6506, -4.8851, -5.3565, -5.3739, -5.4171, -5.282, -5.461, -5.4486, -4.8486, -5.3596, -5.4838, -5.3708, -5.3881, -4.4485, -5.4278, -5.3835, -5.079, -4.1315, -4.3759, -3.4063, -5.2648, -4.4194, -4.3886, -4.1473, -4.1015, -4.2423, -3.2957, -4.7858, -4.7165, -4.1864, -3.551, -3.5474, -4.2101, -4.4162, -4.4081, -4.7795, -4.8556, -4.8191, -4.9261, -4.6999, -4.919, -5.2496, -4.9525, -5.3456, -5.3957, -5.4337, -5.454, -5.3343, -5.4623, -5.4746, -5.4591, -5.4681, -5.4559, -5.461, -5.4655, -5.4629, -5.4495, -5.472, -5.3213, -4.1056, -4.0361, -4.5185, -4.6155, -4.7672, -4.8334, -4.9374, -5.2309, -5.3526, -5.4338, -5.4344, -5.4413, -5.0411, -5.3605, -5.2917, -4.2471, -4.9495, -4.7896, -3.8385, -2.4581, -4.3563, -4.0224, -4.2825, -3.6658, -4.5281, -4.8098, -4.7132, -4.7345, -4.8587], \"loglift\": [30.0, 29.0, 28.0, 27.0, 26.0, 25.0, 24.0, 23.0, 22.0, 21.0, 20.0, 19.0, 18.0, 17.0, 16.0, 15.0, 14.0, 13.0, 12.0, 11.0, 10.0, 9.0, 8.0, 7.0, 6.0, 5.0, 4.0, 3.0, 2.0, 1.0, 0.5975, 0.5974, 0.5974, 0.5974, 0.5974, 0.5973, 0.5973, 0.5973, 0.5973, 0.5973, 0.5973, 0.5973, 0.5973, 0.5972, 0.5971, 0.5971, 0.5971, 0.5971, 0.597, 0.597, 0.597, 0.597, 0.597, 0.597, 0.597, 0.597, 0.597, 0.597, 0.597, 0.597, 0.5967, 0.5965, 0.597, 0.5968, 0.5969, 0.5952, 0.597, 0.5968, 0.5906, 0.5958, 0.597, 0.5958, 0.5957, 0.5678, 0.5962, 0.5943, 0.5803, 0.5274, 0.5102, 0.4014, 0.582, 0.4258, 0.3747, 0.3055, 0.2305, 0.2319, -0.4635, 0.2775, 0.1841, -0.2679, 0.7988, 0.7988, 0.7987, 0.7986, 0.7986, 0.7985, 0.7985, 0.7985, 0.7984, 0.7983, 0.7983, 0.7983, 0.7983, 0.7982, 0.7982, 0.7982, 0.7982, 0.7982, 0.7982, 0.7982, 0.7982, 0.7982, 0.7982, 0.7982, 0.7982, 0.7982, 0.7982, 0.7982, 0.7982, 0.7981, 0.7979, 0.7976, 0.798, 0.7976, 0.7946, 0.7955, 0.7977, 0.7975, 0.7981, 0.7981, 0.7981, 0.7906, 0.797, 0.793, 0.7465, 0.7743, 0.7514, 0.5866, 0.3741, 0.6361, 0.557, 0.4662, 0.2527, 0.2843, 0.3237, -0.3812, -0.9267, -0.3845]}, \"token.table\": {\"Topic\": [1, 2, 1, 2, 1, 2, 1, 2, 1, 2, 1, 2, 1, 2, 1, 2, 1, 2, 1, 2, 1, 2, 1, 2, 1, 2, 1, 2, 1, 2, 1, 2, 1, 2, 1, 2, 1, 2, 1, 2, 1, 2, 1, 2, 1, 2, 1, 2, 1, 2, 1, 2, 1, 2, 1, 2, 1, 2, 1, 2, 1, 2, 1, 2, 1, 2, 1, 2, 1, 2, 1, 2, 1, 2, 1, 2, 1, 2, 1, 2, 1, 2, 1, 2, 1, 2, 1, 2, 1, 2, 1, 2, 1, 2, 1, 2, 1, 2, 1, 2, 1, 2, 1, 2, 1, 2, 1, 2, 1, 2, 1, 2, 1, 2, 1, 2, 1, 2, 1, 2, 1, 2, 1, 2, 1, 2, 1, 2, 1, 2, 1, 2, 1, 2, 1, 2, 1, 2, 1, 2, 1, 2, 1, 2, 1, 2, 1, 2, 1, 2, 1, 2, 1, 2, 1, 2, 1, 2, 1, 2, 1, 2, 1, 2, 1, 2, 1, 2, 1, 2, 1, 2, 1, 2, 1, 2, 1, 2, 1, 2, 1, 2, 1, 2, 1, 2, 1, 2, 1, 2, 1, 2, 1, 2, 1, 2, 1, 2, 1, 2, 1, 2, 1, 2, 1, 2, 1, 2, 1, 2, 1, 2, 1, 2, 1, 2, 1, 2, 1, 2, 1, 2, 1, 2, 1, 2], \"Freq\": [0.0006879511574030161, 0.9995930317065823, 0.9831030245130944, 0.01695005214677749, 0.9999035650012544, 0.0009353634845661875, 0.9970181214859153, 0.0034528766112066327, 0.3460837204864545, 0.6538994611445625, 0.0010255340404234285, 0.9988701553724193, 0.9990995642467324, 0.0009302603019057099, 0.9995961195152285, 0.0009985975219932353, 0.9977910871666054, 0.001736799107339609, 0.8218813608957657, 0.17809564925514434, 0.0005898099775397824, 0.9991381019523913, 0.0004024944729322577, 0.999796270763728, 0.9985216731151128, 0.001688117790558094, 0.692726481347304, 0.3073235002564583, 0.001137893830117224, 0.9990707828429225, 0.001156400626879345, 0.999130141623754, 0.0010076097835795637, 0.9995489053109271, 0.9991111989495066, 0.0008315532242609293, 0.9994066767009854, 0.0010064518395780317, 0.000994639677280175, 0.9996128756665758, 0.9991828535876419, 0.0007812219340012838, 0.9844334800369583, 0.01514513046210705, 0.999548480819293, 0.0010005490298491421, 0.9998061503550976, 0.0009387851177043169, 0.9997332588935421, 0.00018916428739707515, 0.9999793947023108, 0.0003171517268323218, 0.9994061988195774, 0.0010064513583278724, 0.00016885400221037768, 0.9999534010898565, 0.9999164749717142, 0.000490636150624001, 0.2828563999358481, 0.7169904637659578, 0.9995069731119719, 0.0009629161590674103, 0.0003992379946784153, 0.9996919386747519, 0.9992094153909936, 0.0008425037229266389, 0.9998588411614365, 0.000974521287681712, 0.999868198674086, 0.00014194608158348752, 0.9995642036148358, 0.0004977909380551971, 0.9978819743231919, 0.0017072403324605507, 0.9929255440954603, 0.007052743590733863, 0.9995017092470511, 0.0010025092369579248, 0.9991416238467841, 0.0010511747752201832, 0.19130963596117556, 0.8087263120956667, 0.9705788932782946, 0.029371479599377158, 0.7467387330758634, 0.25323366344308523, 0.4207984297003138, 0.5791208111521848, 0.0011452275361988418, 0.999783639101589, 0.0009081897709610592, 0.9990087480571652, 0.0006245405411344521, 0.9998894063562577, 0.9999871610731571, 0.0003286188501719215, 0.024105956056029273, 0.9756216103787403, 0.0011415481719625783, 0.9988546504672561, 0.0033786849195745743, 0.9967120512744995, 0.0011213820869771574, 0.9991514394966473, 0.05097904682616886, 0.948920105795966, 0.999732478927198, 0.0009539432050832042, 0.9996415002474685, 0.0004995709646414135, 0.40214007661251044, 0.5978267136254255, 0.9998799649926793, 0.0009870483366166626, 0.9996554424874339, 0.0004735459225426025, 0.0011129627478935118, 0.9994405476083734, 0.001130656116397516, 0.9995000068954041, 0.001151905738607144, 0.9998541811110009, 0.0011459622625221149, 0.9992790929192841, 0.2149072440758309, 0.7852216070746877, 0.0006021172138251337, 0.999514574949722, 0.005763691425912436, 0.9942367709698953, 0.0011357700008799475, 0.9994776007743539, 0.001019168468555742, 0.9998042676531829, 0.9997710510321421, 0.0004742746921404849, 0.001336208656488997, 0.998593269282777, 0.9990289853107035, 0.0009569243154317084, 0.9993184883640351, 0.0009235845548650972, 0.9995960456419889, 0.0005005488460901297, 0.8002933050405998, 0.19988113286316614, 0.7260546508354547, 0.2739567810679753, 0.001071424316734368, 0.9996388875131653, 0.8421806480621163, 0.1577002732665852, 0.001159418433186688, 0.9994186894069251, 0.9990364267608429, 0.0009813717355214567, 0.0006653165036300735, 0.9993053884523705, 0.0009259072280890574, 0.999053899108093, 0.001148928201401482, 0.9995675352192893, 0.6937850208666478, 0.30630176854859475, 0.15015336658267947, 0.8496876130440466, 0.001143751619323487, 0.9996389152887276, 0.0005787546136040122, 0.9995092176941291, 0.999384349637133, 0.0008571049310781587, 0.0020664374772712242, 0.9980893015220013, 0.00032755321750344636, 0.9996924198205184, 0.6614075412998793, 0.33864066114553826, 0.9997828184810346, 0.000893460963790022, 0.008204342254612433, 0.9919795635122306, 0.9164549579244151, 0.08373553045847486, 0.001112954397432386, 0.9994330488942825, 0.046293075251971676, 0.953748899769537, 0.0005343781989979291, 0.9992872321261275, 0.004259083610894922, 0.9960171244335696, 0.0001694654836969813, 0.9998463538121898, 0.9999457305562187, 0.0009979498308944298, 0.9321956880400546, 0.06787160284392671, 0.9997507983910652, 0.0009659428003778407, 0.0008251697949372374, 0.9990055650706821, 0.9999071021745133, 0.00033274778774526235, 0.9996716546032521, 0.00031979259584237116, 0.0009819480396007878, 0.9991321302938017, 0.0011136492317382173, 0.9989433608691809, 0.0006701286995584181, 0.9998320197411599, 0.0011422584569632842, 0.998905020614392, 0.37808905558591227, 0.621861881415102, 0.9988786127947421, 0.0008950525204253962, 0.9996996820522677, 0.00050185727010656, 0.9976742352985416, 0.0023419582988228674, 0.9998460308493556, 0.0004639656755681465, 0.9990263821639778, 0.0009040962734515637], \"Term\": [\"\\uac00\\uaca9\", \"\\uac00\\uaca9\", \"\\uac00\\ub2a5\", \"\\uac00\\ub2a5\", \"\\uac00\\uc785\", \"\\uac00\\uc785\", \"\\uac1c\\ud1b5\", \"\\uac1c\\ud1b5\", \"\\uac24\\ub7ed\\uc2dc\", \"\\uac24\\ub7ed\\uc2dc\", \"\\uacb0\\uc81c\", \"\\uacb0\\uc81c\", \"\\uacbd\\uc81c\", \"\\uacbd\\uc81c\", \"\\uacc4\\uc88c\", \"\\uacc4\\uc88c\", \"\\uacc4\\ud68d\", \"\\uacc4\\ud68d\", \"\\uace0\\uac1d\", \"\\uace0\\uac1d\", \"\\uacf5\\uac1c\", \"\\uacf5\\uac1c\", \"\\uacf5\\uc2dc\", \"\\uacf5\\uc2dc\", \"\\uad00\\ub828\", \"\\uad00\\ub828\", \"\\uad6c\\ub9e4\", \"\\uad6c\\ub9e4\", \"\\uad6c\\ub9e4\\uc790\", \"\\uad6c\\ub9e4\\uc790\", \"\\uad6d\\ubbfc\", \"\\uad6d\\ubbfc\", \"\\uae30\\uac04\", \"\\uae30\\uac04\", \"\\uae30\\uae30\", \"\\uae30\\uae30\", \"\\uae30\\ubcc0\", \"\\uae30\\ubcc0\", \"\\uae30\\ubcf8\", \"\\uae30\\ubcf8\", \"\\uae30\\uc5c5\", \"\\uae30\\uc5c5\", \"\\uae30\\uc874\", \"\\uae30\\uc874\", \"\\uae30\\ud504\", \"\\uae30\\ud504\", \"\\uae30\\ud68d\", \"\\uae30\\ud68d\", \"\\ub178\\ud2b8\", \"\\ub178\\ud2b8\", \"\\ub514\\uc9c0\\ud138\", \"\\ub514\\uc9c0\\ud138\", \"\\ub86f\\ub370\\ub9c8\\ud2b8\", \"\\ub86f\\ub370\\ub9c8\\ud2b8\", \"\\ub9c8\\ucf13\", \"\\ub9c8\\ucf13\", \"\\ub9e4\\uc7a5\", \"\\ub9e4\\uc7a5\", \"\\ubaa8\\ub378\", \"\\ubaa8\\ub378\", \"\\ubc18\\ub0a9\", \"\\ubc18\\ub0a9\", \"\\ubc30\\uc1a1\", \"\\ubc30\\uc1a1\", \"\\ubc84\\uc988\", \"\\ubc84\\uc988\", \"\\ubc85\\uc2a4\", \"\\ubc85\\uc2a4\", \"\\ubcf4\\uc0c1\", \"\\ubcf4\\uc0c1\", \"\\ubcf8\\uc810\", \"\\ubcf8\\uc810\", \"\\ubd80\\ubb38\", \"\\ubd80\\ubb38\", \"\\uc0ac\\uc6a9\", \"\\uc0ac\\uc6a9\", \"\\uc0ac\\uc774\\ud074\", \"\\uc0ac\\uc774\\ud074\", \"\\uc0ac\\uc7a5\", \"\\uc0ac\\uc7a5\", \"\\uc0ac\\uc804\", \"\\uc0ac\\uc804\", \"\\uc0ac\\uc9c4\", \"\\uc0ac\\uc9c4\", \"\\uc0bc\\uc131\", \"\\uc0bc\\uc131\", \"\\uc0bc\\uc131\\uc804\\uc790\", \"\\uc0bc\\uc131\\uc804\\uc790\", \"\\uc0c8\\ubcbd\", \"\\uc0c8\\ubcbd\", \"\\uc0c9\\uc0c1\", \"\\uc0c9\\uc0c1\", \"\\uc0db\\ubcc4\", \"\\uc0db\\ubcc4\", \"\\uc124\\uce58\", \"\\uc124\\uce58\", \"\\uc131\\ub2a5\", \"\\uc131\\ub2a5\", \"\\uc218\\ub7c9\", \"\\uc218\\ub7c9\", \"\\uc218\\uc900\", \"\\uc218\\uc900\", \"\\uc21c\\ucc28\", \"\\uc21c\\ucc28\", \"\\uc2a4\\ub9c8\\ud2b8\\ud3f0\", \"\\uc2a4\\ub9c8\\ud2b8\\ud3f0\", \"\\uc2a4\\ud0c0\", \"\\uc2a4\\ud0c0\", \"\\uc2a4\\ud398\\uc15c\", \"\\uc2a4\\ud398\\uc15c\", \"\\uc2dc\\ub9ac\\uc988\", \"\\uc2dc\\ub9ac\\uc988\", \"\\uc2dc\\uc138\", \"\\uc2dc\\uc138\", \"\\uc2e0\\uaddc\", \"\\uc2e0\\uaddc\", \"\\uc2e0\\uc791\", \"\\uc2e0\\uc791\", \"\\uc2e0\\uc81c\\ud488\", \"\\uc2e0\\uc81c\\ud488\", \"\\uc2e0\\ud55c\", \"\\uc2e0\\ud55c\", \"\\uc548\\ub0b4\", \"\\uc548\\ub0b4\", \"\\uc608\\uc57d\", \"\\uc608\\uc57d\", \"\\uc624\\uc804\", \"\\uc624\\uc804\", \"\\uc628\\ub77c\\uc778\", \"\\uc628\\ub77c\\uc778\", \"\\uc694\\uae08\\uc81c\", \"\\uc694\\uae08\\uc81c\", \"\\uc6a9\\ub7c9\", \"\\uc6a9\\ub7c9\", \"\\uc6b4\\uc601\", \"\\uc6b4\\uc601\", \"\\uc6b8\\ud2b8\\ub77c\", \"\\uc6b8\\ud2b8\\ub77c\", \"\\uc704\\uce58\", \"\\uc704\\uce58\", \"\\uc774\\ub2ec\", \"\\uc774\\ub2ec\", \"\\uc774\\ub9c8\\ud2b8\", \"\\uc774\\ub9c8\\ud2b8\", \"\\uc774\\ubca4\\ud2b8\", \"\\uc774\\ubca4\\ud2b8\", \"\\uc774\\uc6a9\", \"\\uc774\\uc6a9\", \"\\uc778\\uce58\", \"\\uc778\\uce58\", \"\\uc790\\uae09\", \"\\uc790\\uae09\", \"\\uc801\\ub9bd\\uae08\", \"\\uc801\\ub9bd\\uae08\", \"\\uc804\\uad6d\", \"\\uc804\\uad6d\", \"\\uc804\\uc791\", \"\\uc804\\uc791\", \"\\uc808\\ubc18\", \"\\uc808\\ubc18\", \"\\uc815\\uc0c1\", \"\\uc815\\uc0c1\", \"\\uc81c\\uacf5\", \"\\uc81c\\uacf5\", \"\\uc81c\\ud488\", \"\\uc81c\\ud488\", \"\\uc81c\\ud734\", \"\\uc81c\\ud734\", \"\\uc8fc\\ubb38\", \"\\uc8fc\\ubb38\", \"\\uc900\\ube44\", \"\\uc900\\ube44\", \"\\uc9c0\\uc5ed\", \"\\uc9c0\\uc5ed\", \"\\uc9c0\\uc6d0\\uae08\", \"\\uc9c0\\uc6d0\\uae08\", \"\\uc9c4\\ud589\", \"\\uc9c4\\ud589\", \"\\ucc38\\uc5ec\", \"\\ucc38\\uc5ec\", \"\\ucd5c\\ub300\", \"\\ucd5c\\ub300\", \"\\ucd94\\uac00\", \"\\ucd94\\uac00\", \"\\ucd94\\ucca8\", \"\\ucd94\\ucca8\", \"\\ucd9c\\uc2dc\", \"\\ucd9c\\uc2dc\", \"\\uce74\\ub4dc\", \"\\uce74\\ub4dc\", \"\\uce74\\uba54\\ub77c\", \"\\uce74\\uba54\\ub77c\", \"\\uceec\\ub9ac\", \"\\uceec\\ub9ac\", \"\\ud1a0\\uc2a4\", \"\\ud1a0\\uc2a4\", \"\\ud1b5\\uc2e0\\uc0ac\", \"\\ud1b5\\uc2e0\\uc0ac\", \"\\ud2b9\\ubcc4\", \"\\ud2b9\\ubcc4\", \"\\ud310\\ub9e4\", \"\\ud310\\ub9e4\", \"\\ud504\\ub77c\\uc790\", \"\\ud504\\ub77c\\uc790\", \"\\ud504\\ub85c\\uadf8\\ub7a8\", \"\\ud504\\ub85c\\uadf8\\ub7a8\", \"\\ud50c\\ub7ec\\uc2a4\", \"\\ud50c\\ub7ec\\uc2a4\", \"\\ud55c\\uc815\", \"\\ud55c\\uc815\", \"\\ud560\\uc778\", \"\\ud560\\uc778\", \"\\ud589\\uc0ac\", \"\\ud589\\uc0ac\", \"\\ud61c\\ud0dd\", \"\\ud61c\\ud0dd\", \"\\ud648\\ud398\\uc774\\uc9c0\", \"\\ud648\\ud398\\uc774\\uc9c0\", \"\\ud64d\\ub300\", \"\\ud64d\\ub300\", \"\\ud655\\ub300\", \"\\ud655\\ub300\", \"\\ud655\\uc778\", \"\\ud655\\uc778\", \"\\ud734\\ub300\\ud3f0\", \"\\ud734\\ub300\\ud3f0\"]}, \"R\": 30, \"lambda.step\": 0.01, \"plot.opts\": {\"xlab\": \"PC1\", \"ylab\": \"PC2\"}, \"topic.order\": [2, 1]};\n",
              "\n",
              "function LDAvis_load_lib(url, callback){\n",
              "  var s = document.createElement('script');\n",
              "  s.src = url;\n",
              "  s.async = true;\n",
              "  s.onreadystatechange = s.onload = callback;\n",
              "  s.onerror = function(){console.warn(\"failed to load library \" + url);};\n",
              "  document.getElementsByTagName(\"head\")[0].appendChild(s);\n",
              "}\n",
              "\n",
              "if(typeof(LDAvis) !== \"undefined\"){\n",
              "   // already loaded: just create the visualization\n",
              "   !function(LDAvis){\n",
              "       new LDAvis(\"#\" + \"ldavis_el77641404147260864327308464584\", ldavis_el77641404147260864327308464584_data);\n",
              "   }(LDAvis);\n",
              "}else if(typeof define === \"function\" && define.amd){\n",
              "   // require.js is available: use it to load d3/LDAvis\n",
              "   require.config({paths: {d3: \"https://d3js.org/d3.v5\"}});\n",
              "   require([\"d3\"], function(d3){\n",
              "      window.d3 = d3;\n",
              "      LDAvis_load_lib(\"https://cdn.jsdelivr.net/gh/bmabey/pyLDAvis/pyLDAvis/js/ldavis.v3.0.0.js\", function(){\n",
              "        new LDAvis(\"#\" + \"ldavis_el77641404147260864327308464584\", ldavis_el77641404147260864327308464584_data);\n",
              "      });\n",
              "    });\n",
              "}else{\n",
              "    // require.js not available: dynamically load d3 & LDAvis\n",
              "    LDAvis_load_lib(\"https://d3js.org/d3.v5.js\", function(){\n",
              "         LDAvis_load_lib(\"https://cdn.jsdelivr.net/gh/bmabey/pyLDAvis/pyLDAvis/js/ldavis.v3.0.0.js\", function(){\n",
              "                 new LDAvis(\"#\" + \"ldavis_el77641404147260864327308464584\", ldavis_el77641404147260864327308464584_data);\n",
              "            })\n",
              "         });\n",
              "}\n",
              "</script>"
            ]
          },
          "metadata": {},
          "execution_count": 20
        }
      ]
    },
    {
      "cell_type": "code",
      "metadata": {
        "id": "NQQy6TBsBFgQ"
      },
      "source": [],
      "execution_count": 20,
      "outputs": []
    }
  ]
}