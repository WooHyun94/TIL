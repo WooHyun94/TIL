{
  "nbformat": 4,
  "nbformat_minor": 0,
  "metadata": {
    "colab": {
      "provenance": [],
      "machine_shape": "hm"
    },
    "kernelspec": {
      "name": "python3",
      "display_name": "Python 3"
    },
    "language_info": {
      "name": "python"
    },
    "accelerator": "GPU",
    "gpuClass": "premium"
  },
  "cells": [
    {
      "cell_type": "markdown",
      "source": [
        "### **Deep Learning Track. Mini PJT - CIFAR100 classification**\n",
        "\n",
        "\n",
        "저희는 수업시간에 CIFAR10을 분류하는 문제를 풀어보았습니다.\n",
        "\n",
        "이 때 까지 배운 모든 방법을 사용하여, CIFAR100 데이터셋을 100가지로 분류하는 문제를 풀어보세요.\n",
        "프로젝트를 수행할 때, 다음 조건들을 만족하여야 합니다.\n",
        "\n",
        "----\n",
        "\n",
        "1.  MLP, (Vanilla)CNN, ResNet50 중에 2개의 모델을 골라서 구현합니다.\n",
        "\n",
        "\n",
        "2. 각 모델을 design하여 (hyper-parameter를 세팅) 구현합니다.\n",
        "\n",
        "\n",
        "3. Validation Accuracy 기준 0.4를 넘기는 모델과 학습 세팅을 찾습니다.\n",
        "\n",
        "----\n",
        "\n",
        "> 모델을 구현하고 성능을 올리기 위한 팁들을 몇 가지 소개합니다.\n",
        "\n",
        "- learning rate가 optimization에 가장 큰 영향을 끼칩니다. 다양한 숫자를 테스트해보세요.\n",
        "\n",
        "\n",
        "- 처음에 학습이 잘되는 세팅을 찾기 위해서는 10 epoch 정도로 초반 학습 성능이 잘나오는지 확인하는게 중요합니다. (val acc도 포함)\n",
        "\n",
        "\n",
        "- 초반 학습 성능이 잘 나왔다면, epochs를 늘려서 학습이 잘되는지 확인합니다.\n",
        "\n",
        "\n",
        "- epoch를 늘려도 한계에 도달했다면, overfitting이 되었는지 아닌지 확인합니다.\n",
        "\n",
        "\n",
        "- overfitting이 되었다면, 여러 regularization 기법들이 도움이 될 겁니다. e.g. tensorflow.keras.layers.Dropout\n",
        "\n",
        "\n",
        "- batch size도 바꿔보세요. batch size가 full-batch에 가까울 수록, 속도는 느려지지만 optimizer의 방향은 최적의 값을 향합니다.\n",
        "\n",
        "\n",
        "- MLP나 CNN을 구현하고 있다면, 모델의 크기를 바꿔보세요. 파라미터가 많을 수록, 학습할 수 있는 정보가 많아집니다."
      ],
      "metadata": {
        "id": "B_Tl5owl6lrD"
      }
    },
    {
      "cell_type": "code",
      "execution_count": 1,
      "metadata": {
        "id": "Tifm1-8CPohp"
      },
      "outputs": [],
      "source": [
        "# Import Libraries\n",
        "import numpy as np\n",
        "import tensorflow as tf\n",
        "import random\n",
        "import os\n",
        "\n",
        "# cifar10과 keras layer들 불러오기\n",
        "from tensorflow.keras.datasets import cifar100\n",
        "from tensorflow.keras.layers import Dense, Input, Flatten, Conv2D, MaxPool2D, Dropout\n",
        "from tensorflow.keras import Sequential"
      ]
    },
    {
      "cell_type": "code",
      "source": [
        "## mini batch 데이터의 변경을 막기 위한 random seed 고정\n",
        "def seed_everything(seed: int = 42):\n",
        "    random.seed(seed)\n",
        "    np.random.seed(seed)\n",
        "    os.environ[\"PYTHONHASHSEED\"] = str(seed)\n",
        "    tf.random.set_seed(seed)\n",
        "    \n",
        "seed_everything(0xC0FFEE)"
      ],
      "metadata": {
        "id": "mbRqrmpgN--E"
      },
      "execution_count": 2,
      "outputs": []
    },
    {
      "cell_type": "code",
      "source": [
        "# Load Datasets\n",
        "(X_train, y_train), (X_test, y_test) = cifar100.load_data()\n",
        "print(X_train.shape) # 4차원 Tensor\n",
        "print(X_test.shape)"
      ],
      "metadata": {
        "colab": {
          "base_uri": "https://localhost:8080/"
        },
        "id": "B_DfrD71RMbU",
        "outputId": "3815684f-b7e9-4c32-84bc-e826d67017c9"
      },
      "execution_count": 3,
      "outputs": [
        {
          "output_type": "stream",
          "name": "stdout",
          "text": [
            "(50000, 32, 32, 3)\n",
            "(10000, 32, 32, 3)\n"
          ]
        }
      ]
    },
    {
      "cell_type": "markdown",
      "source": [
        "### Preprocessing\n",
        "\n",
        "1. Normalization (v)\n",
        "\n",
        "\n",
        "2. Standardization"
      ],
      "metadata": {
        "id": "IT7FBbGUd2cT"
      }
    },
    {
      "cell_type": "code",
      "source": [
        "preprocessing = \"standard\" # \"standard\"\n",
        "debug_mode = False"
      ],
      "metadata": {
        "id": "Rfm1_ozF012R"
      },
      "execution_count": 4,
      "outputs": []
    },
    {
      "cell_type": "code",
      "source": [
        "# Normalization (Minmax scaling)\n",
        "if preprocessing == \"normalize\":\n",
        "    X_train = X_train.astype(np.float32) / 255.0\n",
        "    X_test = X_test.astype(np.float32) / 255."
      ],
      "metadata": {
        "id": "VZNehz43MBcX"
      },
      "execution_count": 5,
      "outputs": []
    },
    {
      "cell_type": "code",
      "source": [
        "# Standarization\n",
        "if preprocessing == \"standard\":\n",
        "    if debug_mode:\n",
        "        print(\"-- Before --\")\n",
        "        print(\"Training data\\n\", X_train[0])\n",
        "\n",
        "    img_mean = np.mean(X_train, axis=0)\n",
        "    img_std = np.std(X_train, axis=0)\n",
        "\n",
        "    if debug_mode:\n",
        "        print(img_mean.shape)\n",
        "        print(img_std.shape)\n",
        "\n",
        "        print(\"mean : \", np.mean(X_train)) # through data\n",
        "        print(\"std : \", np.std(X_train))\n",
        "\n",
        "    # Scaling\n",
        "    X_train = X_train.astype(np.float32) - img_mean\n",
        "    X_train = X_train.astype(np.float32) / img_std\n",
        "\n",
        "    if debug_mode:\n",
        "        print(\"\\n\\n-- After --\")\n",
        "        #print(\"Training data\\n\", X_train[0])\n",
        "        print(\"mean : \", np.mean(X_train))\n",
        "        print(\"std : \", np.std(X_train))\n",
        "    \n",
        "    # Scaling\n",
        "    X_test = X_test.astype(np.float32) - img_mean\n",
        "    X_test = X_test.astype(np.float32) / img_std"
      ],
      "metadata": {
        "id": "CZKZtwk9Rmm4"
      },
      "execution_count": 6,
      "outputs": []
    },
    {
      "cell_type": "code",
      "source": [
        "X_train[0]"
      ],
      "metadata": {
        "colab": {
          "base_uri": "https://localhost:8080/"
        },
        "id": "ehMNv8-wKmSo",
        "outputId": "9a8d0fe0-12ad-40f4-cfdb-2190ce879542"
      },
      "execution_count": 7,
      "outputs": [
        {
          "output_type": "execute_result",
          "data": {
            "text/plain": [
              "array([[[ 1.53251193,  1.51296775,  1.44629107],\n",
              "        [ 1.55153995,  1.53377838,  1.46330664],\n",
              "        [ 1.54591772,  1.53056499,  1.45879109],\n",
              "        ...,\n",
              "        [ 0.77055431,  0.86360549,  0.70122931],\n",
              "        [ 0.99200195,  1.11709595,  0.83759357],\n",
              "        [ 0.6147392 ,  0.72577384,  0.39293219]],\n",
              "\n",
              "       [[ 1.55410443,  1.53796805,  1.46989723],\n",
              "        [ 1.56471202,  1.55032771,  1.47822947],\n",
              "        [ 1.56327365,  1.55217166,  1.47830967],\n",
              "        ...,\n",
              "        [ 0.4680204 ,  0.5008764 ,  0.19913396],\n",
              "        [ 0.35755549,  0.39788889, -0.04194801],\n",
              "        [ 0.16715592,  0.213365  , -0.24865682]],\n",
              "\n",
              "       [[ 1.56348386,  1.55198186,  1.4862925 ],\n",
              "        [ 1.57694682,  1.56863003,  1.49818036],\n",
              "        [ 1.59390365,  1.58947671,  1.5161559 ],\n",
              "        ...,\n",
              "        [ 0.72568033,  0.82667946,  0.45002623],\n",
              "        [ 0.42875599,  0.54280933, -0.03044805],\n",
              "        [-0.15475149, -0.06264002, -0.56121994]],\n",
              "\n",
              "       ...,\n",
              "\n",
              "       [[ 0.26914654,  0.81025376, -0.47233305],\n",
              "        [ 0.20957039,  0.80589112, -0.74917764],\n",
              "        [ 0.18516714,  0.77945005, -0.70835603],\n",
              "        ...,\n",
              "        [-1.32334716, -1.52664718, -1.5018074 ],\n",
              "        [-0.83818374, -0.88513003, -1.30916054],\n",
              "        [-0.68674138, -0.6768239 , -1.24219837]],\n",
              "\n",
              "       [[-0.0842574 ,  0.41150935, -0.6466115 ],\n",
              "        [-0.09816303,  0.40880214, -0.73981459],\n",
              "        [-0.02051041,  0.48461057, -0.56838745],\n",
              "        ...,\n",
              "        [-1.43313289, -1.54145868, -1.47677134],\n",
              "        [-0.40933884, -0.19105953, -0.76603944],\n",
              "        [ 0.18119164,  0.48222709, -0.36080268]],\n",
              "\n",
              "       [[-0.55194976, -0.07853356, -0.97734185],\n",
              "        [-0.53817686, -0.06754838, -1.00186273],\n",
              "        [-0.37405539,  0.09569437, -0.7837146 ],\n",
              "        ...,\n",
              "        [-1.27988424, -1.27022379, -1.3953971 ],\n",
              "        [-0.31169136,  0.08633714, -0.73839409],\n",
              "        [ 0.13212066,  0.63384494, -0.47497975]]])"
            ]
          },
          "metadata": {},
          "execution_count": 7
        }
      ]
    },
    {
      "cell_type": "markdown",
      "source": [
        "### Training with Vanilla CNN\n",
        "\n",
        "**Model Architecture**\n",
        "\n",
        "> Conv - Relu - Conv - Relu - Pool - Conv - Relu - Conv - Relu - Pool - FC - Softmax"
      ],
      "metadata": {
        "id": "GDNHTBpQTnoQ"
      }
    },
    {
      "cell_type": "code",
      "source": [
        "# 위의 Vanilla CNN 구조를 직접 구현해봅니다.\n",
        "\n",
        "model = Sequential([\n",
        "    Input(shape=(32, 32, 3)),\n",
        "    Conv2D(filters=8, kernel_size=3, strides=1, padding='same', activation='relu'),\n",
        "    Conv2D(filters=16, kernel_size=3, strides=1, padding='same', activation='relu'),\n",
        "    MaxPool2D(pool_size=2),\n",
        "    Conv2D(24, 3, 1, padding='same', activation='relu'),\n",
        "    Conv2D(48, 3, 1, padding='same', activation='relu'),\n",
        "    MaxPool2D(2),\n",
        "    Flatten(),\n",
        "    Dropout(0.4),\n",
        "    Dense(1024, activation='relu'),\n",
        "    Dropout(0.4),\n",
        "    Dense(100, activation='softmax') # softmax\n",
        "])\n",
        "\n",
        "model.summary()"
      ],
      "metadata": {
        "id": "0Bu7msHoSQv5",
        "colab": {
          "base_uri": "https://localhost:8080/"
        },
        "outputId": "d62bbee0-1373-4f43-b198-d0e65420f972"
      },
      "execution_count": 8,
      "outputs": [
        {
          "output_type": "stream",
          "name": "stdout",
          "text": [
            "Model: \"sequential\"\n",
            "_________________________________________________________________\n",
            " Layer (type)                Output Shape              Param #   \n",
            "=================================================================\n",
            " conv2d (Conv2D)             (None, 32, 32, 8)         224       \n",
            "                                                                 \n",
            " conv2d_1 (Conv2D)           (None, 32, 32, 16)        1168      \n",
            "                                                                 \n",
            " max_pooling2d (MaxPooling2D  (None, 16, 16, 16)       0         \n",
            " )                                                               \n",
            "                                                                 \n",
            " conv2d_2 (Conv2D)           (None, 16, 16, 24)        3480      \n",
            "                                                                 \n",
            " conv2d_3 (Conv2D)           (None, 16, 16, 48)        10416     \n",
            "                                                                 \n",
            " max_pooling2d_1 (MaxPooling  (None, 8, 8, 48)         0         \n",
            " 2D)                                                             \n",
            "                                                                 \n",
            " flatten (Flatten)           (None, 3072)              0         \n",
            "                                                                 \n",
            " dropout (Dropout)           (None, 3072)              0         \n",
            "                                                                 \n",
            " dense (Dense)               (None, 1024)              3146752   \n",
            "                                                                 \n",
            " dropout_1 (Dropout)         (None, 1024)              0         \n",
            "                                                                 \n",
            " dense_1 (Dense)             (None, 100)               102500    \n",
            "                                                                 \n",
            "=================================================================\n",
            "Total params: 3,264,540\n",
            "Trainable params: 3,264,540\n",
            "Non-trainable params: 0\n",
            "_________________________________________________________________\n"
          ]
        }
      ]
    },
    {
      "cell_type": "code",
      "source": [
        "# training setup\n",
        "from tensorflow.keras.optimizers import SGD, Adam\n",
        "from tensorflow.keras.callbacks import LearningRateScheduler, ModelCheckpoint\n",
        "\n",
        "# val_loss 기준 체크포인터도 생성합니다.\n",
        "cnn_filename = \"CNN_best_model.ckpt\"\n",
        "checkpoint = ModelCheckpoint(cnn_filename, \n",
        "                             save_weights_only=True,\n",
        "                             save_best_only=True,\n",
        "                             monitor='val_loss',\n",
        "                             verbose=1)\n",
        "\n",
        "\n",
        "## config variables\n",
        "batch_size = 128\n",
        "lr = 1e-3\n",
        "epochs = 30\n",
        "\n",
        "# learning rate를 업데이트 해보려고 합니다.\n",
        "def scheduler(epoch, learning_rate):\n",
        "    if epoch < 25:\n",
        "        return learning_rate\n",
        "    elif epoch < 50:\n",
        "        return lr/10\n",
        "    elif epoch < 75:\n",
        "        return lr/50\n",
        "    else:\n",
        "        return lr/100    \n",
        "\n",
        "# Set optimizer, loss function, metrics, callback function\n",
        "#optimizer = SGD(learning_rate=lr, momentum=0.9) # Momentum optimizer \n",
        "optimizer = Adam(learning_rate=lr)\n",
        "loss_fn = 'sparse_categorical_crossentropy' # multi-class classification\n",
        "metrics = ['accuracy']\n",
        "lr_callback = LearningRateScheduler(scheduler)\n",
        "\n",
        "model.compile(optimizer=optimizer,\n",
        "              loss=loss_fn,\n",
        "              metrics=metrics)"
      ],
      "metadata": {
        "id": "5cKYHdiUlyTy"
      },
      "execution_count": 9,
      "outputs": []
    },
    {
      "cell_type": "code",
      "source": [
        "# model training\n",
        "# 한번만 직접 해봅시다!\n",
        "\n",
        "history = model.fit(x=X_train,\n",
        "                    y=y_train,\n",
        "                    batch_size=batch_size,\n",
        "                    epochs=epochs,\n",
        "                    verbose=2,\n",
        "                    callbacks=[lr_callback, checkpoint],\n",
        "                    validation_data=(X_test, y_test))"
      ],
      "metadata": {
        "id": "u3E2WHWcmmTg",
        "colab": {
          "base_uri": "https://localhost:8080/"
        },
        "outputId": "1df759b7-0d78-4c3a-a210-b6c781c637b7"
      },
      "execution_count": 10,
      "outputs": [
        {
          "output_type": "stream",
          "name": "stdout",
          "text": [
            "Epoch 1/30\n",
            "\n",
            "Epoch 1: val_loss improved from inf to 3.10443, saving model to CNN_best_model.ckpt\n",
            "391/391 - 9s - loss: 3.7053 - accuracy: 0.1446 - val_loss: 3.1044 - val_accuracy: 0.2557 - lr: 0.0010 - 9s/epoch - 22ms/step\n",
            "Epoch 2/30\n",
            "\n",
            "Epoch 2: val_loss improved from 3.10443 to 2.71761, saving model to CNN_best_model.ckpt\n",
            "391/391 - 4s - loss: 2.9698 - accuracy: 0.2712 - val_loss: 2.7176 - val_accuracy: 0.3260 - lr: 0.0010 - 4s/epoch - 11ms/step\n",
            "Epoch 3/30\n",
            "\n",
            "Epoch 3: val_loss improved from 2.71761 to 2.51223, saving model to CNN_best_model.ckpt\n",
            "391/391 - 4s - loss: 2.6156 - accuracy: 0.3391 - val_loss: 2.5122 - val_accuracy: 0.3689 - lr: 0.0010 - 4s/epoch - 10ms/step\n",
            "Epoch 4/30\n",
            "\n",
            "Epoch 4: val_loss improved from 2.51223 to 2.41616, saving model to CNN_best_model.ckpt\n",
            "391/391 - 3s - loss: 2.3723 - accuracy: 0.3885 - val_loss: 2.4162 - val_accuracy: 0.3906 - lr: 0.0010 - 3s/epoch - 8ms/step\n",
            "Epoch 5/30\n",
            "\n",
            "Epoch 5: val_loss improved from 2.41616 to 2.35586, saving model to CNN_best_model.ckpt\n",
            "391/391 - 3s - loss: 2.1709 - accuracy: 0.4324 - val_loss: 2.3559 - val_accuracy: 0.3999 - lr: 0.0010 - 3s/epoch - 8ms/step\n",
            "Epoch 6/30\n",
            "\n",
            "Epoch 6: val_loss improved from 2.35586 to 2.27274, saving model to CNN_best_model.ckpt\n",
            "391/391 - 3s - loss: 1.9956 - accuracy: 0.4671 - val_loss: 2.2727 - val_accuracy: 0.4118 - lr: 0.0010 - 3s/epoch - 8ms/step\n",
            "Epoch 7/30\n",
            "\n",
            "Epoch 7: val_loss did not improve from 2.27274\n",
            "391/391 - 3s - loss: 1.8266 - accuracy: 0.5057 - val_loss: 2.2748 - val_accuracy: 0.4200 - lr: 0.0010 - 3s/epoch - 8ms/step\n",
            "Epoch 8/30\n",
            "\n",
            "Epoch 8: val_loss improved from 2.27274 to 2.24049, saving model to CNN_best_model.ckpt\n",
            "391/391 - 3s - loss: 1.6881 - accuracy: 0.5350 - val_loss: 2.2405 - val_accuracy: 0.4305 - lr: 0.0010 - 3s/epoch - 8ms/step\n",
            "Epoch 9/30\n",
            "\n",
            "Epoch 9: val_loss did not improve from 2.24049\n",
            "391/391 - 3s - loss: 1.5606 - accuracy: 0.5639 - val_loss: 2.2462 - val_accuracy: 0.4363 - lr: 0.0010 - 3s/epoch - 8ms/step\n",
            "Epoch 10/30\n",
            "\n",
            "Epoch 10: val_loss improved from 2.24049 to 2.23217, saving model to CNN_best_model.ckpt\n",
            "391/391 - 4s - loss: 1.4271 - accuracy: 0.5944 - val_loss: 2.2322 - val_accuracy: 0.4349 - lr: 0.0010 - 4s/epoch - 10ms/step\n",
            "Epoch 11/30\n",
            "\n",
            "Epoch 11: val_loss did not improve from 2.23217\n",
            "391/391 - 3s - loss: 1.3249 - accuracy: 0.6204 - val_loss: 2.2502 - val_accuracy: 0.4392 - lr: 0.0010 - 3s/epoch - 8ms/step\n",
            "Epoch 12/30\n",
            "\n",
            "Epoch 12: val_loss did not improve from 2.23217\n",
            "391/391 - 3s - loss: 1.2497 - accuracy: 0.6362 - val_loss: 2.3015 - val_accuracy: 0.4302 - lr: 0.0010 - 3s/epoch - 8ms/step\n",
            "Epoch 13/30\n",
            "\n",
            "Epoch 13: val_loss did not improve from 2.23217\n",
            "391/391 - 3s - loss: 1.1562 - accuracy: 0.6620 - val_loss: 2.3202 - val_accuracy: 0.4287 - lr: 0.0010 - 3s/epoch - 8ms/step\n",
            "Epoch 14/30\n",
            "\n",
            "Epoch 14: val_loss did not improve from 2.23217\n",
            "391/391 - 3s - loss: 1.0902 - accuracy: 0.6791 - val_loss: 2.3042 - val_accuracy: 0.4370 - lr: 0.0010 - 3s/epoch - 9ms/step\n",
            "Epoch 15/30\n",
            "\n",
            "Epoch 15: val_loss did not improve from 2.23217\n",
            "391/391 - 3s - loss: 1.0393 - accuracy: 0.6910 - val_loss: 2.3479 - val_accuracy: 0.4307 - lr: 0.0010 - 3s/epoch - 8ms/step\n",
            "Epoch 16/30\n",
            "\n",
            "Epoch 16: val_loss did not improve from 2.23217\n",
            "391/391 - 3s - loss: 0.9792 - accuracy: 0.7070 - val_loss: 2.3686 - val_accuracy: 0.4322 - lr: 0.0010 - 3s/epoch - 8ms/step\n",
            "Epoch 17/30\n",
            "\n",
            "Epoch 17: val_loss did not improve from 2.23217\n",
            "391/391 - 3s - loss: 0.9183 - accuracy: 0.7246 - val_loss: 2.3953 - val_accuracy: 0.4340 - lr: 0.0010 - 3s/epoch - 8ms/step\n",
            "Epoch 18/30\n",
            "\n",
            "Epoch 18: val_loss did not improve from 2.23217\n",
            "391/391 - 3s - loss: 0.8955 - accuracy: 0.7292 - val_loss: 2.3769 - val_accuracy: 0.4369 - lr: 0.0010 - 3s/epoch - 8ms/step\n",
            "Epoch 19/30\n",
            "\n",
            "Epoch 19: val_loss did not improve from 2.23217\n",
            "391/391 - 3s - loss: 0.8505 - accuracy: 0.7424 - val_loss: 2.4090 - val_accuracy: 0.4348 - lr: 0.0010 - 3s/epoch - 8ms/step\n",
            "Epoch 20/30\n",
            "\n",
            "Epoch 20: val_loss did not improve from 2.23217\n",
            "391/391 - 3s - loss: 0.8146 - accuracy: 0.7513 - val_loss: 2.4608 - val_accuracy: 0.4323 - lr: 0.0010 - 3s/epoch - 8ms/step\n",
            "Epoch 21/30\n",
            "\n",
            "Epoch 21: val_loss did not improve from 2.23217\n",
            "391/391 - 3s - loss: 0.7979 - accuracy: 0.7574 - val_loss: 2.4691 - val_accuracy: 0.4230 - lr: 0.0010 - 3s/epoch - 8ms/step\n",
            "Epoch 22/30\n",
            "\n",
            "Epoch 22: val_loss did not improve from 2.23217\n",
            "391/391 - 3s - loss: 0.7620 - accuracy: 0.7692 - val_loss: 2.4749 - val_accuracy: 0.4360 - lr: 0.0010 - 3s/epoch - 9ms/step\n",
            "Epoch 23/30\n",
            "\n",
            "Epoch 23: val_loss did not improve from 2.23217\n",
            "391/391 - 4s - loss: 0.7333 - accuracy: 0.7758 - val_loss: 2.4913 - val_accuracy: 0.4313 - lr: 0.0010 - 4s/epoch - 9ms/step\n",
            "Epoch 24/30\n",
            "\n",
            "Epoch 24: val_loss did not improve from 2.23217\n",
            "391/391 - 3s - loss: 0.7090 - accuracy: 0.7832 - val_loss: 2.4772 - val_accuracy: 0.4314 - lr: 0.0010 - 3s/epoch - 8ms/step\n",
            "Epoch 25/30\n",
            "\n",
            "Epoch 25: val_loss did not improve from 2.23217\n",
            "391/391 - 3s - loss: 0.6998 - accuracy: 0.7855 - val_loss: 2.5135 - val_accuracy: 0.4330 - lr: 0.0010 - 3s/epoch - 8ms/step\n",
            "Epoch 26/30\n",
            "\n",
            "Epoch 26: val_loss did not improve from 2.23217\n",
            "391/391 - 3s - loss: 0.5358 - accuracy: 0.8322 - val_loss: 2.5036 - val_accuracy: 0.4429 - lr: 1.0000e-04 - 3s/epoch - 8ms/step\n",
            "Epoch 27/30\n",
            "\n",
            "Epoch 27: val_loss did not improve from 2.23217\n",
            "391/391 - 3s - loss: 0.5013 - accuracy: 0.8449 - val_loss: 2.5117 - val_accuracy: 0.4439 - lr: 1.0000e-04 - 3s/epoch - 8ms/step\n",
            "Epoch 28/30\n",
            "\n",
            "Epoch 28: val_loss did not improve from 2.23217\n",
            "391/391 - 3s - loss: 0.4802 - accuracy: 0.8482 - val_loss: 2.5291 - val_accuracy: 0.4446 - lr: 1.0000e-04 - 3s/epoch - 8ms/step\n",
            "Epoch 29/30\n",
            "\n",
            "Epoch 29: val_loss did not improve from 2.23217\n",
            "391/391 - 3s - loss: 0.4746 - accuracy: 0.8516 - val_loss: 2.5353 - val_accuracy: 0.4463 - lr: 1.0000e-04 - 3s/epoch - 8ms/step\n",
            "Epoch 30/30\n",
            "\n",
            "Epoch 30: val_loss did not improve from 2.23217\n",
            "391/391 - 3s - loss: 0.4604 - accuracy: 0.8550 - val_loss: 2.5560 - val_accuracy: 0.4502 - lr: 1.0000e-04 - 3s/epoch - 8ms/step\n"
          ]
        }
      ]
    },
    {
      "cell_type": "code",
      "source": [
        "# evaluate\n",
        "loss, acc = model.evaluate(X_test, y_test, batch_size=batch_size)\n",
        "print(\"Loss : %.4f, Accuracy : %.4f\" % (loss, acc))"
      ],
      "metadata": {
        "id": "Pf-qRnKQnvIw",
        "colab": {
          "base_uri": "https://localhost:8080/"
        },
        "outputId": "de0ae2ff-d339-453c-942d-ab4e7ffe9153"
      },
      "execution_count": 11,
      "outputs": [
        {
          "output_type": "stream",
          "name": "stdout",
          "text": [
            "79/79 [==============================] - 0s 5ms/step - loss: 2.5560 - accuracy: 0.4502\n",
            "Loss : 2.5560, Accuracy : 0.4502\n"
          ]
        }
      ]
    },
    {
      "cell_type": "code",
      "source": [
        "## loss visualize\n",
        "import matplotlib.pyplot as plt\n",
        "\n",
        "plt.figure(figsize=(8,4))\n",
        "plt.subplot(1, 2,1)\n",
        "plt.plot(history.history['loss'],'b-', label = \"training\")\n",
        "plt.plot(history.history['val_loss'], 'r:', label = \"validation\")\n",
        "plt.title(\"model - loss\")\n",
        "plt.legend()\n",
        "\n",
        "plt.subplot(1, 2, 2)\n",
        "plt.title(\"model - accuracy\")\n",
        "\n",
        "plt.plot(history.history['accuracy'], 'b-', label = \"training\")\n",
        "plt.plot(history.history['val_accuracy'], 'r:', label = \"validation\")\n",
        "\n",
        "plt.legend()\n",
        "plt.tight_layout()\n",
        "plt.show()"
      ],
      "metadata": {
        "id": "8vquJ73VwGfN",
        "colab": {
          "base_uri": "https://localhost:8080/",
          "height": 297
        },
        "outputId": "f729f82d-8e9e-477a-ac48-f0ee8ccaa793"
      },
      "execution_count": 12,
      "outputs": [
        {
          "output_type": "display_data",
          "data": {
            "text/plain": [
              "<Figure size 576x288 with 2 Axes>"
            ],
            "image/png": "[encoded data removed]"
          },
          "metadata": {
            "needs_background": "light"
          }
        }
      ]
    },
    {
      "cell_type": "markdown",
      "source": [
        "### 이번엔 ResNet50를 사용해봅시다.\n",
        "\n",
        "- ResNet50을 사용하기 위해서는 keras에 구현되어 있는 ResNet50 구조를 가져옵니다.\n",
        "\n",
        "- pretrained를 가져오는 경우도 있지만, 지금은 ImageNet 세팅이 아니므로 구조만 가져옵니다.(input이 완전히 다름)\n",
        "\n",
        "- Reference : https://keras.io/api/applications/resnet/#resnet50-function"
      ],
      "metadata": {
        "id": "VKM4krVgy0jD"
      }
    },
    {
      "cell_type": "code",
      "source": [
        "# load ResNet50\n",
        "from tensorflow.keras.applications import ResNet50\n",
        "\n",
        "resnet = ResNet50(\n",
        "    include_top=True,        # classification : True,  embedding : False\n",
        "    weights=None,             # ImageNet pretrained : True, else : None\n",
        "    input_shape=(32, 32, 3),  # if not pretrained, you must specify.\n",
        "    pooling='max',\n",
        "    classes=100,               # number of classes\n",
        "    classifier_activation='softmax'    # output function\n",
        ")"
      ],
      "metadata": {
        "id": "1qTVUYFExQ3x"
      },
      "execution_count": 13,
      "outputs": []
    },
    {
      "cell_type": "code",
      "source": [
        "# see ResNet50 model\n",
        "#resnet.summary()"
      ],
      "metadata": {
        "id": "JLQdDl8B1GxJ"
      },
      "execution_count": 14,
      "outputs": []
    },
    {
      "cell_type": "code",
      "source": [
        "### resnet training strategy\n",
        "# val_loss 기준 체크포인터도 생성합니다.\n",
        "resnet_filename = \"resnet_best_model.ckpt\"\n",
        "checkpoint = ModelCheckpoint(resnet_filename, \n",
        "                             save_weights_only=True,\n",
        "                             save_best_only=True,\n",
        "                             monitor='val_loss',\n",
        "                             verbose=1)\n",
        "\n",
        "\n",
        "## config variables\n",
        "batch_size = 128\n",
        "lr = 1e-3\n",
        "epochs = 30\n",
        "\n",
        "# learning rate를 업데이트 해보려고 합니다\n",
        "def scheduler(epoch, learning_rate):\n",
        "    if epoch < 25:\n",
        "        return learning_rate\n",
        "    elif epoch < 50:\n",
        "        return lr/10\n",
        "    elif epoch < 75:\n",
        "        return lr/50\n",
        "    else:\n",
        "        return lr/100 \n",
        "    \n",
        "#optimizer = SGD(learning_rate=lr, momentum=0.9)\n",
        "optimizer = Adam(learning_rate=lr)\n",
        "loss_fn = 'sparse_categorical_crossentropy'\n",
        "metrics = ['accuracy']\n",
        "lr_callback = LearningRateScheduler(scheduler)\n",
        "\n",
        "resnet.compile(optimizer=optimizer,\n",
        "               loss=loss_fn,\n",
        "               metrics=metrics)"
      ],
      "metadata": {
        "id": "jvnMbbrs3IYF"
      },
      "execution_count": 15,
      "outputs": []
    },
    {
      "cell_type": "code",
      "source": [
        "# training ResNet50\n",
        "resnet_history = resnet.fit(X_train, y_train,\n",
        "                            batch_size=batch_size,\n",
        "                            epochs=epochs,\n",
        "                            validation_data=(X_test, y_test),\n",
        "                            callbacks=[lr_callback, checkpoint],\n",
        "                            verbose=2)"
      ],
      "metadata": {
        "id": "ugA0csg_1LiX",
        "colab": {
          "base_uri": "https://localhost:8080/"
        },
        "outputId": "2b40a409-2de9-42ac-f911-a32e90bc1f05"
      },
      "execution_count": 16,
      "outputs": [
        {
          "output_type": "stream",
          "name": "stdout",
          "text": [
            "Epoch 1/30\n",
            "\n",
            "Epoch 1: val_loss improved from inf to 10.89961, saving model to resnet_best_model.ckpt\n",
            "391/391 - 35s - loss: 4.3102 - accuracy: 0.1002 - val_loss: 10.8996 - val_accuracy: 0.0730 - lr: 0.0010 - 35s/epoch - 90ms/step\n",
            "Epoch 2/30\n",
            "\n",
            "Epoch 2: val_loss did not improve from 10.89961\n",
            "391/391 - 24s - loss: 3.7675 - accuracy: 0.1731 - val_loss: 18.6424 - val_accuracy: 0.0512 - lr: 0.0010 - 24s/epoch - 61ms/step\n",
            "Epoch 3/30\n",
            "\n",
            "Epoch 3: val_loss did not improve from 10.89961\n",
            "391/391 - 24s - loss: 3.5875 - accuracy: 0.2181 - val_loss: 6913.1128 - val_accuracy: 0.0171 - lr: 0.0010 - 24s/epoch - 61ms/step\n",
            "Epoch 4/30\n",
            "\n",
            "Epoch 4: val_loss improved from 10.89961 to 6.45385, saving model to resnet_best_model.ckpt\n",
            "391/391 - 26s - loss: 4.0183 - accuracy: 0.1674 - val_loss: 6.4539 - val_accuracy: 0.1199 - lr: 0.0010 - 26s/epoch - 68ms/step\n",
            "Epoch 5/30\n",
            "\n",
            "Epoch 5: val_loss improved from 6.45385 to 3.36845, saving model to resnet_best_model.ckpt\n",
            "391/391 - 25s - loss: 3.7627 - accuracy: 0.1895 - val_loss: 3.3685 - val_accuracy: 0.1944 - lr: 0.0010 - 25s/epoch - 65ms/step\n",
            "Epoch 6/30\n",
            "\n",
            "Epoch 6: val_loss did not improve from 3.36845\n",
            "391/391 - 24s - loss: 3.3263 - accuracy: 0.2388 - val_loss: 3.4246 - val_accuracy: 0.2295 - lr: 0.0010 - 24s/epoch - 62ms/step\n",
            "Epoch 7/30\n",
            "\n",
            "Epoch 7: val_loss did not improve from 3.36845\n",
            "391/391 - 24s - loss: 3.2890 - accuracy: 0.2381 - val_loss: 3.5908 - val_accuracy: 0.2340 - lr: 0.0010 - 24s/epoch - 61ms/step\n",
            "Epoch 8/30\n",
            "\n",
            "Epoch 8: val_loss improved from 3.36845 to 3.31126, saving model to resnet_best_model.ckpt\n",
            "391/391 - 25s - loss: 2.9204 - accuracy: 0.2936 - val_loss: 3.3113 - val_accuracy: 0.2696 - lr: 0.0010 - 25s/epoch - 64ms/step\n",
            "Epoch 9/30\n",
            "\n",
            "Epoch 9: val_loss improved from 3.31126 to 2.97722, saving model to resnet_best_model.ckpt\n",
            "391/391 - 25s - loss: 2.9843 - accuracy: 0.2967 - val_loss: 2.9772 - val_accuracy: 0.2740 - lr: 0.0010 - 25s/epoch - 63ms/step\n",
            "Epoch 10/30\n",
            "\n",
            "Epoch 10: val_loss did not improve from 2.97722\n",
            "391/391 - 24s - loss: 3.1101 - accuracy: 0.2962 - val_loss: 736.7023 - val_accuracy: 0.1517 - lr: 0.0010 - 24s/epoch - 60ms/step\n",
            "Epoch 11/30\n",
            "\n",
            "Epoch 11: val_loss did not improve from 2.97722\n",
            "391/391 - 24s - loss: 2.8933 - accuracy: 0.3224 - val_loss: 3.0411 - val_accuracy: 0.2795 - lr: 0.0010 - 24s/epoch - 60ms/step\n",
            "Epoch 12/30\n",
            "\n",
            "Epoch 12: val_loss did not improve from 2.97722\n",
            "391/391 - 24s - loss: 2.6975 - accuracy: 0.3481 - val_loss: 3.3501 - val_accuracy: 0.3137 - lr: 0.0010 - 24s/epoch - 61ms/step\n",
            "Epoch 13/30\n",
            "\n",
            "Epoch 13: val_loss improved from 2.97722 to 2.70393, saving model to resnet_best_model.ckpt\n",
            "391/391 - 25s - loss: 2.4579 - accuracy: 0.4018 - val_loss: 2.7039 - val_accuracy: 0.3296 - lr: 0.0010 - 25s/epoch - 64ms/step\n",
            "Epoch 14/30\n",
            "\n",
            "Epoch 14: val_loss did not improve from 2.70393\n",
            "391/391 - 24s - loss: 2.1851 - accuracy: 0.4395 - val_loss: 3.3839 - val_accuracy: 0.3514 - lr: 0.0010 - 24s/epoch - 61ms/step\n",
            "Epoch 15/30\n",
            "\n",
            "Epoch 15: val_loss did not improve from 2.70393\n",
            "391/391 - 24s - loss: 1.9610 - accuracy: 0.4873 - val_loss: 9.0306 - val_accuracy: 0.3266 - lr: 0.0010 - 24s/epoch - 61ms/step\n",
            "Epoch 16/30\n",
            "\n",
            "Epoch 16: val_loss did not improve from 2.70393\n",
            "391/391 - 24s - loss: 1.7575 - accuracy: 0.5319 - val_loss: 3.3488 - val_accuracy: 0.3594 - lr: 0.0010 - 24s/epoch - 61ms/step\n",
            "Epoch 17/30\n",
            "\n",
            "Epoch 17: val_loss did not improve from 2.70393\n",
            "391/391 - 24s - loss: 1.7349 - accuracy: 0.5533 - val_loss: 16.1838 - val_accuracy: 0.3339 - lr: 0.0010 - 24s/epoch - 61ms/step\n",
            "Epoch 18/30\n",
            "\n",
            "Epoch 18: val_loss did not improve from 2.70393\n",
            "391/391 - 24s - loss: 1.4702 - accuracy: 0.6122 - val_loss: 6.3384 - val_accuracy: 0.3509 - lr: 0.0010 - 24s/epoch - 61ms/step\n",
            "Epoch 19/30\n",
            "\n",
            "Epoch 19: val_loss did not improve from 2.70393\n",
            "391/391 - 24s - loss: 1.1567 - accuracy: 0.6906 - val_loss: 4.8954 - val_accuracy: 0.3597 - lr: 0.0010 - 24s/epoch - 61ms/step\n",
            "Epoch 20/30\n",
            "\n",
            "Epoch 20: val_loss did not improve from 2.70393\n",
            "391/391 - 24s - loss: 0.9671 - accuracy: 0.7397 - val_loss: 5.8293 - val_accuracy: 0.3596 - lr: 0.0010 - 24s/epoch - 61ms/step\n",
            "Epoch 21/30\n",
            "\n",
            "Epoch 21: val_loss did not improve from 2.70393\n",
            "391/391 - 24s - loss: 0.6602 - accuracy: 0.8207 - val_loss: 4.3611 - val_accuracy: 0.3637 - lr: 0.0010 - 24s/epoch - 61ms/step\n",
            "Epoch 22/30\n",
            "\n",
            "Epoch 22: val_loss did not improve from 2.70393\n",
            "391/391 - 24s - loss: 0.5323 - accuracy: 0.8594 - val_loss: 6.7381 - val_accuracy: 0.3652 - lr: 0.0010 - 24s/epoch - 61ms/step\n",
            "Epoch 23/30\n",
            "\n",
            "Epoch 23: val_loss did not improve from 2.70393\n",
            "391/391 - 24s - loss: 0.4243 - accuracy: 0.8898 - val_loss: 4.6103 - val_accuracy: 0.3655 - lr: 0.0010 - 24s/epoch - 62ms/step\n",
            "Epoch 24/30\n",
            "\n",
            "Epoch 24: val_loss did not improve from 2.70393\n",
            "391/391 - 24s - loss: 0.6247 - accuracy: 0.8379 - val_loss: 5.1617 - val_accuracy: 0.3535 - lr: 0.0010 - 24s/epoch - 62ms/step\n",
            "Epoch 25/30\n",
            "\n",
            "Epoch 25: val_loss did not improve from 2.70393\n",
            "391/391 - 24s - loss: 0.4317 - accuracy: 0.8934 - val_loss: 3.8536 - val_accuracy: 0.3629 - lr: 0.0010 - 24s/epoch - 62ms/step\n",
            "Epoch 26/30\n",
            "\n",
            "Epoch 26: val_loss did not improve from 2.70393\n",
            "391/391 - 24s - loss: 0.1467 - accuracy: 0.9671 - val_loss: 4.6502 - val_accuracy: 0.3838 - lr: 1.0000e-04 - 24s/epoch - 62ms/step\n",
            "Epoch 27/30\n",
            "\n",
            "Epoch 27: val_loss did not improve from 2.70393\n",
            "391/391 - 24s - loss: 0.0951 - accuracy: 0.9820 - val_loss: 4.8932 - val_accuracy: 0.3847 - lr: 1.0000e-04 - 24s/epoch - 60ms/step\n",
            "Epoch 28/30\n",
            "\n",
            "Epoch 28: val_loss did not improve from 2.70393\n",
            "391/391 - 24s - loss: 0.0916 - accuracy: 0.9827 - val_loss: 8.2886 - val_accuracy: 0.3790 - lr: 1.0000e-04 - 24s/epoch - 61ms/step\n",
            "Epoch 29/30\n",
            "\n",
            "Epoch 29: val_loss did not improve from 2.70393\n",
            "391/391 - 25s - loss: 0.0786 - accuracy: 0.9854 - val_loss: 4.4260 - val_accuracy: 0.3855 - lr: 1.0000e-04 - 25s/epoch - 64ms/step\n",
            "Epoch 30/30\n",
            "\n",
            "Epoch 30: val_loss did not improve from 2.70393\n",
            "391/391 - 24s - loss: 0.0595 - accuracy: 0.9884 - val_loss: 5.6127 - val_accuracy: 0.3888 - lr: 1.0000e-04 - 24s/epoch - 60ms/step\n"
          ]
        }
      ]
    },
    {
      "cell_type": "code",
      "source": [
        "# evaluate\n",
        "loss, acc = resnet.evaluate(X_test, y_test, batch_size=batch_size)\n",
        "print(\"Loss : %.4f, Accuracy : %.4f\" % (loss, acc))"
      ],
      "metadata": {
        "id": "tD1fyPP3_49a",
        "colab": {
          "base_uri": "https://localhost:8080/"
        },
        "outputId": "78806d28-481a-4f9d-b2e6-ab57a032a28a"
      },
      "execution_count": 17,
      "outputs": [
        {
          "output_type": "stream",
          "name": "stdout",
          "text": [
            "79/79 [==============================] - 2s 19ms/step - loss: 5.6127 - accuracy: 0.3888\n",
            "Loss : 5.6127, Accuracy : 0.3888\n"
          ]
        }
      ]
    },
    {
      "cell_type": "code",
      "source": [
        "## loss visualize\n",
        "import matplotlib.pyplot as plt\n",
        "\n",
        "plt.figure(figsize=(8,4))\n",
        "plt.subplot(1, 2,1)\n",
        "plt.plot(resnet_history.history['loss'],'b-', label = \"training\")\n",
        "plt.plot(resnet_history.history['val_loss'], 'r:', label = \"validation\")\n",
        "plt.title(\"model - loss\")\n",
        "plt.legend()\n",
        "\n",
        "plt.subplot(1, 2, 2)\n",
        "plt.title(\"model - accuracy\")\n",
        "\n",
        "plt.plot(resnet_history.history['accuracy'], 'b-', label = \"training\")\n",
        "plt.plot(resnet_history.history['val_accuracy'], 'r:', label = \"validation\")\n",
        "\n",
        "plt.legend()\n",
        "plt.tight_layout()\n",
        "plt.show()"
      ],
      "metadata": {
        "id": "9XDnuNQK1hTW",
        "colab": {
          "base_uri": "https://localhost:8080/",
          "height": 297
        },
        "outputId": "aff7ee1f-203d-4844-9076-785099c39fe6"
      },
      "execution_count": 18,
      "outputs": [
        {
          "output_type": "display_data",
          "data": {
            "text/plain": [
              "<Figure size 576x288 with 2 Axes>"
            ],
            "image/png": "[encoded data removed]"
          },
          "metadata": {
            "needs_background": "light"
          }
        }
      ]
    },
    {
      "cell_type": "code",
      "source": [],
      "metadata": {
        "id": "axtj0EVpHJyn"
      },
      "execution_count": 18,
      "outputs": []
    }
  ]
}