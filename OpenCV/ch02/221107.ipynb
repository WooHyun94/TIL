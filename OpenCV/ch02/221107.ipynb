{
 "cells": [
  {
   "cell_type": "markdown",
   "metadata": {},
   "source": [
    "## 영상의 속성과 픽셀 값 참조\n",
    "- OpenCV는 영상 데이터를 numpy.ndarray로 표현"
   ]
  },
  {
   "cell_type": "code",
   "execution_count": 2,
   "metadata": {},
   "outputs": [
    {
     "name": "stdout",
     "output_type": "stream",
     "text": [
      "<class 'numpy.ndarray'> <class 'numpy.ndarray'>\n",
      "(480, 640) (480, 640, 3)\n",
      "uint8 uint8\n"
     ]
    }
   ],
   "source": [
    "import sys\n",
    "import cv2\n",
    "\n",
    "img1 = cv2.imread('cat.bmp', cv2.IMREAD_GRAYSCALE)\n",
    "img2 = cv2.imread('cat.bmp', cv2.IMREAD_COLOR)\n",
    "\n",
    "print(type(img1), type(img2))\n",
    "print(img1.shape, img2.shape)\n",
    "print(img1.dtype, img2.dtype)"
   ]
  },
  {
   "cell_type": "code",
   "execution_count": 3,
   "metadata": {},
   "outputs": [
    {
     "name": "stdout",
     "output_type": "stream",
     "text": [
      "w X h = 640 X 480\n"
     ]
    }
   ],
   "source": [
    "h, w = img1.shape\n",
    "print(f'w X h = {w} X {h}')"
   ]
  },
  {
   "cell_type": "code",
   "execution_count": 4,
   "metadata": {},
   "outputs": [
    {
     "name": "stdout",
     "output_type": "stream",
     "text": [
      "img1 is a grayscale image\n"
     ]
    }
   ],
   "source": [
    "if len(img1.shape) == 2:\n",
    "    print('img1 is a grayscale image')"
   ]
  },
  {
   "cell_type": "code",
   "execution_count": 6,
   "metadata": {},
   "outputs": [],
   "source": [
    "# for y in range(h):\n",
    "#     for x in range(w):\n",
    "#         img1[y, x] = 0\n",
    "#         img2[y, x] = (0, 255, 255)\n",
    "\n",
    "img1[ : , : ] = 0\n",
    "img2[ : , : ] = (0, 255, 255)\n",
    "\n",
    "cv2.imshow('img1', img1)\n",
    "cv2.imshow('img2', img2)\n",
    "\n",
    "cv2.waitKey()\n",
    "cv2.destroyAllWindows()"
   ]
  },
  {
   "cell_type": "code",
   "execution_count": null,
   "metadata": {},
   "outputs": [],
   "source": []
  }
 ],
 "metadata": {
  "kernelspec": {
   "display_name": "Python 3.8.13 ('kdt')",
   "language": "python",
   "name": "python3"
  },
  "language_info": {
   "codemirror_mode": {
    "name": "ipython",
    "version": 3
   },
   "file_extension": ".py",
   "mimetype": "text/x-python",
   "name": "python",
   "nbconvert_exporter": "python",
   "pygments_lexer": "ipython3",
   "version": "3.8.13"
  },
  "orig_nbformat": 4,
  "vscode": {
   "interpreter": {
    "hash": "7804435f03a357a321c78a28075d8371c0686055268c0f28257257161c9d8dd3"
   }
  }
 },
 "nbformat": 4,
 "nbformat_minor": 2
}
