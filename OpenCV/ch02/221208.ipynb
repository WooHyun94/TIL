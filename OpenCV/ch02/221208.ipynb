{
  "cells": [
    {
      "cell_type": "markdown",
      "metadata": {
        "id": "xTyw_C9C_PgX"
      },
      "source": [
        "## 카메라와 동영상 처리하기"
      ]
    },
    {
      "cell_type": "code",
      "execution_count": 1,
      "metadata": {
        "id": "Wz4IkVSO5eJy"
      },
      "outputs": [],
      "source": [
        "import sys\n",
        "import cv2\n",
        "import matplotlib.pyplot as plt"
      ]
    },
    {
      "cell_type": "code",
      "execution_count": 3,
      "metadata": {
        "colab": {
          "base_uri": "https://localhost:8080/",
          "height": 1000
        },
        "id": "bRkl2wsf7KEG",
        "outputId": "0ecd510c-175d-4fd7-c7f4-50499b4e70b9"
      },
      "outputs": [
        {
          "name": "stdout",
          "output_type": "stream",
          "text": [
            "1280 720\n",
            "1280 720\n"
          ]
        }
      ],
      "source": [
        "cap = cv2.VideoCapture('./video1.mp4')\n",
        "\n",
        "if not cap.isOpened():\n",
        "    print('camera open failed!')\n",
        "    sys.exit()\n",
        "\n",
        "w = int(cap.get(cv2.CAP_PROP_FRAME_WIDTH))\n",
        "h = int(cap.get(cv2.CAP_PROP_FRAME_HEIGHT))\n",
        "print(w, h)\n",
        "\n",
        "cap.set(cv2.CAP_PROP_FRAME_WIDTH, 320)\n",
        "cap.set(cv2.CAP_PROP_FRAME_HEIGHT, 240)\n",
        "w = int(cap.get(cv2.CAP_PROP_FRAME_WIDTH))\n",
        "h = int(cap.get(cv2.CAP_PROP_FRAME_HEIGHT))\n",
        "print(w, h)\n",
        "\n",
        "while True:\n",
        "    ret, frame = cap.read()\n",
        "\n",
        "    if not ret:\n",
        "        break\n",
        "\n",
        "    edge = cv2.Canny(frame, 50, 150)\n",
        "    \n",
        "    cv2.imshow('frame', frame)\n",
        "    cv2.imshow('edge', edge)\n",
        "    if cv2.waitKey(20) == 27: # ESC\n",
        "        break\n",
        "\n",
        "cap.release()\n",
        "cv2.destroyAllWindows()"
      ]
    },
    {
      "cell_type": "code",
      "execution_count": 6,
      "metadata": {
        "id": "-xC6Tqxz7cGt"
      },
      "outputs": [
        {
          "name": "stdout",
          "output_type": "stream",
          "text": [
            "1280 720\n"
          ]
        }
      ],
      "source": [
        "cap = cv2.VideoCapture('./video1.mp4')\n",
        "\n",
        "if not cap.isOpened():\n",
        "    print('camera open failed!')\n",
        "    sys.exit()\n",
        "\n",
        "w = round(cap.get(cv2.CAP_PROP_FRAME_WIDTH))\n",
        "h = round(cap.get(cv2.CAP_PROP_FRAME_HEIGHT))\n",
        "fps = 30\n",
        "print(w, h)\n",
        "\n",
        "fourcc = cv2.VideoWriter_fourcc(*'DIVX')\n",
        "delay = round(1000 / fps)\n",
        "\n",
        "out = cv2.VideoWriter('output.avi', fourcc, fps, (w, h))\n",
        "\n",
        "if not out.isOpened():\n",
        "    print('File open failed!')\n",
        "    sys.exit()\n",
        "\n",
        "while True:\n",
        "    ret, frame = cap.read()\n",
        "\n",
        "    if not ret:\n",
        "        break\n",
        "\n",
        "    # inversed = ~frame\n",
        "    edge = cv2.Canny(frame, 50, 150)\n",
        "    edge_color = cv2.cvtColor(edge, cv2.COLOR_GRAY2BGR)\n",
        "\n",
        "    out.write(frame)\n",
        "    #  out.write(inversed)\n",
        "    #  out.write(edge_color)\n",
        "\n",
        "    \n",
        "    cv2.imshow('frame', frame)\n",
        "    # cv2.imshow('inversed', inversed)\n",
        "    # cv2.imshow('edge_color', edge_color)\n",
        "    if cv2.waitKey(20) == 27: # ESC\n",
        "        break\n",
        "\n",
        "cap.release()\n",
        "out.release()\n",
        "cv2.destroyAllWindows()"
      ]
    },
    {
      "cell_type": "markdown",
      "metadata": {
        "id": "1dPzMFZbE7vj"
      },
      "source": [
        "## 키보드 이벤트 처리"
      ]
    },
    {
      "cell_type": "code",
      "execution_count": 7,
      "metadata": {
        "id": "NKvSFRXvBixN"
      },
      "outputs": [],
      "source": [
        "import numpy as np"
      ]
    },
    {
      "cell_type": "code",
      "execution_count": 8,
      "metadata": {
        "id": "y_V70kGWBlUl"
      },
      "outputs": [],
      "source": [
        "img = cv2.imread('cat.bmp', cv2.IMREAD_GRAYSCALE)\n",
        "\n",
        "if img is None:\n",
        "    print('Image load failed!')\n",
        "    sys.exit()\n",
        "\n",
        "cv2.namedWindow('image')\n",
        "cv2.imshow('image', img)\n",
        "\n",
        "while True:\n",
        "    key = cv2.waitKey()\n",
        "    if key == 27:\n",
        "        break\n",
        "    elif key == ord('i') or key == ord('I'):\n",
        "        img = ~img\n",
        "        cv2.imshow('image', img)\n",
        "\n",
        "\n",
        "cv2.destroyAllWindows()"
      ]
    },
    {
      "cell_type": "markdown",
      "metadata": {
        "id": "u3in2CeVKd9f"
      },
      "source": [
        "## 마우스 이벤트 처리"
      ]
    },
    {
      "cell_type": "code",
      "execution_count": null,
      "metadata": {
        "id": "Lhgql-H-KjJ8"
      },
      "outputs": [],
      "source": []
    }
  ],
  "metadata": {
    "colab": {
      "provenance": []
    },
    "gpuClass": "standard",
    "kernelspec": {
      "display_name": "Python 3.8.13 ('kdt')",
      "language": "python",
      "name": "python3"
    },
    "language_info": {
      "codemirror_mode": {
        "name": "ipython",
        "version": 3
      },
      "file_extension": ".py",
      "mimetype": "text/x-python",
      "name": "python",
      "nbconvert_exporter": "python",
      "pygments_lexer": "ipython3",
      "version": "3.8.13 (default, Mar 28 2022, 06:59:08) [MSC v.1916 64 bit (AMD64)]"
    },
    "vscode": {
      "interpreter": {
        "hash": "7804435f03a357a321c78a28075d8371c0686055268c0f28257257161c9d8dd3"
      }
    }
  },
  "nbformat": 4,
  "nbformat_minor": 0
}
