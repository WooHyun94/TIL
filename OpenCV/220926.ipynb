{
 "cells": [
  {
   "cell_type": "markdown",
   "metadata": {},
   "source": [
    "## 컴퓨터 비전\n",
    "- 컴퓨터를 이용하여 정지 영상 또는 동영상으로부터 의미 있는 정보를 추출하는 방법을 연구하는 학문\n",
    "- 즉, 사람이 눈으로 사물을 보고 인지하는 작업을 컴퓨터가 수행하게끔 만드는 학문\n",
    "\n",
    "## 영상이란?\n",
    "- 픽셀이 바둑판 모양의 격자에 나열되어 있는 형태\n",
    "- 픽셀 : 영상의 기본 단위\n",
    "\n",
    "## 그레이스케일 영상 (numpy.uint8)\n",
    "- 흑백 사진처럼 색상 정보가 없이 오직 밝기 정보만으로 구성된 영상\n",
    "- 밝기 정보를 256 단계로 표현\n",
    "\n",
    "## 트루컬러 영상 (tuple, numpy.ndarray)\n",
    "- 컬러 사진처럼 색상 정보를 가지고 있어서 다양한 색상을 표현할 수 있는 영상\n",
    "- Red, Green, Blue 색 성분을 256 단계로 표현\n",
    "-> 256^3 개의 색상을 표현 가능\n",
    "\n",
    "## 영상의 표현 방법 (화면 좌표계)\n",
    "- 영상에서 주로 사용되는 좌표계 (우측으로 X 증가, 아래로 Y 증가)\n",
    "- w-by-h image\n",
    "\n",
    "## OpenCV\n"
   ]
  },
  {
   "cell_type": "code",
   "execution_count": 7,
   "metadata": {},
   "outputs": [],
   "source": [
    "import cv2"
   ]
  },
  {
   "cell_type": "code",
   "execution_count": 8,
   "metadata": {},
   "outputs": [
    {
     "data": {
      "text/plain": [
       "'4.6.0'"
      ]
     },
     "execution_count": 8,
     "metadata": {},
     "output_type": "execute_result"
    }
   ],
   "source": [
    "cv2.__version__"
   ]
  },
  {
   "cell_type": "code",
   "execution_count": null,
   "metadata": {},
   "outputs": [],
   "source": []
  }
 ],
 "metadata": {
  "kernelspec": {
   "display_name": "Python 3.8.13 ('kdt')",
   "language": "python",
   "name": "python3"
  },
  "language_info": {
   "codemirror_mode": {
    "name": "ipython",
    "version": 3
   },
   "file_extension": ".py",
   "mimetype": "text/x-python",
   "name": "python",
   "nbconvert_exporter": "python",
   "pygments_lexer": "ipython3",
   "version": "3.8.13"
  },
  "orig_nbformat": 4,
  "vscode": {
   "interpreter": {
    "hash": "7804435f03a357a321c78a28075d8371c0686055268c0f28257257161c9d8dd3"
   }
  }
 },
 "nbformat": 4,
 "nbformat_minor": 2
}
